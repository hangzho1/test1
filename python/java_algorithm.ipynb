{
 "cells": [
  {
   "cell_type": "code",
   "execution_count": 1,
   "metadata": {},
   "outputs": [
    {
     "name": "stdin",
     "output_type": "stream",
     "text": [
      " d \n"
     ]
    }
   ],
   "source": [
    "import java.util.*;\n",
    "import java.io.*;\n",
    "Scanner cin = new Scanner(System.in);\n",
    "    int a, b;\n",
    "    while (cin.hasNextInt()){\n",
    "        a = cin.nextInt();\n",
    "        b = cin.nextInt();\n",
    "        System.out.println(a+b);\n",
    "    }\n",
    "        "
   ]
  },
  {
   "cell_type": "code",
   "execution_count": 2,
   "metadata": {},
   "outputs": [
    {
     "name": "stdout",
     "output_type": "stream",
     "text": [
      "123\n",
      "112\n"
     ]
    }
   ],
   "source": [
    "Integer i  = new Integer(\"123\");\n",
    "System.out.println(i);\n",
    "Integer i = new Integer(112);\n",
    "int i0 = i.intValue();\n",
    "System.out.println(i0);"
   ]
  },
  {
   "cell_type": "code",
   "execution_count": 3,
   "metadata": {},
   "outputs": [
    {
     "name": "stdout",
     "output_type": "stream",
     "text": [
      "500\n",
      "314\n",
      "4.56\n"
     ]
    }
   ],
   "source": [
    "// int i = 500;\n",
    "// Integer t = new Integer(i);\n",
    "Integer t = 500;\n",
    "String s = t.toString();\n",
    "System.out.println(s);\n",
    "\n",
    "String s1 = Integer.toString(314);\n",
    "System.out.println(s1);\n",
    "String s2 = \"4.56\";\n",
    "double ds = Double.parseDouble(s2);\n",
    "System.out.println(ds);"
   ]
  },
  {
   "cell_type": "code",
   "execution_count": 4,
   "metadata": {},
   "outputs": [
    {
     "name": "stdout",
     "output_type": "stream",
     "text": [
      "105\n",
      "105\n"
     ]
    }
   ],
   "source": [
    "import java.util.*;\n",
    "import java.util.stream.IntStream;\n",
    "int[] numbers = { 1, 2, 3, 4, 55 ,6, 7, 8, 9 , 10 };\n",
    "int sum;\n",
    "for(int i = 0; i < numbers.length; i++){\n",
    "    sum += numbers[i];\n",
    "}\n",
    "System.out.println(sum);\n",
    "sum = IntStream.of(numbers).sum();\n",
    "System.out.println(sum);\n"
   ]
  },
  {
   "cell_type": "code",
   "execution_count": 5,
   "metadata": {},
   "outputs": [
    {
     "name": "stdout",
     "output_type": "stream",
     "text": [
      "0\n",
      "2\n",
      "[I@25e67cfb\n",
      "[I@25e67cfb\n",
      "[1, 2, 3, 4, 5]\n"
     ]
    }
   ],
   "source": [
    "import java.util.Arrays;\n",
    "int[] arr =new int[6];\n",
    "arr[0] =100;\n",
    "System.out.println(arr[1]);\n",
    "//创建数组的第二种方法\n",
    "int[] x={1,2,3,4};\n",
    "System.out.println(x[1]);\n",
    "//创建数组的第三种方法。\n",
    "int[] y= new int[]{1,2,3,4,5};\n",
    "System.out.println(y);\n",
    "System.out.println(y.toString());\n",
    "System.out.println(Arrays.toString(y));"
   ]
  },
  {
   "cell_type": "code",
   "execution_count": 6,
   "metadata": {},
   "outputs": [],
   "source": [
    "import java.util.*;\n",
    "import java.io.BufferedReader;\n",
    "import java.io.IOException;\n",
    "import java.io.InputStreamReader;\n",
    "import java.util.stream.IntStream;\n",
    "public class java_algorithm{\n",
    "    public static void main(String[] args) throws IOException{\n",
    "        BufferedReader bf = new BufferedReader(new InputStreamReader(System.in));\n",
    "        int n = Integer.parseInt(bf.readLine());\n",
    "        String[] arr = bf.readLine().split(\" \");\n",
    "        while(arr != null && n>0){\n",
    "            int sum=0;\n",
    "            for(int i =1;i<arr.length;i++){\n",
    "                sum += Integer.parseInt(arr[i]);\n",
    "            }\n",
    "            System.out.println(sum);\n",
    "            arr = bf.readLine().split(\" \");\n",
    "            n-=1;\n",
    "        }\n",
    "    }\n",
    "}"
   ]
  },
  {
   "cell_type": "code",
   "execution_count": 7,
   "metadata": {},
   "outputs": [
    {
     "name": "stdout",
     "output_type": "stream",
     "text": [
      "[1, a, b, c, d, 8]\n",
      "true\n",
      "[a, b, c, d, 8]\n",
      "true\n",
      "a\n",
      "b\n",
      "c\n",
      "d\n",
      "8\n",
      "a\n",
      "b\n",
      "c\n",
      "d\n",
      "8\n",
      "5\n",
      "[a, 2]\n"
     ]
    }
   ],
   "source": [
    "import java.util.*;\n",
    "Set set = new HashSet();\n",
    "Set<Object> set = new HashSet<Object>();//和上面的等价\n",
    "set.add(1);\n",
    "set.add(8);\n",
    "set.add(\"a\");\n",
    "set.add(\"b\");\n",
    "set.add(\"c\");\n",
    "set.add(\"d\");\n",
    "\n",
    "System.out.println(set);\n",
    "System.out.println(set.remove(1));\n",
    "System.out.println(set);\n",
    "System.out.println(set.contains(\"a\"));\n",
    "// 法一：迭代器遍历\n",
    "Iterator it = set.iterator();\n",
    "while(it.hasNext()){\n",
    "    System.out.println(it.next());\n",
    "}\n",
    "// 法二：for each 迭代\n",
    "for(Object obj:set){//这行带爬的意思是把set的每一个值取出来，赋值给obj,知道循环set的所有值\n",
    "    System.out.println(obj);\n",
    "}\n",
    "System.out.println(set.size());                \n",
    "Set<String> set1 =new HashSet<>();\n",
    "set1.add(\"2\");\n",
    "// set1.add(5);\n",
    "set1.add(\"a\");\n",
    "System.out.println(set1);             "
   ]
  },
  {
   "cell_type": "code",
   "execution_count": 8,
   "metadata": {},
   "outputs": [
    {
     "name": "stdout",
     "output_type": "stream",
     "text": [
      "河南省,       郑州市,管城区\n",
      "河南省\n",
      "       郑州市\n",
      "河南省,       郑州市,管城区\n"
     ]
    }
   ],
   "source": [
    "String a= \"河南省,       郑州市,管城区\";\n",
    "\n",
    "String b0= a.split(\",\")[0];\n",
    "String b1=a.split(\",\")[1];\n",
    "System.out.println(a);\n",
    "String b = a;\n",
    "String a = b0;\n",
    "System.out.println(a);\n",
    "System.out.println(b1);\n",
    "System.out.println(b);\n",
    "    "
   ]
  },
  {
   "cell_type": "code",
   "execution_count": 9,
   "metadata": {},
   "outputs": [
    {
     "name": "stdout",
     "output_type": "stream",
     "text": [
      "1\n",
      "[Ljava.lang.String;@38fff303\n",
      "[1, 1, 3, 4]\n"
     ]
    }
   ],
   "source": [
    "import java.util.*;\n",
    "String[] numbers = {\"1\",\"2\",\"3\",\"4\"};\n",
    "numbers[1] = \"1\";\n",
    "System.out.println(numbers[1]);\n",
    "System.out.println(numbers);\n",
    "System.out.println(Arrays.toString(numbers));\n",
    "// System.out.println(getType(numbers[1]));"
   ]
  },
  {
   "cell_type": "code",
   "execution_count": 10,
   "metadata": {},
   "outputs": [
    {
     "name": "stdout",
     "output_type": "stream",
     "text": [
      "[null, null, D, E, F, null]\n",
      "[0, 0, 8, 10, 11, 0]\n"
     ]
    }
   ],
   "source": [
    "import java.util.*;\n",
    "String[] arr = {\"A\",\"B\",\"C\",\"D\",\"E\",\"F\"};\n",
    "String[] arry = new String[arr.length];\n",
    "System.arraycopy(arr ,3,arry,2,3);\n",
    "System.out.println(Arrays.toString(arry));\n",
    "\n",
    "// 数字数组默认为0，字符数组默认为null\n",
    "int[] arr = {2,6,7,8,10,11};\n",
    "int[] arry = new int[arr.length];\n",
    "System.arraycopy(arr ,3,arry,2,3);\n",
    "System.out.println(Arrays.toString(arry));"
   ]
  },
  {
   "cell_type": "code",
   "execution_count": 11,
   "metadata": {},
   "outputs": [
    {
     "name": "stdout",
     "output_type": "stream",
     "text": [
      "[1, 2, 3]\n",
      "[2, 3]\n"
     ]
    }
   ],
   "source": [
    "import java.util.*;\n",
    "int []n=new int[] {1,2,3};\n",
    "int []a=new int[n.length-1];\n",
    "int index=0;//指定要删除的元素的下标\n",
    "//进行数组复制，把n数组复制到a数组中\n",
    "System.arraycopy(n, 1, a, 0, 2);\n",
    "// System.arraycopy(n, index+1, n, index, n.length-1-index);\n",
    "System.out.println(Arrays.toString(n));\n",
    "System.out.println(Arrays.toString(a));\n"
   ]
  },
  {
   "cell_type": "code",
   "execution_count": 12,
   "metadata": {},
   "outputs": [
    {
     "name": "stdout",
     "output_type": "stream",
     "text": [
      "2\n"
     ]
    }
   ],
   "source": [
    "Integer[]n=new Integer[] {1,2,3,2,5};\n",
    "System.out.println(n[1]);"
   ]
  },
  {
   "cell_type": "code",
   "execution_count": 13,
   "metadata": {},
   "outputs": [
    {
     "name": "stdout",
     "output_type": "stream",
     "text": [
      "{3=11, 1=12, 5=23, 2=33}\n",
      "{1=12, 5=23, 2=33, 3=26}\n",
      "{1=12, 2=33, 3=26, 5=23}\n",
      "{1=12, 3=26, 5=23, 2=22}\n",
      "12\n",
      "26\n",
      "23\n",
      "22\n",
      "26\n"
     ]
    }
   ],
   "source": [
    "import java.util.*;\n",
    "///这一句话后面的（10,0.75f,true） 什么意思\n",
    "HashMap<Integer,Integer> m = new LinkedHashMap<Integer,Integer>(10,0.75f,true);\n",
    "m.put(3,11);\n",
    "m.put(1,12);\n",
    "m.put(5,23);\n",
    "m.put(2,33);\n",
    "System.out.println(m);\n",
    "m.put(3,26);\n",
    "System.out.println(m);\n",
    "m.get(5);\n",
    "System.out.println(m);\n",
    "m.put(2,22);\n",
    "System.out.println(m);\n",
    "for(Map.Entry e:m.entrySet()){\n",
    "    System.out.println(e.getValue());\n",
    "}\n",
    "System.out.println(m.get(3));"
   ]
  },
  {
   "cell_type": "code",
   "execution_count": 14,
   "metadata": {},
   "outputs": [
    {
     "name": "stdout",
     "output_type": "stream",
     "text": [
      "[I@4169dd06\n",
      "[2, 2, 2, 2, 2]\n"
     ]
    }
   ],
   "source": [
    "import java.util.Arrays;\n",
    "int[] arr = new int[5];\n",
    "Arrays.fill(arr,2);\n",
    "System.out.println(arr);\n",
    "System.out.println(Arrays.toString(arr));"
   ]
  },
  {
   "cell_type": "code",
   "execution_count": 15,
   "metadata": {},
   "outputs": [
    {
     "name": "stdout",
     "output_type": "stream",
     "text": [
      "[1, 3, 5, 35, 3241]\n"
     ]
    }
   ],
   "source": [
    "int[] nums = {3,1,5,3241,35};\n",
    "Arrays.sort(nums);\n",
    "System.out.println(Arrays.toString(nums));"
   ]
  },
  {
   "cell_type": "code",
   "execution_count": 16,
   "metadata": {},
   "outputs": [
    {
     "name": "stdout",
     "output_type": "stream",
     "text": [
      "1\n"
     ]
    }
   ],
   "source": [
    "//random（）方法会返回介于0,1之间的值\n",
    "int rand1 =(int)(Math.random()*10);\n",
    "System.out.println(rand1);"
   ]
  },
  {
   "cell_type": "code",
   "execution_count": 17,
   "metadata": {},
   "outputs": [
    {
     "name": "stdout",
     "output_type": "stream",
     "text": [
      "8\n"
     ]
    }
   ],
   "source": [
    "import java.util.*;\n",
    "Integer j = new Integer(5);\n",
    "int k = j  + 3;\n",
    "System.out.println(k);"
   ]
  },
  {
   "cell_type": "code",
   "execution_count": 18,
   "metadata": {},
   "outputs": [
    {
     "name": "stdout",
     "output_type": "stream",
     "text": [
      "123324123\n",
      "12abc324123\n",
      "321423cba21\n",
      "321423cba21zhouhang\n"
     ]
    }
   ],
   "source": [
    "// String类里面的替换是字符串，String.replace(char a,char b)\n",
    "// StringBuilder替换的是StringBuilder.replace(int a,int b,String c)\n",
    "import java.util.*;\n",
    "        StringBuffer b = new StringBuffer(\"123\");\n",
    "        b.append(\"324123\");\n",
    "        System.out.println(b);\n",
    "        b.replace(2,3,\"abc\");\n",
    "        System.out.println(b);\n",
    "        b.reverse();\n",
    "        System.out.println(b);\n",
    "System.out.println(b.append(\"zhouhang\"))"
   ]
  },
  {
   "cell_type": "code",
   "execution_count": 19,
   "metadata": {},
   "outputs": [
    {
     "name": "stdout",
     "output_type": "stream",
     "text": [
      "[1, 324, 323]\n",
      "[1000, 324, 323]\n",
      "1000\n",
      "[1000, 324, 323]\n",
      "[1000, 3, 323]\n",
      "[1000, 324, 323]\n",
      "[1000, 324, 323]\n"
     ]
    }
   ],
   "source": [
    "// clone虽然是浅拷贝，但是用起来的感觉就像深拷贝\n",
    "import java.util.*;\n",
    "String[] nums = {\"1\",\"324\",\"323\"};\n",
    "String[] a = nums;\n",
    "System.out.println(Arrays.toString(a));\n",
    "a[0] = String.valueOf(1000);\n",
    "System.out.println(Arrays.toString(a));\n",
    "System.out.println(a[0]);\n",
    "System.out.println(Arrays.toString(nums));\n",
    "String[] b = nums.clone();\n",
    "b[1] = String.valueOf(3);\n",
    "System.out.println(Arrays.toString(b));\n",
    "System.out.println(Arrays.toString(a));\n",
    "System.out.println(Arrays.toString(nums));"
   ]
  },
  {
   "cell_type": "code",
   "execution_count": 20,
   "metadata": {},
   "outputs": [
    {
     "name": "stdout",
     "output_type": "stream",
     "text": [
      "{(=), {=}, [=], ?=?}\n"
     ]
    }
   ],
   "source": [
    "//这种类型的 Map和Linkedlist都可以\n",
    "Map<Character,Character> map = new HashMap<Character,Character>(){{\n",
    "    put('{','}'); put('[',']'); put('(',')'); put('?','?');\n",
    "}};\n",
    "System.out.println(map);\n"
   ]
  },
  {
   "cell_type": "code",
   "execution_count": 21,
   "metadata": {},
   "outputs": [
    {
     "name": "stdout",
     "output_type": "stream",
     "text": [
      "1\n",
      "6\n"
     ]
    }
   ],
   "source": [
    "int a = 5;\n",
    "if(++a > 5){\n",
    "   System.out.println(1);\n",
    "}\n",
    "// System.out.println(b);\n",
    "System.out.println(a);"
   ]
  },
  {
   "cell_type": "code",
   "execution_count": 22,
   "metadata": {},
   "outputs": [
    {
     "name": "stdout",
     "output_type": "stream",
     "text": [
      "[9, 5, 6]\n",
      "[Ljava.lang.String;@4966b44\n",
      "[2, 5, 6]\n",
      "9\n",
      "2\n",
      "[2, 5, 6]\n",
      "5\n"
     ]
    }
   ],
   "source": [
    "import java.io.*;\n",
    "List<Integer> a = new ArrayList<>();\n",
    "a.add(5);\n",
    "a.add(6);\n",
    "a.add(0,9);\n",
    "System.out.println(a);\n",
    "System.out.println(b);\n",
    "int b = a.set(0,2);\n",
    "System.out.println(a);\n",
    "System.out.println(b);\n",
    "System.out.println(a.set(0,2));\n",
    "System.out.println(a);\n",
    "System.out.println(a.get(1));"
   ]
  },
  {
   "cell_type": "code",
   "execution_count": 23,
   "metadata": {},
   "outputs": [
    {
     "name": "stdout",
     "output_type": "stream",
     "text": [
      "[张三, 李四, 王五, 宋六, 赵七, 朱八, 何九, 田]\n",
      "[张三, 李四, 王五, 宋六, 赵七, 朱八, 何九, 田]\n",
      "5\n",
      "[张三, 李四, 王五, 宋六, 赵七, 朱八, 何九, 田]\n",
      "true\n",
      "张三\n",
      "[8, 张三, 李四, 王五, 宋六, 赵七, 朱八, 何九, 田]\n"
     ]
    }
   ],
   "source": [
    "import java.io.*;\n",
    "import java.util.*;\n",
    "import java.io.BufferedReader;\n",
    "import java.io.InputStreamReader;\n",
    "import java.io.IOException;\n",
    "import java.util.Arrays;\n",
    "import java.util.stream.IntStream;\n",
    "\n",
    "// String[] str={ \"张三\" , \"李四\" , \"王五\" , \"宋六\" , \"赵七\" , \"朱八\" , \"何九\" , \"田十\"};\n",
    "String[] str = new String[]{\"张三\" , \"李四\" , \"王五\" , \"宋六\" , \"赵七\" , \"朱八\" , \"何九\" , \"田\"};\n",
    "\n",
    "System.out.println(Arrays.toString(str));\n",
    "\n",
    "// if(str.contains(\"张三\"))System.out.println(5);String字符串中有contains方法，但是数组没有，只有转换为集合类型才有这种方法\n",
    "\n",
    "List<String> list = Arrays.asList(str);\n",
    "// list.remove(\"张三\");\n",
    "System.out.println(list);\n",
    "if(list.contains(\"李四\"))System.out.println(\"5\");\n",
    "// System.out.println(str.indexOf(\"张三\"));\n",
    "List<String> arr = new ArrayList<>(list);\n",
    "System.out.println(arr);\n",
    "arr.add(\"4\");\n",
    "System.out.println(arr.remove(\"李四\"));\n",
    "System.out.println(arr.remove(0));\n",
    "//不通过半成品，直接整，这种事不行的\n",
    "// List<String> arr1 = new ArrayList<>([\"张三\" , \"李四\" , \"王五\" , \"宋六\" , \"赵七\" , \"朱八\" , \"何九\" , \"田\"]);\n",
    "   //难道只能通过半成品转换吗，而且转换之前还要把数组写出来，而不能直接放？答：是可以直接放的，只是放的时候不能加任何括号\n",
    "List<String> arr1 = new ArrayList<>(Arrays.asList(str));\n",
    "// List<String> arr1 = new ArrayList<>(Arrays.asList(\"张三\" , \"李四\" , \"王五\" , \"宋六\" , \"赵七\" , \"朱八\" , \"何九\" , \"田\"));\n",
    "arr1.add(0,\"8\");\n",
    "System.out.println(arr1);"
   ]
  },
  {
   "cell_type": "code",
   "execution_count": 24,
   "metadata": {},
   "outputs": [
    {
     "name": "stdout",
     "output_type": "stream",
     "text": [
      "[I@b18173d\n",
      "-1\n",
      "[1, 3, 2, 5]\n",
      "5\n",
      "5\n",
      "[5, 3, 2, 1]\n",
      "[1, 2, 3, 5]\n"
     ]
    }
   ],
   "source": [
    "import java.util.*;\n",
    "int[] nums = new int[]{1,3,5,2,3};\n",
    "System.out.println(nums);\n",
    "List<Integer> list = new ArrayList<>(Arrays.asList(1,3,2,-1,5));\n",
    "// List<Integer> list = new ArrayList<>(Arrays.asList(nums)); int不行，但是换成和String类似的Integer就欧克\n",
    "//List集合移除的是索引，其它是下标\n",
    "System.out.println(list.remove(3));\n",
    "System.out.println(list);\n",
    "int a = Collections.max(list);\n",
    "System.out.println(a);\n",
    "System.out.println(Collections.max(list));\n",
    "list.sort(Comparator.reverseOrder());\n",
    "System.out.println(list);\n",
    "list.sort(Comparator.naturalOrder());\n",
    "System.out.println(list);"
   ]
  },
  {
   "cell_type": "code",
   "execution_count": 25,
   "metadata": {},
   "outputs": [
    {
     "name": "stdout",
     "output_type": "stream",
     "text": [
      "[1, 3, 5, 2, 3]\n",
      "[1, 3, 2, -1, 5, 6]\n",
      "[3, 51, 5, -1]\n",
      "51\n",
      "[-1, 3, 5, 51]\n",
      "[51, 5, 3, -1]\n"
     ]
    }
   ],
   "source": [
    "int[] nums = new int[]{1,3,5,2,3};\n",
    "System.out.println(Arrays.toString(nums));\n",
    "List<Integer> list = new ArrayList<>(Arrays.asList(1,3,2,-1,5,6));\n",
    "System.out.println(list);\n",
    "Integer[] arr = new Integer[]{3,51,5,-1};\n",
    "List<Integer> list1 = new ArrayList<>(Arrays.asList(arr));\n",
    "System.out.println(list1);\n",
    "System.out.println(Collections.max(list1));\n",
    "Collections.sort(list1);\n",
    "System.out.println(list1);\n",
    "// 这种都是没有返回值的\n",
    "Collections.reverse(list1);\n",
    "System.out.println(list1);"
   ]
  },
  {
   "cell_type": "code",
   "execution_count": 26,
   "metadata": {},
   "outputs": [
    {
     "name": "stdin",
     "output_type": "stream",
     "text": [
      " d\n"
     ]
    },
    {
     "name": "stdout",
     "output_type": "stream",
     "text": [
      "[3, d]\n"
     ]
    }
   ],
   "source": [
    "import java.util.*;\n",
    "import java.io.*;\n",
    "BufferedReader bf =new BufferedReader(new InputStreamReader(System.in));\n",
    "List<String> list = new ArrayList<>(Arrays.asList(bf.readLine().split(\",\")));\n",
    "list.add(0,\"3\");\n",
    "System.out.println(list);"
   ]
  },
  {
   "cell_type": "code",
   "execution_count": 27,
   "metadata": {},
   "outputs": [
    {
     "name": "stdout",
     "output_type": "stream",
     "text": [
      "10\n"
     ]
    }
   ],
   "source": [
    "//字符串可以查看某个元素的下标，字符串数组怎么查看呢\n",
    "String a = \"dasfdsafsda\";\n",
    "System.out.println(a.lastIndexOf(\"a\"));"
   ]
  },
  {
   "cell_type": "code",
   "execution_count": 28,
   "metadata": {},
   "outputs": [
    {
     "name": "stdout",
     "output_type": "stream",
     "text": [
      "张三\n",
      "李四\n",
      "王五\n",
      "宋六\n",
      "赵七\n",
      "朱八\n",
      "何九\n",
      "田\n"
     ]
    }
   ],
   "source": [
    "String[] str = new String[]{\"张三\" , \"李四\" , \"王五\" , \"宋六\" , \"赵七\" , \"朱八\" , \"何九\" , \"田\"};\n",
    "for(String s :str)System.out.println(s.toString());"
   ]
  },
  {
   "cell_type": "code",
   "execution_count": 29,
   "metadata": {},
   "outputs": [
    {
     "name": "stdout",
     "output_type": "stream",
     "text": [
      "15\n"
     ]
    }
   ],
   "source": [
    "StringBuffer arr1 = new StringBuffer();\n",
    "arr1.append(\"1\");\n",
    "arr1.append(5);\n",
    "System.out.println(arr1);"
   ]
  },
  {
   "cell_type": "code",
   "execution_count": 30,
   "metadata": {},
   "outputs": [
    {
     "name": "stdout",
     "output_type": "stream",
     "text": [
      "[12, 1, 8, 9, 3, 4, 5]\n",
      "[-1, 12, 1, 8, 9, 3, 4, 5, 9]\n",
      "12\n",
      "8\n",
      "[-1, 1, 9, 3, 4, 5, 9]\n"
     ]
    }
   ],
   "source": [
    "// 判断集合能否从指定位置删除\n",
    "import java.util.*;\n",
    "List<Integer> list = new ArrayList<>(Arrays.asList(12,1,8,9,3,4,5));\n",
    "System.out.println(list);\n",
    "list.add(9);\n",
    "list.add(0,-1);\n",
    "System.out.println(list);\n",
    "//从这里看其实可以看出可以用索引删除的，可是如果出现了数字和索引冲突怎么办,好像是以索引为主\n",
    "\n",
    "int a = list.remove(1);\n",
    "System.out.println(a);\n",
    "//remove 是有返回值的\n",
    "System.out.println(list.remove(2));\n",
    "System.out.println(list);"
   ]
  },
  {
   "cell_type": "code",
   "execution_count": 31,
   "metadata": {},
   "outputs": [
    {
     "name": "stdout",
     "output_type": "stream",
     "text": [
      "[2, 6, 4, 8, 10, 9, 15]\n",
      "[2, 6, 4, 8, 10, 9, 15]\n",
      "[100, 6, 4, 8, 10, 9, 15]\n"
     ]
    }
   ],
   "source": [
    "import java.util.*;\n",
    "int[] nums = {2,6,4,8,10,9,15};\n",
    "///java中数组的克隆和列表的克隆都不需要新建一个内存\n",
    "int[] b = nums.clone();\n",
    "System.out.println(Arrays.toString(nums));\n",
    "System.out.println(Arrays.toString(b));\n",
    "b[0] =100;\n",
    "System.out.println(Arrays.toString(b));"
   ]
  },
  {
   "cell_type": "code",
   "execution_count": 32,
   "metadata": {},
   "outputs": [
    {
     "name": "stdout",
     "output_type": "stream",
     "text": [
      "[1, a, b, c, d, 8]\n",
      "false\n",
      "[1, a, b, c, d, 8]\n",
      "true\n"
     ]
    },
    {
     "ename": "CompilationException",
     "evalue": "",
     "output_type": "error",
     "traceback": [
      "\u001b[1m\u001b[30m|   \u001b[1m\u001b[30mSystem.out.println(\u001b[0m\u001b[1m\u001b[30m\u001b[41mset.get\u001b[0m\u001b[1m\u001b[30m(1));\u001b[0m",
      "\u001b[1m\u001b[31m找不到符号\u001b[0m",
      "\u001b[1m\u001b[31m  符号:   方法 get(int)\u001b[0m",
      "\u001b[1m\u001b[31m  位置: 类型为java.util.Set<java.lang.Object>的变量 set\u001b[0m",
      ""
     ]
    }
   ],
   "source": [
    "import java.util.*;\n",
    "Set set = new HashSet();\n",
    "Set<Object> set = new HashSet<Object>();//和上面的等价\n",
    "set.add(1);\n",
    "set.add(8);\n",
    "set.add(\"a\");\n",
    "set.add(\"b\");\n",
    "set.add(\"c\");\n",
    "set.add(\"d\");\n",
    "System.out.println(set);\n",
    "// set里面如果有一个相同的值的话，再加入是加不进去的，显示错误\n",
    "System.out.println(set.add(1));\n",
    "\n",
    "System.out.println(set);\n",
    "System.out.println(set.contains(1));\n",
    "//set集合没有get\n",
    "System.out.println(set.get(1));\n"
   ]
  },
  {
   "cell_type": "code",
   "execution_count": 33,
   "metadata": {},
   "outputs": [
    {
     "name": "stdout",
     "output_type": "stream",
     "text": [
      "true\n",
      "false\n",
      "true\n",
      "false\n",
      "true\n"
     ]
    },
    {
     "ename": "CompilationException",
     "evalue": "",
     "output_type": "error",
     "traceback": [
      "\u001b[1m\u001b[30m|   \u001b[1m\u001b[30mSystem.out.println(\u001b[0m\u001b[1m\u001b[30m\u001b[41mCharacter.isDigit\u001b[0m\u001b[1m\u001b[30m(\"3\"));\u001b[0m",
      "\u001b[1m\u001b[31m对于isDigit(java.lang.String), 找不到合适的方法\u001b[0m",
      "\u001b[1m\u001b[31m    方法 java.lang.Character.isDigit(char)不适用\u001b[0m",
      "\u001b[1m\u001b[31m      (参数不匹配; java.lang.String无法转换为char)\u001b[0m",
      "\u001b[1m\u001b[31m    方法 java.lang.Character.isDigit(int)不适用\u001b[0m",
      "\u001b[1m\u001b[31m      (参数不匹配; java.lang.String无法转换为int)\u001b[0m",
      ""
     ]
    }
   ],
   "source": [
    "import java.util.*;\n",
    "import java.io.*;\n",
    "String a =\"3\";\n",
    "// 这样是不行的，好像isDigit不能对字符串形式来使用，即使这里只有一个3，但是因为是双引号，还是字符串，所以如果换成单引号会好\n",
    "System.out.println(Character.isDigit('1'));\n",
    "System.out.println(Character.isDigit('a'));\n",
    "System.out.println(Character.isDigit(a.charAt(0)));\n",
    "System.out.println(Character.isDigit(3));\n",
    "System.out.println(Character.isDigit('3'));\n",
    "System.out.println(Character.isDigit(\"3\"));\n",
    "// 这个不行是因为Character.valueOf(a)返回的是Character类型，而isDigit()方法只能输入字符型和数值型\n",
    "System.out.println(Character.isDigit(Character.valueOf(a)));\n"
   ]
  },
  {
   "cell_type": "code",
   "execution_count": 34,
   "metadata": {},
   "outputs": [
    {
     "name": "stdout",
     "output_type": "stream",
     "text": [
      "12\n",
      "2\n",
      "2\n",
      "2\n",
      "2\n",
      "50\n"
     ]
    },
    {
     "ename": "CompilationException",
     "evalue": "",
     "output_type": "error",
     "traceback": [
      "\u001b[1m\u001b[30m|   \u001b[1m\u001b[30mSystem.out.println(Integer.parseInt(\u001b[0m\u001b[1m\u001b[30m\u001b[41ma.charAt(1) - '0'\u001b[0m\u001b[1m\u001b[30m));\u001b[0m",
      "\u001b[1m\u001b[31m不兼容的类型: int无法转换为java.lang.String\u001b[0m",
      ""
     ]
    }
   ],
   "source": [
    "String a = \"12\";\n",
    "System.out.println(Integer.parseInt(a));\n",
    "System.out.println(String.valueOf(a.charAt(1)));\n",
    "System.out.println(Character.toString(a.charAt(1)));\n",
    "System.out.println(Integer.parseInt(String.valueOf(a.charAt(1))));\n",
    "//Integer.parseInt里面的parseInt只能对字符串用而不能对字符用\n",
    "// System.out.println(Integer.parseInt(a.charAt(1)));\n",
    "//如果将字符型转化为整数型的话，就是AscII码，所以通过字符串作为中间操作\n",
    "System.out.println(Integer.valueOf(a.charAt(1) - '0'));\n",
    "System.out.println(Integer.valueOf(a.charAt(1)));\n",
    "System.out.println(Integer.parseInt(a.charAt(1) - '0'));"
   ]
  },
  {
   "cell_type": "code",
   "execution_count": 35,
   "metadata": {},
   "outputs": [
    {
     "name": "stdout",
     "output_type": "stream",
     "text": [
      "2\n",
      "2\n",
      "50\n",
      "[2dasf]\n",
      "abdsadsadasf]\n",
      "bdsadsadasf]c\n",
      "dsadsadasf]c\n",
      "dsadsadasf]c\n",
      "abcdsadsadasf]c\n"
     ]
    }
   ],
   "source": [
    "String a = \"[2dasf]\";\n",
    "System.out.println(Character.toString(a.charAt(1)));\n",
    "System.out.println(Integer.valueOf('2' - '0'));\n",
    "System.out.println(Integer.valueOf('2'));\n",
    "StringBuilder a1 = new StringBuilder(a);\n",
    "a1.replace(0,2,\"abdsadsa\");\n",
    "System.out.println(a);\n",
    "System.out.println(a1);\n",
    "System.out.println(a1.append('c').delete(0,1));\n",
    "System.out.println(a1.deleteCharAt(0));\n",
    "System.out.println(a1);\n",
    "System.out.println(a1.insert(0,\"abc\"));"
   ]
  },
  {
   "cell_type": "code",
   "execution_count": 36,
   "metadata": {},
   "outputs": [
    {
     "name": "stdout",
     "output_type": "stream",
     "text": [
      "1.33453235E9\n",
      "1.33453235E9\n",
      "1334532324\n"
     ]
    }
   ],
   "source": [
    "String a = \"1334532324\";\n",
    "System.out.println(Float.valueOf(a));\n",
    "System.out.println(Float.parseFloat(a));\n",
    "System.out.println(Integer.parseInt(a));\n"
   ]
  },
  {
   "cell_type": "code",
   "execution_count": 37,
   "metadata": {},
   "outputs": [
    {
     "name": "stdout",
     "output_type": "stream",
     "text": [
      "0\n",
      "2\n"
     ]
    }
   ],
   "source": [
    "int a = 2;\n",
    "String b = \"720\";\n",
    "System.out.println(a/=5);\n",
    "System.out.println(b.charAt(b.length() -1 -1));"
   ]
  },
  {
   "cell_type": "code",
   "execution_count": 38,
   "metadata": {},
   "outputs": [
    {
     "name": "stdout",
     "output_type": "stream",
     "text": [
      "42\n",
      "2\n"
     ]
    }
   ],
   "source": [
    "import java.math.BigInteger;\n",
    "BigInteger a = new BigInteger(\"42\");\n",
    "System.out.println(a);\n",
    "// System.out.println(a.charAt(0));\n",
    "\n",
    "System.out.println(String.valueOf(a).length());"
   ]
  },
  {
   "cell_type": "code",
   "execution_count": 39,
   "metadata": {},
   "outputs": [
    {
     "name": "stdout",
     "output_type": "stream",
     "text": [
      "100\n",
      "100\n"
     ]
    }
   ],
   "source": [
    "int a =100;\n",
    "// long b = 1;\n",
    "System.out.println(Long.parseLong(String.valueOf(a)));\n",
    "System.out.println(Long.valueOf(a));"
   ]
  },
  {
   "cell_type": "code",
   "execution_count": 40,
   "metadata": {},
   "outputs": [
    {
     "name": "stdout",
     "output_type": "stream",
     "text": [
      "[3, 5, 6]\n"
     ]
    }
   ],
   "source": [
    "List<Integer> minStack = new ArrayList<>(){{add(3);add(5);add(6);}};\n",
    "System.out.println(minStack);\n",
    "// 这里怎么直接加数据"
   ]
  },
  {
   "cell_type": "code",
   "execution_count": 41,
   "metadata": {},
   "outputs": [
    {
     "name": "stdout",
     "output_type": "stream",
     "text": [
      "网站列表: [ogle, Runoob, Taobao]\n",
      "[ogle, Runoob, Taobao, h会变]\n",
      "[Runoob, Taobao, h会变, ogle]\n",
      "拷贝 ArrayList: [ogle, Runoob, Taobao]\n"
     ]
    }
   ],
   "source": [
    "import java.util.*;\n",
    "ArrayList<String> sites = new ArrayList<>();\n",
    "\n",
    "sites.add(\"ogle\");\n",
    "sites.add(\"Runoob\");\n",
    "sites.add(\"Taobao\");\n",
    "System.out.println(\"网站列表: \" + sites);\n",
    "\n",
    "\n",
    "// 对 sites 进行拷贝\n",
    "//        ArrayList<String> cloneSites = (ArrayList<String>)sites.clone();\n",
    "//        List<String>\n",
    "List<String> cloneSites = (ArrayList<String>)(sites.clone());\n",
    "sites.add(\"h会变\");\n",
    "System.out.println(sites);\n",
    "Collections.sort(sites);\n",
    "System.out.println(sites);\n",
    "System.out.println(\"拷贝 ArrayList: \" + cloneSites);"
   ]
  },
  {
   "cell_type": "code",
   "execution_count": 42,
   "metadata": {},
   "outputs": [
    {
     "name": "stdout",
     "output_type": "stream",
     "text": [
      "拷贝数值类型：\n",
      "[1, 2, 3, 4, 5, 6]\n",
      "[2, 3, 4]\n",
      "--------------修改后--------------------\n",
      "[1, 2, 3, 4, 5, 6]\n",
      "[100, 3, 4]\n"
     ]
    }
   ],
   "source": [
    "// 数组的深拷贝 arraycopy()方法\n",
    "int[] array = {1,2,3,4,5,6};\n",
    "int[] array2 = new int[3];\n",
    "System.arraycopy(array,1,array2,0,3);\n",
    "System.out.println(\"拷贝数值类型：\");\n",
    "System.out.println(Arrays.toString(array));\n",
    "System.out.println(Arrays.toString(array2));\n",
    "System.out.println(\"--------------修改后--------------------\");\n",
    "array2[0] = 100;\n",
    "System.out.println(Arrays.toString(array));\n",
    "System.out.println(Arrays.toString(array2));"
   ]
  },
  {
   "cell_type": "code",
   "execution_count": 43,
   "metadata": {},
   "outputs": [
    {
     "name": "stdout",
     "output_type": "stream",
     "text": [
      "[1, 2, 3, 33, 4]\n",
      "noonx\n",
      "[1, 2, 3, 3]\n",
      "noonx\n",
      "noonx\n",
      "true\n",
      "false\n"
     ]
    },
    {
     "ename": "CompilationException",
     "evalue": "",
     "output_type": "error",
     "traceback": [
      "\u001b[1m\u001b[30m|   \u001b[1m\u001b[30mStringBuffer str2 = \u001b[0m\u001b[1m\u001b[30m\u001b[41mnew StringBuffer(helloArray)\u001b[0m\u001b[1m\u001b[30m;\u001b[0m",
      "\u001b[1m\u001b[31m对于StringBuffer(char[]), 找不到合适的构造器\u001b[0m",
      "\u001b[1m\u001b[31m    构造器 java.lang.StringBuffer.StringBuffer(int)不适用\u001b[0m",
      "\u001b[1m\u001b[31m      (参数不匹配; char[]无法转换为int)\u001b[0m",
      "\u001b[1m\u001b[31m    构造器 java.lang.StringBuffer.StringBuffer(java.lang.String)不适用\u001b[0m",
      "\u001b[1m\u001b[31m      (参数不匹配; char[]无法转换为java.lang.String)\u001b[0m",
      "\u001b[1m\u001b[31m    构造器 java.lang.StringBuffer.StringBuffer(java.lang.CharSequence)不适用\u001b[0m",
      "\u001b[1m\u001b[31m      (参数不匹配; char[]无法转换为java.lang.CharSequence)\u001b[0m",
      ""
     ]
    }
   ],
   "source": [
    "// 字符串的倒序\n",
    "char[] helloArray = { 'n', 'o', 'o', 'n','x'};\n",
    "String helloString = new String(helloArray);\n",
    "List<Integer> list = new ArrayList<>(Arrays.asList(1,2,3,33,4));\n",
    "System.out.println(list);\n",
    "System.out.println( helloString );\n",
    "int[] z = new int[]{1,2,3,3};\n",
    "System.out.println(Arrays.toString(z));\n",
    "StringBuffer str = new StringBuffer(helloString);\n",
    "StringBuffer sb = str;\n",
    "System.out.println(sb);\n",
    "System.out.println(str);\n",
    "System.out.println(sb.equals(str));\n",
    "System.out.println(helloString.equals(str.reverse().toString()) );\n",
    "StringBuffer str2 = new StringBuffer(helloArray);\n",
    "System.out.println(str2);"
   ]
  },
  {
   "cell_type": "code",
   "execution_count": 44,
   "metadata": {},
   "outputs": [
    {
     "name": "stdout",
     "output_type": "stream",
     "text": [
      "[Weibo, Taobao, Runoob, Google]\n",
      "[Google, Runoob, Taobao, Weibo]\n"
     ]
    }
   ],
   "source": [
    "// 集合的复制以及逆序\n",
    "ArrayList<String> sites = new ArrayList<String>();\n",
    "sites.add(\"Google\");\n",
    "sites.add(\"Runoob\");\n",
    "sites.add(\"Taobao\");\n",
    "sites.add(\"Weibo\");\n",
    "ArrayList<String> b = (ArrayList<String>) sites.clone();\n",
    "//        ArrayList<String> b = sites.clone();\n",
    "Collections.reverse(b);\n",
    "System.out.println(b);\n",
    "System.out.println(sites);"
   ]
  },
  {
   "cell_type": "code",
   "execution_count": 45,
   "metadata": {},
   "outputs": [
    {
     "name": "stdout",
     "output_type": "stream",
     "text": [
      "13234\n"
     ]
    }
   ],
   "source": [
    "// 数字不能被直接转换，必须先转换成String 字符串才行\n",
    "// int x = 123;\n",
    "String xx = \"13234\";\n",
    "StringBuffer temp = new StringBuffer(String.valueOf(xx));\n",
    "System.out.println(temp);"
   ]
  },
  {
   "cell_type": "code",
   "execution_count": 46,
   "metadata": {},
   "outputs": [
    {
     "name": "stdout",
     "output_type": "stream",
     "text": [
      "1232\n",
      "true\n",
      "false\n",
      "false\n"
     ]
    }
   ],
   "source": [
    "///回文判断，使用equals()方法的时候类型的一定要一样\n",
    "int x = 1232;\n",
    "String xx = \"13232\";\n",
    "StringBuffer temp = new StringBuffer(String.valueOf(x));\n",
    "StringBuffer temp1 = temp;\n",
    "System.out.println(temp1);\n",
    "// 这样永远对\n",
    "System.out.println(temp.equals(temp.reverse()));\n",
    "// 这里的temp.reverse()有自己的返回值，并不是在源对象改\n",
    "System.out.println(temp.toString().equals(temp.reverse().toString()));\n",
    "System.out.println(temp.toString().equals(temp1.reverse().toString()));"
   ]
  },
  {
   "cell_type": "code",
   "execution_count": 47,
   "metadata": {},
   "outputs": [
    {
     "ename": "CompilationException",
     "evalue": "",
     "output_type": "error",
     "traceback": [
      "\u001b[1m\u001b[30m|   \u001b[1m\u001b[30m\u001b[0m\u001b[1m\u001b[30m\u001b[41mtemp += t\u001b[0m\u001b[1m\u001b[30m;\u001b[0m",
      "\u001b[1m\u001b[31m二元运算符 '+' 的操作数类型错误\u001b[0m",
      "\u001b[1m\u001b[31m  第一个类型:  java.lang.StringBuffer\u001b[0m",
      "\u001b[1m\u001b[31m  第二个类型: int\u001b[0m",
      ""
     ]
    }
   ],
   "source": [
    "// 明明定义了temp变量，为什么说没有用呢,那是因为在括号里面\n",
    "\n",
    "int t = 1;\n",
    "if (1<100){\n",
    "    int temp = Math.max(100,2);\n",
    "}\n",
    "// int temp;\n",
    "temp += t;\n",
    "System.out.println(temp);"
   ]
  },
  {
   "cell_type": "code",
   "execution_count": 48,
   "metadata": {},
   "outputs": [
    {
     "name": "stdout",
     "output_type": "stream",
     "text": [
      "HashMap: {1=Google, 2=Runoob, 3=Taobao}\n",
      "HashMap: {1=Google, 2=jij, 3=Taobao}\n",
      "Cloned HashMap1: {1=Google, 2=jij, 3=Taobao}\n",
      "Cloned HashMap: {1=Google, 2=jij, 3=Taobao}\n",
      "HashMap: {1=Google, 2=jij, 3=Taobao}\n",
      "Cloned HashMap: {1=Google, 2=jij, 3=jiji, 4=jiji1}\n"
     ]
    }
   ],
   "source": [
    "// clone()用起来是深拷贝，可是实际上任然是浅拷贝，这一点需要好好了解\n",
    "HashMap<Integer, String> sites = new HashMap<>();\n",
    "sites.put(1, \"Google\");\n",
    "sites.put(2, \"Runoob\");\n",
    "sites.put(3, \"Taobao\");\n",
    "System.out.println(\"HashMap: \" + sites);\n",
    "\n",
    "HashMap<Integer, String> cloneSite1 = sites;//等于号是浅拷贝\n",
    "cloneSite1.put(2,\"jij\");\n",
    "System.out.println(\"HashMap: \" + sites);\n",
    "System.out.println(\"Cloned HashMap1: \" + cloneSite1);\n",
    "// 复制 sites\n",
    "HashMap<Integer, String> cloneSites = (HashMap<Integer, String>) sites.clone();//这里是深拷贝，但是具体里面的细节好像又是浅拷贝\n",
    "System.out.println(\"Cloned HashMap: \" + cloneSites);\n",
    "cloneSites.put(3,\"jiji\");\n",
    "cloneSites.put(4,\"jiji1\");\n",
    "System.out.println(\"HashMap: \" + sites);\n",
    "System.out.println(\"Cloned HashMap: \" + cloneSites);"
   ]
  },
  {
   "cell_type": "code",
   "execution_count": 54,
   "metadata": {},
   "outputs": [
    {
     "name": "stdout",
     "output_type": "stream",
     "text": [
      "2414\n",
      "02414\n"
     ]
    }
   ],
   "source": [
    "char[] a = {'0','2', '4', '1', '4'};\n",
    "int num = Integer.parseInt(String.valueOf(a));//通过String.valueOf()方法可以把char数组变为字符串，但是对容器的话就不行\n",
    "System.out.println(num);\n",
    "System.out.println(String.valueOf(a));"
   ]
  },
  {
   "cell_type": "code",
   "execution_count": 50,
   "metadata": {},
   "outputs": [
    {
     "name": "stdout",
     "output_type": "stream",
     "text": [
      "OptionalInt[-100]\n",
      "3\n",
      "OptionalInt[93]\n",
      "6\n",
      "OptionalDouble[0.5]\n",
      "1 2 3 -100 4 93 \n",
      "java.util.stream.ReferencePipeline$4@6db60d3e\n",
      "-100\n",
      "93\n",
      "93\n"
     ]
    }
   ],
   "source": [
    "int[] a ={1,2,3,-100,4,93};\n",
    "System.out.println(Arrays.stream(a).min());\n",
    "System.out.println(Arrays.stream(a).sum());\n",
    "System.out.println(Arrays.stream(a).max());\n",
    "System.out.println(Arrays.stream(a).count());\n",
    "System.out.println(Arrays.stream(a).average());\n",
    "Arrays.stream(a).forEach(x-> System.out.print(x + \" \"));\n",
    "System.out.println();\n",
    "int x = Arrays.stream(a).min().getAsInt();\n",
    "int y = Arrays.stream(a).max().getAsInt();\n",
    "int[] b ={1,2,2,3,4,3-100,4,93};\n",
    "System.out.println( Arrays.stream(b).distinct());\n",
    "Long z  = Arrays.stream(a).asLongStream().max().getAsLong();\n",
    "System.out.println(x);\n",
    "System.out.println(y);\n",
    "System.out.println(z);"
   ]
  },
  {
   "cell_type": "code",
   "execution_count": 55,
   "metadata": {},
   "outputs": [
    {
     "name": "stdout",
     "output_type": "stream",
     "text": [
      "[abc, Taobao]\n",
      "网站列表: [Google, abc, Taobao, Wiki]\n"
     ]
    },
    {
     "ename": "CompilationException",
     "evalue": "",
     "output_type": "error",
     "traceback": [
      "\u001b[1m\u001b[30m|   \u001b[1m\u001b[30mArrayList<String> site2 = \u001b[0m\u001b[1m\u001b[30m\u001b[41msites.subList(1,3)\u001b[0m\u001b[1m\u001b[30m;\u001b[0m",
      "\u001b[1m\u001b[31m不兼容的类型: java.util.List<java.lang.String>无法转换为java.util.ArrayList<java.lang.String>\u001b[0m",
      ""
     ]
    }
   ],
   "source": [
    "List<String> sites = new ArrayList<>();\n",
    "sites.add(\"Google\");\n",
    "sites.add(\"Runoob\");\n",
    "sites.add(\"Taobao\");\n",
    "sites.add(\"Wiki\");\n",
    "\n",
    "List<String> site1 = sites.subList(1,3);\n",
    "site1.set(0,\"abc\");\n",
    "System.out.println(site1);\n",
    "System.out.println(\"网站列表: \" + sites);\n",
    "//这就不行，所以以后尽量用List接口比较好,\n",
    "ArrayList<String> site2 = sites.subList(1,3);\n",
    "site2.set(0,\"abcd\");\n",
    "System.out.println(site1);\n",
    "System.out.println(\"网站列表: \" + sites);"
   ]
  },
  {
   "cell_type": "code",
   "execution_count": 57,
   "metadata": {},
   "outputs": [
    {
     "name": "stdout",
     "output_type": "stream",
     "text": [
      "trueccbde\n",
      "cbdtrueccbde\n",
      "cbdtrueccbdeacbde\n",
      "cb\n",
      "true\n",
      "ctrueccbdeacbde\n",
      "ctrueccbdeacbde\n",
      "crueccbdeacbde\n",
      "crueccbdeacbde\n",
      "edbcaedbcceurc\n"
     ]
    }
   ],
   "source": [
    "StringBuilder str1 = new StringBuilder();\n",
    "str1.append(true);\n",
    "str1.append('c');\n",
    "char[] arr = {'a','c','b','d','e'};\n",
    "// StringBuilder 在里面加元素的时候都是左闭右闭\n",
    "str1.append(arr,1,4);\n",
    "System.out.println(str1);\n",
    "str1.insert(0,arr,1,3);\n",
    "System.out.println(str1);\n",
    "str1.append(arr);\n",
    "System.out.println(str1);\n",
    "System.out.println(str1.substring(8,10));\n",
    "System.out.println((\"cb\").equals(str1.substring(8,10)));\n",
    "//下面这些都是直接在StringBuilder对象上返回的，有点类似Python里面的sort(),但是java里面可以直接输出\n",
    "System.out.println(str1.delete(1,3));\n",
    "System.out.println(str1);\n",
    "System.out.println(str1.deleteCharAt(1));\n",
    "System.out.println(str1);\n",
    "System.out.println(str1.reverse());"
   ]
  },
  {
   "cell_type": "code",
   "execution_count": 53,
   "metadata": {},
   "outputs": [
    {
     "ename": "CompilationException",
     "evalue": "",
     "output_type": "error",
     "traceback": [
      "\u001b[1m\u001b[30m|   \u001b[1m\u001b[30ma.add(\u001b[0m\u001b[1m\u001b[30m\u001b[41m\"6\"\u001b[0m\u001b[1m\u001b[30m);\u001b[0m",
      "\u001b[1m\u001b[31m不兼容的类型: java.lang.String无法转换为java.lang.StringBuilder\u001b[0m",
      ""
     ]
    }
   ],
   "source": [
    "// StringBuilder.valueOf，没有这个功能,add函数是容器才有的，StringBuilder有的是append这个方法\n",
    "import java.io.*;\n",
    "List<StringBuilder> a = new ArrayList<>();\n",
    "// a.add(StringBuilder.valueOf(\"dadfa\"));\n",
    "a.add(\"6\");\n",
    "a.add(0,\"9\");\n",
    "System.out.println(a);\n",
    "System.out.println(a.get(1));"
   ]
  },
  {
   "cell_type": "code",
   "execution_count": null,
   "metadata": {},
   "outputs": [],
   "source": []
  },
  {
   "cell_type": "code",
   "execution_count": null,
   "metadata": {},
   "outputs": [],
   "source": []
  },
  {
   "cell_type": "code",
   "execution_count": null,
   "metadata": {},
   "outputs": [],
   "source": []
  },
  {
   "cell_type": "code",
   "execution_count": null,
   "metadata": {},
   "outputs": [],
   "source": []
  },
  {
   "cell_type": "code",
   "execution_count": null,
   "metadata": {},
   "outputs": [],
   "source": []
  },
  {
   "cell_type": "code",
   "execution_count": null,
   "metadata": {},
   "outputs": [],
   "source": []
  },
  {
   "cell_type": "code",
   "execution_count": null,
   "metadata": {},
   "outputs": [],
   "source": []
  },
  {
   "cell_type": "code",
   "execution_count": null,
   "metadata": {},
   "outputs": [],
   "source": []
  },
  {
   "cell_type": "code",
   "execution_count": null,
   "metadata": {},
   "outputs": [],
   "source": []
  },
  {
   "cell_type": "code",
   "execution_count": null,
   "metadata": {},
   "outputs": [],
   "source": []
  },
  {
   "cell_type": "code",
   "execution_count": null,
   "metadata": {},
   "outputs": [],
   "source": []
  },
  {
   "cell_type": "code",
   "execution_count": null,
   "metadata": {},
   "outputs": [],
   "source": []
  },
  {
   "cell_type": "code",
   "execution_count": null,
   "metadata": {},
   "outputs": [],
   "source": []
  },
  {
   "cell_type": "code",
   "execution_count": null,
   "metadata": {},
   "outputs": [],
   "source": []
  },
  {
   "cell_type": "code",
   "execution_count": null,
   "metadata": {},
   "outputs": [],
   "source": []
  },
  {
   "cell_type": "code",
   "execution_count": null,
   "metadata": {},
   "outputs": [],
   "source": []
  }
 ],
 "metadata": {
  "kernelspec": {
   "display_name": "Java",
   "language": "java",
   "name": "java"
  },
  "language_info": {
   "codemirror_mode": "java",
   "file_extension": ".jshell",
   "mimetype": "text/x-java-source",
   "name": "Java",
   "pygments_lexer": "java",
   "version": "11.0.7+8-LTS"
  }
 },
 "nbformat": 4,
 "nbformat_minor": 4
}
