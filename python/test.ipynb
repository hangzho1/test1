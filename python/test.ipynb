{
 "cells": [
  {
   "cell_type": "markdown",
   "metadata": {},
   "source": [
    "### 1.两数之和"
   ]
  },
  {
   "cell_type": "markdown",
   "metadata": {},
   "source": [
    "print(13)"
   ]
  },
  {
   "cell_type": "code",
   "execution_count": null,
   "metadata": {},
   "outputs": [],
   "source": [
    "def he(nums,target):\n",
    "    for i in range(1,len(nums)):\n",
    "        print(i)\n",
    "        temp = nums[:i]\n",
    "        print(temp)\n",
    "        if target - nums[i] in temp:\n",
    "            j = nums.index(target - nums[i])\n",
    "            return i,j\n",
    "he([2,7,11,13],9)"
   ]
  },
  {
   "cell_type": "code",
   "execution_count": null,
   "metadata": {},
   "outputs": [
    {
     "ename": "",
     "evalue": "",
     "output_type": "error",
     "traceback": [
      "\u001b[1;31mRunning cells with 'Python 3.10.5 64-bit' requires ipykernel package.\n",
      "Run the following command to install 'ipykernel' into the Python environment. \n",
      "Command: 'c:/Users/hangzho1/AppData/Local/Programs/Python/Python310/python.exe -m pip install ipykernel -U --user --force-reinstall'"
     ]
    }
   ],
   "source": [
    "nums = list(map(int,input().split()))\n",
    "target = int(input())\n",
    "hashmap = {}\n",
    "for i,n in enumerate(nums):\n",
    "    if target - nums[i] in hashmap:\n",
    "        print ([i,hashmap[target - n]])\n",
    "    hashmap[n] = i\n",
    "    print(hashmap)"
   ]
  },
  {
   "cell_type": "code",
   "execution_count": null,
   "metadata": {},
   "outputs": [],
   "source": [
    "nums = list(map(int,input().split( )))\n",
    "target = int(input())\n",
    "print(len(nums))\n",
    "for i in range(len(nums)):\n",
    "    for j in range(i):\n",
    "        if nums[j] == target - nums[i]:\n",
    "            print(i,j)"
   ]
  },
  {
   "cell_type": "markdown",
   "metadata": {},
   "source": [
    "## 387 字符串中的第一个唯一字符\n"
   ]
  },
  {
   "cell_type": "code",
   "execution_count": null,
   "metadata": {},
   "outputs": [],
   "source": [
    "nums = list(map(str,input()))\n",
    "hashmap = {}\n",
    "for i in nums:\n",
    "    if i not in hashmap:\n",
    "        hashmap[i] =1\n",
    "    else:\n",
    "        hashmap[i] += 1\n",
    "for i,n in enumerate(nums):\n",
    "    if hashmap[n] ==1:\n",
    "        print(i)"
   ]
  },
  {
   "cell_type": "code",
   "execution_count": null,
   "metadata": {},
   "outputs": [],
   "source": [
    "def weiyi(nums):\n",
    "    hashmap= {}\n",
    "    for i in nums:\n",
    "        if i not in hashmap:\n",
    "            hashmap[i] =1\n",
    "        else:\n",
    "            hashmap[i] += 1\n",
    "    for i,n in enumerate(nums):\n",
    "        if hashmap[n] ==1:\n",
    "            return i\n",
    "    return -1\n",
    "\n",
    "weiyi(list('leetcode'))"
   ]
  },
  {
   "cell_type": "markdown",
   "metadata": {},
   "source": [
    "### 169.多数元素\n"
   ]
  },
  {
   "cell_type": "code",
   "execution_count": null,
   "metadata": {},
   "outputs": [],
   "source": [
    "nums = list(map(int,input().split()))\n",
    "hashmap={}\n",
    "for i in nums:\n",
    "    if i not in hashmap:\n",
    "        hashmap[i] = 1\n",
    "    else:\n",
    "        hashmap[i] +=1\n",
    "for i,k in enumerate(nums):\n",
    "    if hashmap[k] > len(nums)/2:\n",
    "        print(k)"
   ]
  },
  {
   "cell_type": "code",
   "execution_count": null,
   "metadata": {},
   "outputs": [],
   "source": [
    "nums = list(map(int,input().split()))\n",
    "nums.sort()\n",
    "print(nums[len(nums)//2])\n",
    "print(int(nums[lens(nums)//2]))\n",
    "# print(nums)"
   ]
  },
  {
   "cell_type": "markdown",
   "metadata": {},
   "source": [
    "### 二叉树的遍历\n"
   ]
  },
  {
   "cell_type": "code",
   "execution_count": 3,
   "metadata": {},
   "outputs": [
    {
     "name": "stdout",
     "output_type": "stream",
     "text": [
      "[1, 34, 5]\n"
     ]
    }
   ],
   "source": [
    "#列表的pop函数有点儿类似于栈，先进后出\n",
    "nums = [1,34,5,6]\n",
    "a = nums.pop()\n",
    "print(nums)"
   ]
  },
  {
   "cell_type": "code",
   "execution_count": null,
   "metadata": {},
   "outputs": [],
   "source": [
    "class TreeNode:\n",
    "    def __init__(self,x):\n",
    "        self.val = x\n",
    "        self.left = None\n",
    "        self.right = None\n",
    "nums = [1,2,3]\n",
    "stack, rs = [root],[]\n",
    "i = stack.pop()\n",
    "while stack:\n",
    "    if isinstance(i,Treenode):\n",
    "        stack.extend([i.right,i.val,i.left])\n",
    "    elif isinstance(i,int):\n",
    "        stack.append(i)\n",
    "print(rs)"
   ]
  },
  {
   "cell_type": "markdown",
   "metadata": {},
   "source": [
    "### 215.数组中的第K个最大元素\n"
   ]
  },
  {
   "cell_type": "code",
   "execution_count": 1,
   "metadata": {},
   "outputs": [
    {
     "name": "stdout",
     "output_type": "stream",
     "text": [
      "[1, 3, 3, 4, 5, 33, 33, 46, 324] [1, 3, 3, 4, 5, 33, 33, 46, 324] [1, 3, 4, 5, 33, 46, 324] [1, 3, 5, 46, 33, 3, 33, 4, 324]\n"
     ]
    }
   ],
   "source": [
    "a = [1,3, 5, 46, 33, 3, 33, 4, 324]\n",
    "b = (1,3, 5, 46, 33, 3, 33, 4, 324)\n",
    "c = {1,3, 5, 46, 33, 3, 33, 4, 324}\n",
    "a_sorted = sorted(a)\n",
    "b_sorted = sorted(b)\n",
    "c_sorted = sorted(c)\n",
    "print(a_sorted,b_sorted,c_sorted,a)"
   ]
  },
  {
   "cell_type": "code",
   "execution_count": null,
   "metadata": {},
   "outputs": [],
   "source": [
    "# 使用排序\n",
    "nums = list(map(int,input().split()))\n",
    "k = int(input())\n",
    "nums_sort  = sorted(nums,reverse = True)\n",
    "print(nums_sort[k-1])"
   ]
  },
  {
   "cell_type": "code",
   "execution_count": null,
   "metadata": {},
   "outputs": [
    {
     "ename": "",
     "evalue": "",
     "output_type": "error",
     "traceback": [
      "\u001b[1;31mRunning cells with 'Python 3.10.5 64-bit' requires ipykernel package.\n",
      "Run the following command to install 'ipykernel' into the Python environment. \n",
      "Command: 'c:/Users/hangzho1/AppData/Local/Programs/Python/Python310/python.exe -m pip install ipykernel -U --user --force-reinstall'"
     ]
    }
   ],
   "source": [
    "for i in range(6,1,-1):\n",
    "    print(i)"
   ]
  },
  {
   "cell_type": "code",
   "execution_count": null,
   "metadata": {},
   "outputs": [],
   "source": [
    "def findmax():\n",
    "    def swap(a,b,c):\n",
    "        a[b],a[c] = a[c],a[b]\n",
    "        return\n",
    "    def heap(nums,n,i):\n",
    "        while True:\n",
    "            min = i\n",
    "            if i*2 + 1 < n and nums[i*2 +1] < num[i]:\n",
    "                min = i*2 +1 \n",
    "            if i*2 +2 < n and nums[i*2 +2] < num[min]:\n",
    "                min = i*2 +2 \n",
    "            if i==min:\n",
    "                break:\n",
    "            swap(nums,i,min)\n",
    "        i = min\n",
    "    for i in range(k//2,-1,-1):\n",
    "        heap(nums,k,i)\n",
    "    for i in range(k,len(nums)):\n",
    "        if nums[0] <= nums[i]:\n",
    "            nums[0]=nums[i]\n",
    "            heap(nums,k,0)\n",
    "    return nums[0]\n",
    "    return nums[:k]\n",
    "    "
   ]
  },
  {
   "cell_type": "markdown",
   "metadata": {},
   "source": [
    "### 15.三数之和"
   ]
  },
  {
   "cell_type": "code",
   "execution_count": null,
   "metadata": {},
   "outputs": [],
   "source": [
    "#这个方法虽然可以把所有的结果求出来，但是会有重复，怎样去重复才是最难的\n",
    "num = list(map(int,input().split(r\",\")))\n",
    "nums = sorted(num)\n",
    "result = []\n",
    "for a in range(len(nums)-2):\n",
    "    for b in range( a+1,len(nums)-1):\n",
    "        temp = nums[b+1:]\n",
    "        if -nums[a]-nums[b] in temp:\n",
    "            print(nums.index(-nums[a]-nums[b]))\n",
    "            result.append([nums[a],nums[b],-nums[a]-nums[b]])\n",
    "            #之所以加上这一行，是表示，如果前两个，a,b是一样的情况下，c 可以在一定程度上去重\n",
    "            break\n",
    "print(result)"
   ]
  },
  {
   "cell_type": "code",
   "execution_count": null,
   "metadata": {},
   "outputs": [],
   "source": [
    "#使用双指针的方法来做\n",
    "nums = list(map(int,input().split(r\",\")))\n",
    "nums.sort()\n",
    "result = []\n",
    "for i,num in enumerate(nums[:-2]):\n",
    "#后面那个为起始点\n",
    "# for i,num in enumerate(nums,len(nums)):\n",
    "    if num + nums[i+1] + nums[i+2] > 0:\n",
    "        break\n",
    "    if i > 0 and num == nums[i-1]:\n",
    "        continue\n",
    "    left, right = i+1,len(nums)-1\n",
    "    while left < right:\n",
    "        temp = num + nums[left] + nums[right]\n",
    "        if temp > 0:\n",
    "            right -=1\n",
    "        elif temp < 0:\n",
    "            left +=1\n",
    "        else:\n",
    "            result.append([num,nums[left],nums[right]])\n",
    "            while left < right and nums[right] == nums[right-1]:\n",
    "                right-=1\n",
    "            right-=1\n",
    "print(result)"
   ]
  },
  {
   "cell_type": "markdown",
   "metadata": {},
   "source": [
    "### 2.两数之和"
   ]
  },
  {
   "cell_type": "code",
   "execution_count": null,
   "metadata": {},
   "outputs": [],
   "source": [
    "## 使用比较简单的方法\n",
    "#但这只是对数组使用\n",
    "nums1 = list(map(int,input().split(r\",\")))\n",
    "nums2 = list(map(int,input().split(r\",\")))\n",
    "n1,n2=0,0\n",
    "for i,char in enumerate(nums1):\n",
    "    n1=n1+char*10**i\n",
    "#     print(n1)\n",
    "for i,char in enumerate(nums2):\n",
    "    n2=n2+char*10**i\n",
    "#     print(n2)\n",
    "#到了这一步可以把两数之和写出来，但是还是不能转化成列表\n",
    "print(n1+n2)"
   ]
  },
  {
   "cell_type": "code",
   "execution_count": null,
   "metadata": {},
   "outputs": [],
   "source": [
    "numl1,numl2 = [],[]\n",
    "while l1:\n",
    "    numl1.append(l1)\n",
    "    l1 = l1.next\n",
    "while l2:\n",
    "    numl2.append(l2)\n",
    "    l2 = l2.next"
   ]
  },
  {
   "cell_type": "code",
   "execution_count": null,
   "metadata": {},
   "outputs": [],
   "source": [
    "nums = [-1,2,5,-8,6,-3]\n",
    "a= nums.pop(-2)\n",
    "print(nums)"
   ]
  },
  {
   "cell_type": "code",
   "execution_count": null,
   "metadata": {},
   "outputs": [],
   "source": [
    "a =3 \n",
    "a += 5\n",
    "print(a)"
   ]
  },
  {
   "cell_type": "markdown",
   "metadata": {},
   "source": [
    "### 19.删除链表的倒数第n个节点"
   ]
  },
  {
   "cell_type": "code",
   "execution_count": null,
   "metadata": {},
   "outputs": [],
   "source": [
    "n = int(input())\n",
    "if not head:\n",
    "    return None\n",
    "benbi = []\n",
    "while head:\n",
    "    benbi.append(head)\n",
    "    head = head.next\n",
    "benbi.pop(-n)\n",
    "new = ListNode(None)\n",
    "temp = new\n",
    "for i in range(len(benbi)):\n",
    "    temp.next = benbi[i]\n",
    "    temp = temp.next\n",
    "temp.next = None\n",
    "return new.next"
   ]
  },
  {
   "cell_type": "markdown",
   "metadata": {},
   "source": [
    "### 206. 反转链表\n"
   ]
  },
  {
   "cell_type": "code",
   "execution_count": null,
   "metadata": {},
   "outputs": [],
   "source": [
    "prev = ListNode(None)\n",
    "curr  = head\n",
    "while curr:\n",
    "    temp = curr.next\n",
    "    curr.next  =prev \n",
    "    prev = curr \n",
    "    curr = temp\n",
    "return prev\n"
   ]
  },
  {
   "cell_type": "markdown",
   "metadata": {},
   "source": [
    "### *测试一下max函数以及自己输入数字或者字符串*\n"
   ]
  },
  {
   "cell_type": "code",
   "execution_count": null,
   "metadata": {},
   "outputs": [],
   "source": [
    "maxlen = 5\n",
    "s = list(map(str,input().split()))\n",
    "print(s,len(s))\n",
    "maxlen = max(maxlen,len(s))\n",
    "print(maxlen)"
   ]
  },
  {
   "cell_type": "markdown",
   "metadata": {},
   "source": [
    "### 3. 无重复字符的最长子串"
   ]
  },
  {
   "cell_type": "code",
   "execution_count": null,
   "metadata": {},
   "outputs": [],
   "source": [
    "def maxlength(s):\n",
    "    if not s:return 0\n",
    "    max_length, left,cur,tmp = 0, 0, 0, []\n",
    "    for i in range(len(s)):\n",
    "        cur +=1\n",
    "        while s[i] in tmp:\n",
    "            tmp.remove(s[left])\n",
    "            cur-=1\n",
    "            left+=1\n",
    "        if cur > max_length:max_length = cur\n",
    "        tmp.append(s[i])\n",
    "    return max_length\n",
    "maxlength(\"pwwkew\")"
   ]
  },
  {
   "cell_type": "code",
   "execution_count": null,
   "metadata": {},
   "outputs": [],
   "source": [
    "## 集合的使用\n",
    "fruits = {\"apple\", \"banana\", \"cherry\"}\n",
    "fruits.add(\"orange\")\n",
    "print(fruits,len(fruits))\n"
   ]
  },
  {
   "cell_type": "markdown",
   "metadata": {},
   "source": [
    "### 11.盛水最多的容器"
   ]
  },
  {
   "cell_type": "code",
   "execution_count": null,
   "metadata": {},
   "outputs": [],
   "source": [
    "print(abs(3-5)*max(4,6))"
   ]
  },
  {
   "cell_type": "code",
   "execution_count": null,
   "metadata": {},
   "outputs": [],
   "source": [
    "print(max(8,(-1 + 7) * min(3,7)))"
   ]
  },
  {
   "cell_type": "code",
   "execution_count": null,
   "metadata": {},
   "outputs": [],
   "source": [
    "nums = list(map(int,input().split()))\n",
    "max_len,l,r = 0,0,len(nums)-1\n",
    "while l < r:\n",
    "    max_len = max(max_len,(r-l)*min(nums[r],nums[l]))\n",
    "    if nums[l] <= nums[r]:\n",
    "        l += 1\n",
    "    else:\n",
    "        r -= 1\n",
    "print(max_len)\n",
    "        "
   ]
  },
  {
   "cell_type": "markdown",
   "metadata": {},
   "source": [
    "### 42.接雨水"
   ]
  },
  {
   "cell_type": "code",
   "execution_count": null,
   "metadata": {},
   "outputs": [],
   "source": [
    "height = [0,1,0,2,1,0,1,3,2,1,2,1]\n",
    "print(max(height))"
   ]
  },
  {
   "cell_type": "code",
   "execution_count": null,
   "metadata": {},
   "outputs": [],
   "source": [
    "nums = list(map(int,input().split(r',')))\n",
    "if sum(nums) == 0:print(0)\n",
    "temp,left,right = 0,0,len(nums)-1\n",
    "for i in range(1,max(nums)+1):\n",
    "    while nums[left] < i:\n",
    "        left += 1 \n",
    "    while nums[right] < i:\n",
    "        right -= 1\n",
    "    temp += right -left +1\n",
    "print(temp - sum(nums))"
   ]
  },
  {
   "cell_type": "code",
   "execution_count": null,
   "metadata": {},
   "outputs": [],
   "source": [
    "nums = list(map(int,input().split(r',')))\n",
    "left, right,temp,i  = 0,len(height)-1,0,1\n",
    "# 明明差不多的代码为什么使用 while 就容易超时呢，因为没有跳出循环，要加上i +=1\n",
    "\n",
    "while i <= max(height):\n",
    "    while height[left] < i:\n",
    "        left += 1\n",
    "    while height[right] < i:\n",
    "        right -= 1 \n",
    "    temp = temp + right - left +1 \n",
    "    i+=1\n",
    "print(temp - sum(height))"
   ]
  },
  {
   "cell_type": "markdown",
   "metadata": {},
   "source": [
    "### 121.买卖股票的最佳时间"
   ]
  },
  {
   "cell_type": "code",
   "execution_count": null,
   "metadata": {},
   "outputs": [],
   "source": [
    "nums = [1,2,3,4,5]\n",
    "for i ,char1 in enumerate(nums[:-1]):\n",
    "    for i ,char in enumerate(nums[i+1:]):\n",
    "        print(char1,char)"
   ]
  },
  {
   "cell_type": "code",
   "execution_count": null,
   "metadata": {},
   "outputs": [],
   "source": [
    "nums = list(map(int,input().split(r',')))\n",
    "min_len = float('inf')\n",
    "max_len = 0\n",
    "for i in nums:\n",
    "    min_len = min(min_len,i)\n",
    "    max_len = max(max_len,i-min_len)\n",
    "print(max_len)"
   ]
  },
  {
   "cell_type": "markdown",
   "metadata": {},
   "source": [
    "### 26.删除排序数组中的重复项"
   ]
  },
  {
   "cell_type": "code",
   "execution_count": null,
   "metadata": {},
   "outputs": [],
   "source": [
    "nums = list(map(int,input().split(\",\")))\n",
    "def iffu(nums):\n",
    "    hashmap = {}\n",
    "    for i in nums:\n",
    "        hashmap[i] = hashmap.get(i,0) + 1\n",
    "        print(hashmap,len(hashmap))\n",
    "    for i in hashmap:\n",
    "        print(i)\n",
    "    return len(hashmap)\n",
    "iffu(nums)"
   ]
  },
  {
   "cell_type": "code",
   "execution_count": null,
   "metadata": {},
   "outputs": [],
   "source": [
    "a = {3:6,9:3,3324:34,18:4}\n",
    "print(a.values())\n",
    "# a = [3,4,2,4,3,413,4,3,2]\n",
    "# b = {}\n",
    "# b = b.fromkeys(a,0)\n",
    "# print(b)\n",
    "# for i in b.items():\n",
    "#     print(i[0],i[1])\n"
   ]
  },
  {
   "cell_type": "markdown",
   "metadata": {},
   "source": [
    "### 1277.统计全为-1的正方形子矩阵"
   ]
  },
  {
   "cell_type": "code",
   "execution_count": null,
   "metadata": {},
   "outputs": [],
   "source": [
    "matrix =[\n",
    "  [0,1,1,1],\n",
    "  [1,1,1,1],\n",
    "  [0,1,1,1]\n",
    "]\n",
    "print(sum(matrix[:]))"
   ]
  },
  {
   "cell_type": "code",
   "execution_count": null,
   "metadata": {},
   "outputs": [],
   "source": [
    "matr = [1,3,4,2,2]\n",
    "print(sum(matr))"
   ]
  },
  {
   "cell_type": "markdown",
   "metadata": {},
   "source": [
    "### 209.长度最小的子数组"
   ]
  },
  {
   "cell_type": "code",
   "execution_count": null,
   "metadata": {},
   "outputs": [],
   "source": [
    "s = int(input())\n",
    "nums = list(map(int,input().split(r',')))\n",
    "min_len,temp = float('inf'),[]\n",
    "if sum(nums) < s:print(0)\n",
    "for i in nums:\n",
    "    temp.append(i)\n",
    "    if sum(temp) < s:continue\n",
    "    while sum(temp) >= s:\n",
    "        min_len = min(min_len,len(temp))\n",
    "        del temp[0]\n",
    "print(min_len)\n",
    "    "
   ]
  },
  {
   "cell_type": "code",
   "execution_count": 1,
   "metadata": {},
   "outputs": [
    {
     "name": "stdout",
     "output_type": "stream",
     "text": [
      "0\n"
     ]
    }
   ],
   "source": [
    "nums = []\n",
    "if not nums:print(0)"
   ]
  },
  {
   "cell_type": "code",
   "execution_count": 3,
   "metadata": {},
   "outputs": [
    {
     "ename": "TypeError",
     "evalue": "argument of type 'NoneType' is not iterable",
     "output_type": "error",
     "traceback": [
      "\u001b[1;31m---------------------------------------------------------------------------\u001b[0m",
      "\u001b[1;31mTypeError\u001b[0m                                 Traceback (most recent call last)",
      "\u001b[1;32m~\\AppData\\Local\\Temp/ipykernel_2284/2225894308.py\u001b[0m in \u001b[0;36m<module>\u001b[1;34m\u001b[0m\n\u001b[0;32m      1\u001b[0m \u001b[0mnums\u001b[0m \u001b[1;33m=\u001b[0m \u001b[1;33m[\u001b[0m\u001b[1;33m]\u001b[0m\u001b[1;33m\u001b[0m\u001b[1;33m\u001b[0m\u001b[0m\n\u001b[1;32m----> 2\u001b[1;33m \u001b[1;32mif\u001b[0m \u001b[0mnums\u001b[0m \u001b[1;32min\u001b[0m \u001b[1;32mNone\u001b[0m\u001b[1;33m:\u001b[0m\u001b[0mprint\u001b[0m\u001b[1;33m(\u001b[0m\u001b[1;36m0\u001b[0m\u001b[1;33m)\u001b[0m\u001b[1;33m\u001b[0m\u001b[1;33m\u001b[0m\u001b[0m\n\u001b[0m",
      "\u001b[1;31mTypeError\u001b[0m: argument of type 'NoneType' is not iterable"
     ]
    }
   ],
   "source": [
    "nums = []\n",
    "if nums in None:print(0)"
   ]
  },
  {
   "cell_type": "markdown",
   "metadata": {},
   "source": [
    "### 202.快乐数\n"
   ]
  },
  {
   "cell_type": "code",
   "execution_count": null,
   "metadata": {},
   "outputs": [],
   "source": [
    "sum = {3,56,5,7}\n",
    "sum.add(56)\n",
    "print(len(sum))"
   ]
  },
  {
   "cell_type": "code",
   "execution_count": null,
   "metadata": {},
   "outputs": [],
   "source": [
    "n = int(input())\n",
    "def get_next(number):\n",
    "    sums  = 0\n",
    "    while number > 0:\n",
    "        number, yu = divmod(number,10)\n",
    "        sums += yu**2\n",
    "    return sums \n",
    "cong = []\n",
    "while n not in cong:\n",
    "    cong.append(n)\n",
    "    n = get_next(n)\n",
    "print(n)"
   ]
  },
  {
   "cell_type": "markdown",
   "metadata": {},
   "source": [
    "### 56. 合并区间"
   ]
  },
  {
   "cell_type": "code",
   "execution_count": null,
   "metadata": {},
   "outputs": [],
   "source": [
    "intervals = [[8,100],[2,6],[4,10],[15,18]]\n",
    "intervals.sort(key = lambda x: x[0])\n",
    "print(intervals)\n",
    "for i in intervals[1:]: \n",
    "    print(i)"
   ]
  },
  {
   "cell_type": "code",
   "execution_count": null,
   "metadata": {},
   "outputs": [],
   "source": [
    "intervals = [[]]\n",
    "a = []\n",
    "a.append(intervals[0])\n",
    "print(a)\n",
    "test = [2]\n",
    "if not test:\n",
    "    print(3)"
   ]
  },
  {
   "cell_type": "code",
   "execution_count": null,
   "metadata": {},
   "outputs": [],
   "source": [
    "# intervals = list(map(int,input().split()))\n",
    "intervals = [[1,3],[2,6],[8,10],[15,18]]\n",
    "intervals.sort(key = lambda x:x[0])\n",
    "print(intervals)\n",
    "merge = []\n",
    "for i in intervals:\n",
    "    if not merge or merge[-1][1] < i[0]:\n",
    "        merge.append(i)\n",
    "    else:\n",
    "        merge[-1][1] = max(merge[-1][1],i[1])\n",
    "print(merge)"
   ]
  },
  {
   "cell_type": "markdown",
   "metadata": {},
   "source": [
    "### 6.Z字形变换"
   ]
  },
  {
   "cell_type": "code",
   "execution_count": null,
   "metadata": {},
   "outputs": [],
   "source": [
    "res = [\" \" for i in range(3)]\n",
    "print(res)"
   ]
  },
  {
   "cell_type": "code",
   "execution_count": null,
   "metadata": {},
   "outputs": [],
   "source": [
    "def zbian(s,row):\n",
    "    if row < 2:return s\n",
    "    res  = ['' for i in range(row)]\n",
    "    i, flag = 0,-1\n",
    "    for a in s:\n",
    "        res[i] += a\n",
    "        if i == 0 or i == row -1:\n",
    "            flag = -flag\n",
    "        i += flag\n",
    "    return \"\".join(res)\n",
    "zbian('LEETCODEISHIRING',3)"
   ]
  },
  {
   "cell_type": "markdown",
   "metadata": {},
   "source": [
    "### 最长公共前缀"
   ]
  },
  {
   "cell_type": "code",
   "execution_count": null,
   "metadata": {},
   "outputs": [],
   "source": [
    "strs = list(map(str,input().split(r',')))\n",
    "strmin = min(strs)\n",
    "strmax = max(strs)\n",
    "print(strmin,strmax)"
   ]
  },
  {
   "cell_type": "code",
   "execution_count": null,
   "metadata": {},
   "outputs": [],
   "source": [
    "print(min('flower','fabcedrefdf'))"
   ]
  },
  {
   "cell_type": "code",
   "execution_count": null,
   "metadata": {},
   "outputs": [],
   "source": [
    "## 法一\n",
    "strs = list(map(str,input().split(\",\")))\n",
    "\n",
    "def max_len(strs):\n",
    "#     if not strs:return \"\"\n",
    "    strmin = min(strs)\n",
    "    strmax = max(strs)\n",
    "    a = \"\"\n",
    "    for i in range(len(strmin)):\n",
    "        if strmin[i] != strmax[i]:\n",
    "            return strmin[:i]\n",
    "        else:\n",
    "            a+=strmin[i]\n",
    "    return a\n",
    "max_len(strs)"
   ]
  },
  {
   "cell_type": "code",
   "execution_count": null,
   "metadata": {},
   "outputs": [],
   "source": [
    "# 法二：利用zip函数\n",
    "strs = list(map(str,input().split(\",\")))\n",
    "\n",
    "def max_len(strs):\n",
    "    a = []\n",
    "    for i in zip(*strs):\n",
    "        if len(set(i)) == 1: a += set(i)\n",
    "        else:\n",
    "            break\n",
    "    return ''.join(a)\n",
    "max_len(strs)\n"
   ]
  },
  {
   "cell_type": "code",
   "execution_count": null,
   "metadata": {},
   "outputs": [],
   "source": [
    "strs = ['flower','flow','flight']\n",
    "for  i in zip(*strs):\n",
    "    print(len(set(i)))"
   ]
  },
  {
   "cell_type": "markdown",
   "metadata": {},
   "source": [
    "### 763.划分字母区间"
   ]
  },
  {
   "cell_type": "code",
   "execution_count": null,
   "metadata": {},
   "outputs": [],
   "source": [
    "S = \"ababcbacadefegdehijhklij\"\n",
    "max_index = {item:idx for idx,item in enumerate(S)}\n",
    "print(max_index)"
   ]
  },
  {
   "cell_type": "code",
   "execution_count": null,
   "metadata": {},
   "outputs": [],
   "source": [
    "d = {\"大海\":\"蓝色\",\"天空\":\"灰色\",\"大地\":\"黑色\"}\n",
    "print(d[\"大地\"],d.get(\"大地\",\"黄色\"))"
   ]
  },
  {
   "cell_type": "code",
   "execution_count": null,
   "metadata": {},
   "outputs": [],
   "source": [
    "S = str(input())\n",
    "\n",
    "print(S)\n",
    "def huafen(S):\n",
    "    ans = []\n",
    "    max_index = {item:idx for idx,item in enumerate(S)}\n",
    "    start,end = 0,0\n",
    "    for i,char in enumerate(S):\n",
    "        end = max(end,max_index[char])\n",
    "        if i == end:\n",
    "            ans.append(end-start+1)\n",
    "            \n",
    "            start = end+1\n",
    "    return ans\n",
    "huafen(S)\n",
    "         "
   ]
  },
  {
   "cell_type": "markdown",
   "metadata": {},
   "source": [
    "### 135.分发糖果"
   ]
  },
  {
   "cell_type": "code",
   "execution_count": null,
   "metadata": {},
   "outputs": [],
   "source": [
    "nums = list(map(int,input().split()))\n",
    "def chaiqian(nums):\n",
    "    res,n = 0,len(nums)\n",
    "    l_r,r_l = [1]*n,[1]*n\n",
    "    for i in range(1,n):\n",
    "        if nums[i] > nums[i-1]:\n",
    "            l_r[i] = l_r[i-1] + 1\n",
    "    for i in range(n-2,-1,-1):\n",
    "        if nums[i] > nums[i+1]:\n",
    "            r_l[i] = max(l_r[i],r_l[i+1]+1)\n",
    "    for i in range(n):\n",
    "        res += max(l_r[i],r_l[i])\n",
    "    return res\n",
    "chaiqian(nums)\n",
    "            "
   ]
  },
  {
   "cell_type": "code",
   "execution_count": null,
   "metadata": {},
   "outputs": [],
   "source": [
    "nums = list(map(str,input()))"
   ]
  },
  {
   "cell_type": "code",
   "execution_count": null,
   "metadata": {},
   "outputs": [],
   "source": [
    "S = str(input())\n",
    "print(S)"
   ]
  },
  {
   "cell_type": "code",
   "execution_count": null,
   "metadata": {},
   "outputs": [],
   "source": []
  },
  {
   "cell_type": "code",
   "execution_count": null,
   "metadata": {},
   "outputs": [],
   "source": [
    "nums = list(map(int,input().split()))\n",
    "def chaiqian(nums):\n",
    "    res,n = 0,len(nums)\n",
    "    l_r,r_l = [1]*n,[1]*n\n",
    "    for i in range(1,n):\n",
    "        if nums[i] > nums[i-1]:\n",
    "            l_r[i] = l_r[i-1] + 1\n",
    "    for i in range(n-2,-1,-1):\n",
    "        if nums[i] > nums[i+1]:\n",
    "            r_l[i] = max(l_r[i],r_l[i+1]+1)\n",
    "    for i in range(n):\n",
    "        res += max(l_r[i],r_l[i])\n",
    "    return res\n",
    "chaiqian(nums)\n",
    "            "
   ]
  },
  {
   "cell_type": "code",
   "execution_count": null,
   "metadata": {},
   "outputs": [],
   "source": [
    "S = str(input())\n",
    "print(S[3])"
   ]
  },
  {
   "cell_type": "markdown",
   "metadata": {},
   "source": [
    "### 8.字符串转换整数"
   ]
  },
  {
   "cell_type": "code",
   "execution_count": null,
   "metadata": {},
   "outputs": [],
   "source": [
    "x = int(input())\n",
    "y = int(str(x)[::-1])\n",
    "print(y)"
   ]
  },
  {
   "cell_type": "code",
   "execution_count": null,
   "metadata": {},
   "outputs": [],
   "source": [
    "### 法一 正常遍历\n",
    "\n",
    "s = str(input())\n",
    "def zhuanhuan(s):\n",
    "    i,n,int_max,int_min,flag,ans = 0,len(s),2**31-1,-2*31,1,0\n",
    "    while i < n and s[i] == ' ':\n",
    "        i += 1\n",
    "    if  n == 0 or i == n:\n",
    "        return 0\n",
    "    if s[i] == '-':\n",
    "\n",
    "        flag = -flag\n",
    "        \n",
    "    if s[i] == '+' or s[i] == '-':\n",
    "        i += 1\n",
    "    while i < n and \"0\" <= s[i] <= \"9\":\n",
    "        ans = ans*10 + int(s[i])\n",
    "        i +=1\n",
    "        if ans > int_max:\n",
    "            break\n",
    "    ans = ans*flag\n",
    "    if ans > int_max:return int_max\n",
    "    if ans < int_min:return int_min\n",
    "    return ans\n",
    "zhuanhuan(s)\n",
    "    \n",
    "        "
   ]
  },
  {
   "cell_type": "code",
   "execution_count": null,
   "metadata": {},
   "outputs": [],
   "source": [
    "### 正则表达式\n",
    "\n",
    "s = str(input())\n",
    "def zhuanhuan(s):\n",
    "    import re\n",
    "    return max(min(int(*re.findall('^[\\+\\-]?\\d+',s.lstrip())),2**31-1),-2**31)\n",
    "    \n",
    "zhuanhuan(s)\n",
    "    "
   ]
  },
  {
   "cell_type": "code",
   "execution_count": null,
   "metadata": {},
   "outputs": [],
   "source": [
    "if -2 > -3 :print(8)"
   ]
  },
  {
   "cell_type": "markdown",
   "metadata": {},
   "source": [
    "### 9.回文数"
   ]
  },
  {
   "cell_type": "code",
   "execution_count": null,
   "metadata": {},
   "outputs": [],
   "source": [
    "n = 12323\n",
    "print(int(str(n)[::-1]))"
   ]
  },
  {
   "cell_type": "code",
   "execution_count": null,
   "metadata": {},
   "outputs": [],
   "source": [
    "n = int(input())\n",
    "def hvwf(n):\n",
    "    return str(n) == str(n)[::-1]\n",
    "hvwf(n)"
   ]
  },
  {
   "cell_type": "code",
   "execution_count": null,
   "metadata": {},
   "outputs": [],
   "source": [
    "n = int(input())\n",
    "def hvwn(n):\n",
    "    if n < 0 or (n % 10 == 0 and n != 0):return False\n",
    "    num = 0 \n",
    "    while n > num:\n",
    "        num = num*10 + n%10\n",
    "        n //= 10\n",
    "    return num == n or num//10 == n\n",
    "hvwn(n)\n"
   ]
  },
  {
   "cell_type": "markdown",
   "metadata": {},
   "source": [
    "### 43.字符串相乘"
   ]
  },
  {
   "cell_type": "code",
   "execution_count": null,
   "metadata": {},
   "outputs": [],
   "source": [
    "num1 = str(input())\n",
    "num2 = str(input())\n",
    "def cheng(num1,num2):\n",
    "    i1,i2,n1,n2,res = 0,0,0,0,0\n",
    "    while i1 < len(num1) and \"0\" <= num1[i1] <= \"9\":\n",
    "        n1 = n1*10 + int(num1[i1])\n",
    "        i1 += 1\n",
    "    while i2 < len(num2) and \"0\" <= num2[i2] <= \"9\":\n",
    "        n2 = n2*10 + int(num2[i2])\n",
    "        i2 += 1\n",
    "    return str(n1*n2)\n",
    "cheng(num1,num2)"
   ]
  },
  {
   "cell_type": "markdown",
   "metadata": {},
   "source": [
    "### 172.阶乘后的零"
   ]
  },
  {
   "cell_type": "code",
   "execution_count": null,
   "metadata": {},
   "outputs": [],
   "source": [
    "n = int(input())\n",
    "def jie(n):\n",
    "    res = 0\n",
    "    while n>0:\n",
    "        n = n//5\n",
    "        res += n\n",
    "    return res\n",
    "jie(n)\n",
    "        \n",
    "    "
   ]
  },
  {
   "cell_type": "code",
   "execution_count": null,
   "metadata": {},
   "outputs": [],
   "source": [
    "# 法二：\n",
    "n = int(input())\n",
    "def jie(n):\n",
    "    res = 0\n",
    "    for i in range(n+1):\n",
    "        a = i\n",
    "        while a > 4:\n",
    "            if a % 5 == 0:\n",
    "                res += 1\n",
    "                a //= 5\n",
    "            else:\n",
    "                break\n",
    "    return res\n",
    "jie(n)"
   ]
  },
  {
   "cell_type": "markdown",
   "metadata": {},
   "source": [
    "258.各位相加"
   ]
  },
  {
   "cell_type": "code",
   "execution_count": null,
   "metadata": {},
   "outputs": [],
   "source": [
    "### 法一 使用字符串\n",
    "num = int(input())\n",
    "def gewei(num):\n",
    "    while num > 9:\n",
    "        num = str(num)\n",
    "        a = 0\n",
    "        for i in num:\n",
    "            a += int(i)\n",
    "        num = a\n",
    "    return num\n",
    "gewei(num)"
   ]
  },
  {
   "cell_type": "code",
   "execution_count": null,
   "metadata": {},
   "outputs": [],
   "source": [
    "### 法二 使用数学技巧 数根\n",
    "num = int(input())\n",
    "def gewei(num):\n",
    "    if num < 10:\n",
    "        return num\n",
    "    return (num -1)%9 + 1\n",
    "gewei(num)"
   ]
  },
  {
   "cell_type": "code",
   "execution_count": null,
   "metadata": {},
   "outputs": [],
   "source": [
    "num = [\n",
    " [ 1, 2, 3,5],\n",
    " [ 4, 5, 6 ],\n",
    " [ 7, 8, 9 ]\n",
    "]\n",
    "print(len(num[0]))\n"
   ]
  },
  {
   "cell_type": "markdown",
   "metadata": {},
   "source": [
    "### ***54.螺旋矩阵***"
   ]
  },
  {
   "cell_type": "code",
   "execution_count": null,
   "metadata": {},
   "outputs": [],
   "source": [
    "def luoxuan(matrix):\n",
    "    #尺度要一样，要么都是下标，要多都是个数\n",
    "    top,down,left,right = 0,len(matrix)-1,0,len(matrix[0])-1\n",
    "    print(top,down,left,right)\n",
    "    res = []\n",
    "    while True:\n",
    "        for i in range(left,right+1):\n",
    "            res.append(matrix[top][i])\n",
    "        top += 1\n",
    "        if top > down:break\n",
    "        \n",
    "        for i in range(top,down +1):\n",
    "            res.append(matrix[i][right])\n",
    "        right -= 1\n",
    "        if right < left:break\n",
    "            \n",
    "        for i in range(right,left-1,-1):\n",
    "            res.append(matrix[down][i])\n",
    "        down -= 1\n",
    "        if top > down:break\n",
    "            \n",
    "        for i in range(down,top-1,-1):\n",
    "            res.append(matrix[i][left])\n",
    "        left += 1\n",
    "        if left > down:break\n",
    "    return res\n",
    "luoxuan(\n",
    "[\n",
    "  [1, 2, 3, 4],\n",
    "  [5, 6, 7, 8],\n",
    "  [9,10,11,12]\n",
    "])"
   ]
  },
  {
   "cell_type": "code",
   "execution_count": null,
   "metadata": {},
   "outputs": [],
   "source": [
    "n,a = divmod(19,10)\n",
    "print(n,a)"
   ]
  },
  {
   "cell_type": "markdown",
   "metadata": {},
   "source": [
    "### 73.矩阵置零"
   ]
  },
  {
   "cell_type": "code",
   "execution_count": null,
   "metadata": {},
   "outputs": [],
   "source": [
    "a = (1,2,3,4,5,3,4)\n",
    "print(set(a))"
   ]
  },
  {
   "cell_type": "code",
   "execution_count": null,
   "metadata": {},
   "outputs": [],
   "source": [
    "matrx = [[1,20,41,0],[1,0,41,10],[1,20,21,30],[1,0,1,10]]\n",
    "def viling(matrx):\n",
    "    row,col,row_zero,col_zero = len(matrx),len(matrx[0]),set(),set()\n",
    "    for i in range(row):\n",
    "        for j in range(col):\n",
    "            if matrx[i][j] == 0:\n",
    "                row_zero.add(i)\n",
    "                col_zero.add(j)\n",
    "    for i in range(row):\n",
    "        for j in range(col):\n",
    "            if i in row_zero or j in col_zero:\n",
    "                matrx[i][j] = 0\n",
    "    print(matrx)\n",
    "viling(matrx)"
   ]
  },
  {
   "cell_type": "markdown",
   "metadata": {},
   "source": [
    "### 78子集\n"
   ]
  },
  {
   "cell_type": "code",
   "execution_count": 3,
   "metadata": {},
   "outputs": [
    {
     "name": "stdout",
     "output_type": "stream",
     "text": [
      " 1 2 3\n"
     ]
    },
    {
     "name": "stdout",
     "output_type": "stream",
     "text": [
      "[1, 2, 3]\n",
      "[[], [1]]\n",
      "[[], [1]]\n",
      "[[], [1], [2], [2, 1]]\n",
      "[[], [1], [2], [2, 1]]\n",
      "[[], [1], [2], [2, 1], [3], [3, 1], [3, 2], [3, 2, 1]]\n",
      "[[], [1], [2], [2, 1], [3], [3, 1], [3, 2], [3, 2, 1]]\n"
     ]
    }
   ],
   "source": [
    "nums = list(map(int,input().split()))\n",
    "print(nums)\n",
    "res = [[]]\n",
    "for i in nums:\n",
    "#     print(i)\n",
    "    a = [[i] +  num for num in res ]\n",
    "#     print(a) \n",
    "    res = res + a\n",
    "#     res = res + [[i] + num for num in res]\n",
    "    \n",
    "    print(res)\n",
    "    print(sorted(res))\n",
    "            "
   ]
  },
  {
   "cell_type": "code",
   "execution_count": null,
   "metadata": {},
   "outputs": [],
   "source": [
    "print([[]] + [1])"
   ]
  },
  {
   "cell_type": "code",
   "execution_count": null,
   "metadata": {},
   "outputs": [],
   "source": [
    "x = [3]\n",
    "x += [5]\n",
    "x += [6]\n",
    "print(x)"
   ]
  },
  {
   "cell_type": "code",
   "execution_count": null,
   "metadata": {},
   "outputs": [],
   "source": [
    "nums = list(map(int,input().split(r',')))\n",
    "def ziji(nums):\n",
    "    res = []\n",
    "    for i in range(len(nums)+1):\n",
    "        for temp in itertools.combinations(nums,i):\n",
    "            res.append(temp)\n",
    "    return res\n",
    "ziji(nums)\n"
   ]
  },
  {
   "cell_type": "code",
   "execution_count": null,
   "metadata": {},
   "outputs": [],
   "source": [
    "a = [[3],3]\n",
    "b = [[400],4]\n",
    "print(a+b)\n",
    "x = [3,6]\n",
    "y = [4,7]\n",
    "print(x + y)\n",
    "m = [4]\n",
    "n = [6]\n",
    "print(m+n)"
   ]
  },
  {
   "cell_type": "markdown",
   "metadata": {},
   "source": [
    "### 581.最短无序联系子数组"
   ]
  },
  {
   "cell_type": "code",
   "execution_count": null,
   "metadata": {},
   "outputs": [],
   "source": [
    "nums = [1,3,3,3,4,5]\n",
    "print(max(nums.index(3)))"
   ]
  },
  {
   "cell_type": "code",
   "execution_count": null,
   "metadata": {},
   "outputs": [],
   "source": [
    "#暴力解法\n",
    "nums = list(map(int,input().split()))\n",
    "def zuiduan(nums):\n",
    "    l,r = len(nums) - 1,0\n",
    "    for i in range(len(nums)-1):\n",
    "        for j in range(len(nums)):\n",
    "            if nums[j] < nums[i]:\n",
    "                l = min(l,i)\n",
    "                r = max(r,j)\n",
    "    if l-r ==l:return 0\n",
    "    else:return r-l + 1\n",
    "zuiduan(nums)"
   ]
  },
  {
   "cell_type": "code",
   "execution_count": null,
   "metadata": {},
   "outputs": [],
   "source": [
    "##先用排序，后找不同 \n",
    "nums = list(map(int,input().split()))\n",
    "def zuiduan(nums):\n",
    "    l,r = len(nums)-1,0\n",
    "    nums1 = sorted(nums)\n",
    "    for i in range(len(nums)):\n",
    "        if nums1[i] != nums[i]:\n",
    "            r = i\n",
    "            l = min(l,i)\n",
    "    if l-r ==l:return 0\n",
    "    else:return r-l + 1\n",
    "zuiduan(nums)"
   ]
  },
  {
   "cell_type": "code",
   "execution_count": null,
   "metadata": {},
   "outputs": [],
   "source": [
    "a = [3 , 10,3,10,15,12,14]\n",
    "a.sort()\n",
    "print(a)"
   ]
  },
  {
   "cell_type": "markdown",
   "metadata": {},
   "source": [
    "### 945.使数组唯一的最小增量"
   ]
  },
  {
   "cell_type": "code",
   "execution_count": null,
   "metadata": {},
   "outputs": [],
   "source": [
    "a = [6]\n",
    "if not a:\n",
    "    print(5)"
   ]
  },
  {
   "cell_type": "code",
   "execution_count": null,
   "metadata": {},
   "outputs": [],
   "source": [
    "nums = list(map(int,input().split()))\n",
    "def zuidxiao(nums):\n",
    "    move = 0\n",
    "    nums.sort()\n",
    "    for i in range(1,len(nums)):\n",
    "        if nums[i] <= nums[i-1]:\n",
    "            temp = nums[i]\n",
    "            nums[i] = nums[i-1] + 1\n",
    "            move += nums[i] - temp \n",
    "    return move\n",
    "zuidxiao(nums)"
   ]
  },
  {
   "cell_type": "markdown",
   "metadata": {},
   "source": [
    "### 20.有效的括号"
   ]
  },
  {
   "cell_type": "code",
   "execution_count": null,
   "metadata": {},
   "outputs": [],
   "source": [
    "s = str(input())\n",
    "def kohao(s):\n",
    "    dic = {\"(\":\")\",\"[\":\"]\",\"{\":\"}\",\"n\":\"m\"}\n",
    "    stack = ['?']\n",
    "    for i in s:\n",
    "        if i in dic:stack.append(i)\n",
    "        elif dic[stack.pop()] != i:return False\n",
    "    return len(stack) == 1\n",
    "kohao(s)\n"
   ]
  },
  {
   "cell_type": "code",
   "execution_count": null,
   "metadata": {},
   "outputs": [],
   "source": []
  },
  {
   "cell_type": "markdown",
   "metadata": {},
   "source": [
    "### 32.最长有效括号"
   ]
  },
  {
   "cell_type": "code",
   "execution_count": null,
   "metadata": {},
   "outputs": [],
   "source": [
    "stack = []\n",
    "if not stack :\n",
    "    print(5)\n",
    "else:\n",
    "    print(6)"
   ]
  },
  {
   "cell_type": "code",
   "execution_count": null,
   "metadata": {},
   "outputs": [],
   "source": [
    "s = str(input())\n",
    "def yzxo(s):\n",
    "    max_length,stack = 0,[-1]\n",
    "    for i in range(len(s)):\n",
    "        if s[i] == '(':\n",
    "            stack.append(i)\n",
    "        else:\n",
    "            stack.pop()\n",
    "            if not stack:\n",
    "                stack.append(i)\n",
    "            else:\n",
    "                max_length = max(max_length,i-stack[-1])\n",
    "    return max_length\n",
    "yzxo(s)"
   ]
  },
  {
   "cell_type": "markdown",
   "metadata": {},
   "source": [
    "#### 224.计算器isdigit()"
   ]
  },
  {
   "cell_type": "code",
   "execution_count": null,
   "metadata": {},
   "outputs": [],
   "source": [
    "s  =\"(1+(4+5+2)-3)+(6+8)\"\n",
    "def calculate(s):\n",
    "    res = 0\n",
    "    stack = []\n",
    "    sign = 1\n",
    "    i = 0\n",
    "    n = len(s)\n",
    "    while i < n:\n",
    "        if s[i] == \" \":\n",
    "            i += 1\n",
    "        elif s[i] == \"-\":\n",
    "            sign = -1\n",
    "            i += 1\n",
    "        elif s[i] == \"+\":\n",
    "            sign = 1\n",
    "            i += 1\n",
    "        elif s[i] == \"(\":\n",
    "            stack.append(res)\n",
    "            stack.append(sign)\n",
    "            res = 0\n",
    "            sign = 1\n",
    "            i += 1\n",
    "        elif s[i] == \")\":\n",
    "            # print(stack)\n",
    "            res = res * stack.pop() + stack.pop()\n",
    "            i += 1\n",
    "        elif s[i].isdigit():\n",
    "            tmp = int(s[i])\n",
    "            i += 1\n",
    "            while i < n and s[i].isdigit():\n",
    "                tmp = tmp * 10 + int(s[i])\n",
    "                i += 1\n",
    "            res += tmp * sign\n",
    "    return res\n",
    "calculate(s)\n"
   ]
  },
  {
   "cell_type": "code",
   "execution_count": null,
   "metadata": {},
   "outputs": [],
   "source": [
    "s = \"1 + 1\"\n",
    "print(len(s))"
   ]
  },
  {
   "cell_type": "markdown",
   "metadata": {},
   "source": [
    "### 316.去除重复字母"
   ]
  },
  {
   "cell_type": "code",
   "execution_count": null,
   "metadata": {},
   "outputs": [],
   "source": [
    "s = str(input())\n",
    "def cf(s):\n",
    "    stack = []\n",
    "    dic = {}\n",
    "    for char in s:\n",
    "        if char not in dic:\n",
    "            dic[char] = 1\n",
    "        else:\n",
    "            dic[char] += 1\n",
    "            \n",
    "    for i in s:\n",
    "        if i not in stack:\n",
    "            while  stack and dic[stack[-1]] > 0  and stack[-1] > i:\n",
    "                stack.pop()\n",
    "            stack.append(i)\n",
    "        dic[i] -= 1\n",
    "    return \"\".join(stack)\n",
    "cf(s)\n",
    "            "
   ]
  },
  {
   "cell_type": "code",
   "execution_count": null,
   "metadata": {},
   "outputs": [],
   "source": [
    "##del函数不能用在字符串上，只能用在列表上\n",
    "b = \"daffd\"\n",
    "del b[0]\n",
    "print(b)"
   ]
  },
  {
   "cell_type": "code",
   "execution_count": null,
   "metadata": {},
   "outputs": [],
   "source": [
    "##给字符串或者列表计数\n",
    "import collections\n",
    "from collections import Counter\n",
    "s = 'bcabc'\n",
    "remain_counter = collections.Counter(s)\n",
    "print(s,remain_counter)\n",
    "\n",
    "\n",
    "\n",
    "dic = {}\n",
    "for i in s:\n",
    "    if i not in dic:\n",
    "        dic[i] =1\n",
    "    else:\n",
    "        dic[i] += 1\n",
    "print(dic)"
   ]
  },
  {
   "cell_type": "code",
   "execution_count": null,
   "metadata": {},
   "outputs": [],
   "source": [
    "c = [1,2,5,6]\n",
    "del c[0]\n",
    "print(c)"
   ]
  },
  {
   "cell_type": "code",
   "execution_count": null,
   "metadata": {},
   "outputs": [],
   "source": [
    "if \"a\" > \"c\":\n",
    "    print(\"6\")\n",
    "else:\n",
    "    print(5)"
   ]
  },
  {
   "cell_type": "markdown",
   "metadata": {},
   "source": [
    "### 402.移掉K位数字"
   ]
  },
  {
   "cell_type": "code",
   "execution_count": null,
   "metadata": {},
   "outputs": [],
   "source": [
    "print('' or 0)\n",
    "a = [1,2,3]\n",
    "print(a[:0])"
   ]
  },
  {
   "cell_type": "code",
   "execution_count": null,
   "metadata": {},
   "outputs": [],
   "source": [
    "num = str(input())\n",
    "k = int(input())\n",
    "def yik(num,k):\n",
    "    stack,remain = [],len(num) - k\n",
    "    print(remain)\n",
    "    for i in num:\n",
    "        ##这里的顺许不能乱弄，必须先存在stack,才能使用stack【-1】\n",
    "        while k > 0 and stack and stack[-1] > i :\n",
    "            stack.pop()\n",
    "            k -= 1\n",
    "        stack.append(i)\n",
    "    return \"\".join(stack[:remain]).lstrip(\"0\") or \"0\"\n",
    "yik(num,k)"
   ]
  },
  {
   "cell_type": "markdown",
   "metadata": {},
   "source": [
    "### 215.数组中的第K个最大元素"
   ]
  },
  {
   "cell_type": "code",
   "execution_count": null,
   "metadata": {},
   "outputs": [],
   "source": [
    "nums = list(map(int,input().split()))\n",
    "k = int(input())\n",
    "def maxk(nums,k):\n",
    "    def swap(a,b,c):\n",
    "        a[b], a[c] = a[c], a[b]\n",
    "        return\n",
    "    #这个i的意思是从i这个节点开始堆化\n",
    "    def heapify(nums,n,i):      \n",
    "        while True:\n",
    "            min1  = i \n",
    "            if i *2 +1 < n and nums[i *2 +1] <nums[min1]:\n",
    "                min1 = i*2 +1\n",
    "            if i*2 + 2 < n and nums[i*2+2] < nums[min1]:\n",
    "                min1 = i*2 +2 \n",
    "            if min1 == i:\n",
    "                break\n",
    "            swap(nums,i,min1)\n",
    "            i = min1\n",
    "    for i in range(k//2,-1,-1):\n",
    "        heapify(nums,k,i)\n",
    "    for i in range(k,len(nums)):\n",
    "        if nums[i] > nums[0]:\n",
    "            nums[0] = nums[i]\n",
    "            heapify(nums,k,0)\n",
    "    return nums[0]\n",
    "maxk(nums,k)\n"
   ]
  },
  {
   "cell_type": "code",
   "execution_count": null,
   "metadata": {},
   "outputs": [],
   "source": [
    "##法二，一行代码\n",
    "nums = list(map(int,input().split()))\n",
    "k = int(input())\n",
    "def maxk(nums,k):\n",
    "    nums.sort()\n",
    "    return nums[-k]\n",
    "maxk(nums,k)"
   ]
  },
  {
   "cell_type": "code",
   "execution_count": null,
   "metadata": {},
   "outputs": [],
   "source": [
    "nums = [ 3 ,2 ,1, 5, 6, 5]\n",
    "nums.sort()\n",
    "print(nums)"
   ]
  },
  {
   "cell_type": "code",
   "execution_count": null,
   "metadata": {},
   "outputs": [],
   "source": [
    "nums = list(map(int,input().split()))\n",
    "k = int(input())\n",
    "def maxk1(nums,k):\n",
    "    a = set(nums)\n",
    "#     a.sort() 'set' object has no attribute 'sort'\n",
    "    return sorted(a)[-k]\n",
    "maxk1(nums,k)\n"
   ]
  },
  {
   "cell_type": "markdown",
   "metadata": {},
   "source": [
    "### 347.前-k-个高频元素"
   ]
  },
  {
   "cell_type": "code",
   "execution_count": null,
   "metadata": {},
   "outputs": [],
   "source": [
    "nums = list(map(int,input().split()))\n",
    "k = int(input())\n",
    "def qiank(nums,k):\n",
    "    hashmap = {}\n",
    "    for i in nums:\n",
    "        hashmap[i] = hashmap.get(i,0) + 1\n",
    "    print(hashmap)\n",
    "    print(sorted(hashmap.values(),key = hashmap.get))\n",
    "    print(sorted(hashmap.keys(),key = hashmap.get)[:len(hashmap)-k-1:-1])\n",
    "#     return sorted(hashmap.keys(),key = hashmap.get,reverse = True)[:k]\n",
    "qiank(nums,k)"
   ]
  },
  {
   "cell_type": "code",
   "execution_count": null,
   "metadata": {},
   "outputs": [],
   "source": [
    "nums = list(map(int,input().split()))\n",
    "target = int(input())\n",
    "def lastshu(nums,target):\n",
    "    left,right = 0,len(nums)-1\n",
    "    while left<=right:\n",
    "        mid =left +(right-left)//2\n",
    "        if nums[mid] > target:\n",
    "            right = mid -1 \n",
    "        elif nums[mid] <target:\n",
    "            left = mid + 1\n",
    "        else:\n",
    "            if mid == len(nums)-1 or nums[mid+1] != target:\n",
    "                return mid\n",
    "            else:\n",
    "                left = mid +1\n",
    "    return -1\n",
    "lastshu(nums,target)\n"
   ]
  },
  {
   "cell_type": "code",
   "execution_count": null,
   "metadata": {},
   "outputs": [],
   "source": [
    "##法二 \n",
    "nums = list(map(int,input().split()))\n",
    "target = int(input())\n",
    "def firstshu(nums,target):\n",
    "    left,right = 0,len(nums)-1\n",
    "    while left <= right:\n",
    "        mid = left + (right - left)//2\n",
    "        ###这里是因为要寻找第一个相同的值，所以right 向左移动来缩小区间\n",
    "        if nums[mid] > target:\n",
    "            right = mid -1\n",
    "#         elif nums[mid] > target:\n",
    "#             right  = mid -1\n",
    "        else:\n",
    "            left = mid + 1\n",
    "            ##和上面的法二很像，不好理解\n",
    "    if left != len(nums) and nums[right] ==target:\n",
    "        return right\n",
    "    return -1\n",
    "firstshu(nums,target)"
   ]
  },
  {
   "cell_type": "markdown",
   "metadata": {},
   "source": []
  },
  {
   "cell_type": "code",
   "execution_count": null,
   "metadata": {},
   "outputs": [],
   "source": [
    "### 法三，法二的变种，最后不需要判断语句\n",
    "nums = list(map(int,input().split()))\n",
    "target = int(input())\n",
    "def lastshu(nums,target):\n",
    "    left,right = 0,len(nums)-1\n",
    "    while left <= right:\n",
    "        mid = left + (right - left)//2\n",
    "        ###这里是因为要寻找第一个相同的值，所以right 向左移动来缩小区间\n",
    "        if nums[mid] > target:\n",
    "            right = mid -1\n",
    "#         elif nums[mid] > target:\n",
    "#             right  = mid -1\n",
    "        else:\n",
    "            left = mid + 1\n",
    "            ##和上面的法二很像，不好理解\n",
    "#     if left != len(nums) and nums[right] ==target:\n",
    "#         return right\n",
    "    return right\n",
    "lastshu(nums,target)"
   ]
  },
  {
   "cell_type": "markdown",
   "metadata": {},
   "source": [
    "### 34.在排序数组中查找元素第一个和最后一个位置"
   ]
  },
  {
   "cell_type": "code",
   "execution_count": null,
   "metadata": {},
   "outputs": [],
   "source": [
    "nums = list(map(int,input().split()))\n",
    "target = int(input())\n",
    "def searchfl(nums,target):\n",
    "    def firstshu(nums,target):\n",
    "        left,right = 0,len(nums) -1 \n",
    "        while left <= right:\n",
    "            mid = left + (right - left)//2\n",
    "            if nums[mid] >= target:\n",
    "                right = mid -1\n",
    "            else:\n",
    "                left = mid +1 \n",
    "        ##while循环完之后，left和tright 的下标只差一个\n",
    "        if left < len(nums) and nums[left] == target:\n",
    "            return left\n",
    "    def lastshu(nums,target):\n",
    "        left,right = 0,len(nums) -1 \n",
    "        while left <= right:\n",
    "            mid = left + (right - left)//2\n",
    "            if nums[mid] > target:\n",
    "                right = mid -1 \n",
    "            else:\n",
    "                left +=1\n",
    "        return right\n",
    "    if len(nums) == 0:reutrn [-1,-1]\n",
    "    first = firstshu(nums,target)\n",
    "    last = lastshu(nums,target)\n",
    "    return [first,last]\n",
    "searchfl(nums,target)"
   ]
  },
  {
   "cell_type": "code",
   "execution_count": null,
   "metadata": {},
   "outputs": [],
   "source": [
    "a = []\n",
    "print(len(a))"
   ]
  },
  {
   "cell_type": "markdown",
   "metadata": {},
   "source": [
    "### 5.最长回文子串"
   ]
  },
  {
   "cell_type": "code",
   "execution_count": null,
   "metadata": {},
   "outputs": [],
   "source": [
    "lok = [1,2,3,3]\n",
    "look = set(lok)\n",
    "print(lok,look[0])"
   ]
  },
  {
   "cell_type": "code",
   "execution_count": null,
   "metadata": {},
   "outputs": [],
   "source": [
    "a= \"abcbab\"\n",
    "print(a[::])\n",
    "b = \"\"\n",
    "for i in a:\n",
    "    b += str(i)\n",
    "print(b)"
   ]
  },
  {
   "cell_type": "code",
   "execution_count": null,
   "metadata": {},
   "outputs": [],
   "source": [
    "temp = \"\"\n",
    "temp.append(\"c\")\n",
    "print(temp)"
   ]
  },
  {
   "cell_type": "code",
   "execution_count": null,
   "metadata": {},
   "outputs": [],
   "source": [
    "a = \"babaq\"\n",
    "i,j = 1,3\n",
    "# print(a[j:i:-1])\n",
    "print(a[i:j+1])\n",
    "print(a[-1:-3:-1])\n",
    "print(a[-len(a)+j:-len(a)+i-1:-1])\n"
   ]
  },
  {
   "cell_type": "code",
   "execution_count": null,
   "metadata": {},
   "outputs": [],
   "source": [
    "### 判断是否为字符串\n",
    "##法一\n",
    "nums = str(input())\n",
    "def ischar(nums):\n",
    "    return nums[::] == nums[::-1]\n",
    "ischar(nums)"
   ]
  },
  {
   "cell_type": "code",
   "execution_count": null,
   "metadata": {},
   "outputs": [],
   "source": [
    "## 法二\n",
    "nums = str(input())\n",
    "def ischar(nums):\n",
    "    for i in range(len(nums)):\n",
    "        if nums[i] != nums[-i-1]:\n",
    "            return False\n",
    "    return True\n",
    "ischar(nums)"
   ]
  },
  {
   "cell_type": "code",
   "execution_count": null,
   "metadata": {},
   "outputs": [],
   "source": [
    "# 法三\n",
    "nums = str(input())\n",
    "def ischar(nums):\n",
    "    left,right = 0,len(nums)-1\n",
    "    while left < right:\n",
    "        if nums[left] != nums[right]:\n",
    "            return False\n",
    "        left += 1\n",
    "        right -= 1\n",
    "    return True\n",
    "ischar(nums)"
   ]
  },
  {
   "cell_type": "code",
   "execution_count": null,
   "metadata": {},
   "outputs": [],
   "source": [
    "# a = \"abcdfadsfdsf\"\n",
    "b = \"bbb\"\n",
    "c = \"efg\"\n",
    "\n",
    "d = max(c,b,key = len)\n",
    "print(d)"
   ]
  },
  {
   "cell_type": "code",
   "execution_count": null,
   "metadata": {},
   "outputs": [],
   "source": [
    "s = str(input())\n",
    "def longhvw(s):\n",
    "    def spread(s,left,right):\n",
    "        while left >= 0 and right < len(s) and s[left]== s[right]:\n",
    "            left -= 1 \n",
    "            right += 1\n",
    "        return s[left+1:right]\n",
    "    if s == s[::-1]:\n",
    "        return s\n",
    "    res = s[0]\n",
    "    for i in range(len(s)):\n",
    "        odd = spread(s,i,i)\n",
    "        even = spread(s,i,i+1)\n",
    "        res = max(odd,even,res,key=len)\n",
    "    return res\n",
    "longhvw(s)"
   ]
  },
  {
   "cell_type": "code",
   "execution_count": null,
   "metadata": {},
   "outputs": [],
   "source": [
    "a = [[0,0,0],[0,0,0]]\n",
    "b = set(a)\n",
    "print(b)"
   ]
  },
  {
   "cell_type": "code",
   "execution_count": null,
   "metadata": {},
   "outputs": [],
   "source": [
    "a = [3,5]\n",
    "b = [6,1]\n",
    "a += b[2:]\n",
    "print(a)"
   ]
  },
  {
   "cell_type": "code",
   "execution_count": null,
   "metadata": {},
   "outputs": [],
   "source": [
    "##法二：动态规划，时间复杂度o(1)\n",
    "##最小子序数\n",
    "nums = list(map(int,input().split()))\n",
    "def max_sum(nums):\n",
    "    res,dp = nums[0],nums[0]\n",
    "    for i in range(1,len(nums)):\n",
    "        dp = min(dp + nums[i],nums[i])\n",
    "        res  =min(res,dp)\n",
    "    return res\n",
    "max_sum(nums)"
   ]
  },
  {
   "cell_type": "markdown",
   "metadata": {},
   "source": [
    "### 53.最大子序和"
   ]
  },
  {
   "cell_type": "code",
   "execution_count": null,
   "metadata": {},
   "outputs": [],
   "source": [
    "m,n = 3,7\n",
    "# dp = [[1]*n]+ [ [1]+ [0] * (n-1) for _ in range(m-1)]\n",
    "dp = [[1]*n] + [[1]+[0] * (n-1) for _ in range(m-1)]\n",
    "print(dp)"
   ]
  },
  {
   "cell_type": "code",
   "execution_count": null,
   "metadata": {},
   "outputs": [],
   "source": [
    "a = [[5] ] + [\"5\"]\n",
    "print(a)"
   ]
  },
  {
   "cell_type": "code",
   "execution_count": null,
   "metadata": {},
   "outputs": [],
   "source": [
    "a = [0,0,0]\n",
    "b  = set(a)\n",
    "print(b)"
   ]
  },
  {
   "cell_type": "markdown",
   "metadata": {},
   "source": [
    "### 64.最小路径和"
   ]
  },
  {
   "cell_type": "code",
   "execution_count": null,
   "metadata": {},
   "outputs": [],
   "source": [
    "grid = [[1,3,1],[1,5,1],[4,2,1]]\n",
    "print(grid)\n",
    "print(grid[:][1])\n",
    "print(grid[1][:])\n",
    "##这么写为什么会失败呢\n",
    "print(grid[:,0])"
   ]
  },
  {
   "cell_type": "code",
   "execution_count": null,
   "metadata": {},
   "outputs": [],
   "source": [
    "import numpy as np\n",
    "X = np.array([[0,1,2,3],[4,5,6,7],[8,9,10,11],[12,13,14,15]])  # 定义二维数组\n",
    "print(X)\n",
    "print(X[:])\n",
    "print(X[:,0])  # 取数组X二维数组中每一个的0号下标对应的值 [0 4 8 12]\n",
    "print(X[1,:])  # 取数组X一维数组中的第一组全部数值  [0 1 2 3]\n",
    "print(X[:,1:3])  #取所有数据的第1列到3-1列数据，从第0列开始计算,结果如下：\n",
    "print(X[1,3])\n",
    "print(X[2][3])"
   ]
  },
  {
   "cell_type": "code",
   "execution_count": null,
   "metadata": {},
   "outputs": [],
   "source": [
    "import numpy as np \n",
    "X = np.array([[1,3,1],[1,5,1],[4,2,1]])\n",
    "print(X)\n",
    "def min_road(grid):\n",
    "    for i in range(len(grid)):\n",
    "        for j in range(len(grid[0])):\n",
    "            if i==j==0:continue\n",
    "            elif i==0:grid[i][j] = grid[i][j-1] + grid[i][j]\n",
    "            elif j==0:grid[i][j] = grid[i-1][j] +grid[i][j]\n",
    "            else:grid[i][j] = min(grid[i-1][j],grid[i][j-1]) +grid[i][j]\n",
    "    return grid[-1][-1]\n",
    "min_road(X)"
   ]
  },
  {
   "cell_type": "markdown",
   "metadata": {},
   "source": [
    "### 118杨辉三角"
   ]
  },
  {
   "cell_type": "code",
   "execution_count": null,
   "metadata": {},
   "outputs": [],
   "source": [
    "a = [\n",
    "     [1],\n",
    "    [1,1],\n",
    "   [1,2,1],\n",
    "  [1,3,3,1],\n",
    " [1,4,6,4,1]\n",
    "]\n",
    "print(a[2][1])"
   ]
  },
  {
   "cell_type": "code",
   "execution_count": null,
   "metadata": {},
   "outputs": [],
   "source": [
    "a = [[]]*5\n",
    "# a[1][0] = 1\n",
    "print(a)\n",
    "b = [[1]*5]\n",
    "print(b)"
   ]
  },
  {
   "cell_type": "code",
   "execution_count": null,
   "metadata": {},
   "outputs": [],
   "source": [
    "b = [1,3]\n",
    "b += [6]\n",
    "# b.append(5)\n",
    "print(b)\n",
    "b.append(5)\n",
    "print(b)"
   ]
  },
  {
   "cell_type": "code",
   "execution_count": null,
   "metadata": {},
   "outputs": [],
   "source": [
    "a = list()\n",
    "print(a.append(12))"
   ]
  },
  {
   "cell_type": "code",
   "execution_count": null,
   "metadata": {},
   "outputs": [],
   "source": [
    "res = [[1]]\n",
    "for a ,b,c in zip([0]+res[-1],res[-1]+[0],[-2,-3]):\n",
    "    print(a)\n",
    "    print(b)\n",
    "    print(c)\n",
    "    print(5)"
   ]
  },
  {
   "cell_type": "code",
   "execution_count": null,
   "metadata": {},
   "outputs": [],
   "source": [
    "### 法一：动态规划\n",
    "nums = int(input())\n",
    "def yhhv(nums):\n",
    "    a = []\n",
    "    for i in range(nums):\n",
    "        b = []\n",
    "        for j in range(i+1):\n",
    "            if i == 0 or j == 0 or j==i:\n",
    "                b.append(1)\n",
    "            else:\n",
    "                b.append(a[i-1][j]+ a[i-1][j-1])\n",
    "        a.append(b)\n",
    "    return a\n",
    "yhhv(nums)"
   ]
  },
  {
   "cell_type": "code",
   "execution_count": null,
   "metadata": {},
   "outputs": [],
   "source": [
    "##方法2：纯数学放假，加0 在错位相加就成\n",
    "nums  = int(input())\n",
    "def yhhv(nums):\n",
    "    if nums == 0:return []\n",
    "    a = [[1]]\n",
    "    while len(a) <nums:\n",
    "        b = [a+b for a,b in zip([0] +a[-1],a[-1] + [0])]\n",
    "        a.append(b)\n",
    "    return a\n",
    "yhhv(nums)"
   ]
  },
  {
   "cell_type": "code",
   "execution_count": null,
   "metadata": {},
   "outputs": [],
   "source": [
    "a = {6:3,8:4}\n",
    "if not a[1]:\n",
    "    print(5)\n",
    "else:\n",
    "    print(9)\n",
    "print(a.get(8))\n",
    "print(a[6])\n",
    "# print(a[1])\n"
   ]
  },
  {
   "cell_type": "markdown",
   "metadata": {},
   "source": [
    "### 300.最长递增子序列"
   ]
  },
  {
   "cell_type": "code",
   "execution_count": null,
   "metadata": {},
   "outputs": [],
   "source": [
    "nums = list(map(int,input().split()))\n",
    "def zvzi(nums):\n",
    "    if len(nums)<=1:return len(nums)\n",
    "    dp = [1]*len(nums)\n",
    "    for i in range(1,len(nums)):\n",
    "        for j in range(i):\n",
    "            if nums[j] <nums[i]:\n",
    "                dp[i] = max(dp[i],dp[j]+1)\n",
    "    res = 0\n",
    "    for i in dp:\n",
    "        res = max(i,res)\n",
    "    return res\n",
    "zvzi(nums)"
   ]
  },
  {
   "cell_type": "markdown",
   "metadata": {},
   "source": [
    "### ***1143.最长公共子序列***"
   ]
  },
  {
   "cell_type": "code",
   "execution_count": null,
   "metadata": {},
   "outputs": [],
   "source": [
    "text1 = str(input())\n",
    "text2 = str(input())\n",
    "def zvih(text1,text2):\n",
    "    ## \n",
    "    m,n = len(text1),len(text2)\n",
    "    dp = [[0]*(n+1)]*(m+1)\n",
    "    for i in range(m):\n",
    "        for j in range(n):\n",
    "            if text1[i] ==text2[j]:\n",
    "                dp[i+1][j+1] = dp[i][j] + 1\n",
    "            else:\n",
    "                dp[i+1][j+1] = max(dp[i][j+1],dp[i+1][j])\n",
    "    return dp[-1][-1]\n",
    "zvih(text1,text2)"
   ]
  },
  {
   "cell_type": "code",
   "execution_count": null,
   "metadata": {},
   "outputs": [],
   "source": [
    "##最长公共子序\n",
    "str1,str2 = input().split()\n",
    "def common(str1,str2):\n",
    "    m,n = len(str1),len(str2)\n",
    "    res = ''\n",
    "    dp = [[0 for i in range(n+1)]for _ in range(m+1)]\n",
    "    for i in range(m):\n",
    "        for j in range(n):\n",
    "            if str1[i] == str2[j]:\n",
    "                dp[i+1][j+1] = dp[i][j]+1\n",
    "                if dp[i+1][j+1] > len(res):\n",
    "                    res +=str1[i]\n",
    "            else:\n",
    "                dp[i+1][j+1] = max(dp[i][j+1],dp[i+1][j])\n",
    "    print(dp[i+1][j+1],dp[m][n],dp[-1][-1],res)\n",
    "#     pritn(dp)\n",
    "common(str1,str2)"
   ]
  },
  {
   "cell_type": "code",
   "execution_count": null,
   "metadata": {},
   "outputs": [],
   "source": [
    "a  = {6:3,5:4,43:3}\n",
    "print(len(a))"
   ]
  },
  {
   "cell_type": "markdown",
   "metadata": {},
   "source": [
    "### 1277.统计全为1 的正方形子矩阵"
   ]
  },
  {
   "cell_type": "code",
   "execution_count": null,
   "metadata": {},
   "outputs": [],
   "source": [
    "matrix = matrix =[\n",
    "  [0,1,1,1],\n",
    "  [1,1,1,1],\n",
    "  [0,1,1,1]\n",
    "]\n",
    "def tongji(matrix):\n",
    "    res = 0\n",
    "    for i in range(len(matrix)):\n",
    "        for j in range(len(matrix[0])):\n",
    "            if matrix[i][j] == 1:\n",
    "                if i > 0 and j > 0:\n",
    "                    matrix[i][j] = min(matrix[i][j-1],matrix[i-1][j-1],matrix[i-1][j])+1\n",
    "                res += matrix[i][j]\n",
    "    return res\n",
    "tongji(matrix)"
   ]
  },
  {
   "cell_type": "code",
   "execution_count": null,
   "metadata": {},
   "outputs": [],
   "source": [
    "# nums = list(map(int,input().split()))\n",
    "# print(nums)\n",
    "import numpy as np \n",
    "a = np.array(range(12))\n",
    "print(a)\n",
    "b = a.reshape(3,4)\n",
    "print(b)"
   ]
  },
  {
   "cell_type": "code",
   "execution_count": null,
   "metadata": {},
   "outputs": [],
   "source": [
    "import numpy as np \n",
    "a = np.random.randint(0,100,size= [3,3])\n",
    "print(a)"
   ]
  },
  {
   "cell_type": "code",
   "execution_count": null,
   "metadata": {},
   "outputs": [],
   "source": [
    "a= \"\"\n",
    "if a[0]==1:\n",
    "    \n",
    "    print(len(a))"
   ]
  },
  {
   "cell_type": "code",
   "execution_count": null,
   "metadata": {},
   "outputs": [],
   "source": [
    "n  = 1 \n",
    "print(n//5)"
   ]
  },
  {
   "cell_type": "markdown",
   "metadata": {},
   "source": [
    "### 10.正则表达式"
   ]
  },
  {
   "cell_type": "code",
   "execution_count": null,
   "metadata": {},
   "outputs": [],
   "source": [
    "s_len = 3\n",
    "p_len = 5\n",
    "dp = [[False] * (p_len + 1) for _ in range(s_len + 1)]\n",
    "dp[0][0] = True\n",
    "print(dp)"
   ]
  },
  {
   "cell_type": "code",
   "execution_count": null,
   "metadata": {},
   "outputs": [],
   "source": [
    "a = [1]\n",
    "print(a[-1])"
   ]
  },
  {
   "cell_type": "code",
   "execution_count": null,
   "metadata": {},
   "outputs": [],
   "source": [
    "a = [1,3,5,4]\n",
    "print(a[::-1])"
   ]
  },
  {
   "cell_type": "code",
   "execution_count": null,
   "metadata": {},
   "outputs": [],
   "source": [
    "x,res = 123,0\n",
    "while x >0:\n",
    "    res = (res + x%10)*10\n",
    "    x //= 10\n",
    "print(res)"
   ]
  },
  {
   "cell_type": "code",
   "execution_count": null,
   "metadata": {},
   "outputs": [],
   "source": [
    "s = [3424]\n",
    "print(int(*s) +10)"
   ]
  },
  {
   "cell_type": "code",
   "execution_count": null,
   "metadata": {},
   "outputs": [],
   "source": [
    "a = [-1, -8, 3, 3, 4, 5, 33, 5, 34]\n",
    "print(a[:-2])"
   ]
  },
  {
   "cell_type": "code",
   "execution_count": null,
   "metadata": {},
   "outputs": [],
   "source": [
    "a = \"\"\n",
    "print(len(a))\n",
    "print(a[0])"
   ]
  },
  {
   "cell_type": "markdown",
   "metadata": {},
   "source": [
    "### 46.全排列"
   ]
  },
  {
   "cell_type": "code",
   "execution_count": 1,
   "metadata": {},
   "outputs": [
    {
     "name": "stdout",
     "output_type": "stream",
     "text": [
      "False\n",
      "True\n",
      "[True, False, False]\n"
     ]
    }
   ],
   "source": [
    "nums = [1,2,3]\n",
    "used = [False for _ in range(len(nums))]\n",
    "print(used[0])\n",
    "if not used[0]:\n",
    "    used[0] = True\n",
    "    print(used[0])\n",
    "else:\n",
    "    print(5)\n",
    "print(used)"
   ]
  },
  {
   "cell_type": "code",
   "execution_count": null,
   "metadata": {},
   "outputs": [],
   "source": [
    "a = [False]*3\n",
    "print(a)"
   ]
  },
  {
   "cell_type": "code",
   "execution_count": null,
   "metadata": {},
   "outputs": [],
   "source": [
    "nums = [1,2,3]\n",
    "def permute(nums):\n",
    "    size = len(nums)\n",
    "    used = [False]*size\n",
    "    depth,res = 0,[]\n",
    "    \n",
    "    def dfs(nums,size,depth,path,used,res):\n",
    "        if depth == size:\n",
    "            res.append(path[:])\n",
    "            return \n",
    "        for i in range(size):\n",
    "            if not used[i]:\n",
    "                used[i] = True\n",
    "                path.append(nums[i])\n",
    "                dfs(nums,size,depth+1,path,used,res)\n",
    "                used[i] = False\n",
    "                path.pop()\n",
    "    \n",
    "    dfs(nums,size,depth,[],used,res)\n",
    "    return res\n",
    "permute(nums)"
   ]
  },
  {
   "cell_type": "markdown",
   "metadata": {},
   "source": [
    "### 6.Z字形变换"
   ]
  },
  {
   "cell_type": "code",
   "execution_count": null,
   "metadata": {},
   "outputs": [],
   "source": [
    "res = [\"\"]*3\n",
    "print(res)"
   ]
  },
  {
   "cell_type": "code",
   "execution_count": null,
   "metadata": {},
   "outputs": [],
   "source": [
    "res = [\"     \" for _ in range(3)]\n",
    "print(res)"
   ]
  },
  {
   "cell_type": "code",
   "execution_count": null,
   "metadata": {},
   "outputs": [],
   "source": [
    "s = str(input())\n",
    "nums = int(input())\n",
    "def Z_transform(s,nums):\n",
    "    if nums <= 1:return s\n",
    "    res = [\" \" for _ in range(nums)]\n",
    "    i,sign = 0,-1\n",
    "    for c in s:\n",
    "        res[i] += c\n",
    "        if i == 0 or i == nums -1:sign = -sign\n",
    "        i += sign\n",
    "    return \"\".join(res)\n",
    "Z_transform(s,nums)\n",
    "\n",
    "        "
   ]
  },
  {
   "cell_type": "code",
   "execution_count": null,
   "metadata": {},
   "outputs": [],
   "source": [
    "res = [\"abcd  \",\"edsaf\",\"dsfsda\"]\n",
    "print(\"\".join(res))"
   ]
  },
  {
   "cell_type": "markdown",
   "metadata": {},
   "source": [
    "### 14.最长公共前缀"
   ]
  },
  {
   "cell_type": "code",
   "execution_count": null,
   "metadata": {},
   "outputs": [],
   "source": [
    "a = [\"flower\",\"flow\",\"flight\"]\n",
    "for i in zip(*a):\n",
    "    print(i)"
   ]
  },
  {
   "cell_type": "code",
   "execution_count": null,
   "metadata": {},
   "outputs": [],
   "source": [
    "a = ('f', 'f', 'f')\n",
    "b = set(a)\n",
    "a = list(a)\n",
    "a += set(a)\n",
    "print(a,b)\n",
    "# print(set(a))"
   ]
  },
  {
   "cell_type": "code",
   "execution_count": null,
   "metadata": {},
   "outputs": [],
   "source": [
    "strs = [\"faower\",\"flow\",\"flight\"]\n",
    "print(max(strs),min(strs))"
   ]
  },
  {
   "cell_type": "code",
   "execution_count": null,
   "metadata": {},
   "outputs": [],
   "source": [
    "res = \" a   e,\"\n",
    "res+=\"c\"\n",
    "print(res)"
   ]
  },
  {
   "cell_type": "code",
   "execution_count": null,
   "metadata": {},
   "outputs": [],
   "source": [
    "strs = list(map(str,input().split(\",\")))\n",
    "print(strs)"
   ]
  },
  {
   "cell_type": "code",
   "execution_count": null,
   "metadata": {},
   "outputs": [],
   "source": [
    "strs = str(input())\n",
    "print(strs)"
   ]
  },
  {
   "cell_type": "code",
   "execution_count": null,
   "metadata": {},
   "outputs": [],
   "source": [
    "a = [\"\"]\n",
    "print(max(a),min(a))"
   ]
  },
  {
   "cell_type": "markdown",
   "metadata": {},
   "source": [
    "### 39.组合总和"
   ]
  },
  {
   "cell_type": "code",
   "execution_count": 25,
   "metadata": {},
   "outputs": [
    {
     "name": "stdout",
     "output_type": "stream",
     "text": [
      " 5 2 1\n",
      " 11\n"
     ]
    },
    {
     "data": {
      "text/plain": [
       "3"
      ]
     },
     "execution_count": 25,
     "metadata": {},
     "output_type": "execute_result"
    }
   ],
   "source": [
    "nums = list(map(int,input().split()))\n",
    "target = int(input())\n",
    "def combinationSum(nums,target):\n",
    "    size = len(nums)\n",
    "    depth = 0\n",
    "    path,res = [],[]\n",
    "    \n",
    "    def dfs(nums,depth,path,res,target):\n",
    "        if target < 0:\n",
    "            return \n",
    "        if target == 0:\n",
    "            res.append(path)\n",
    "            return path\n",
    "        for i in range(depth,size):\n",
    "            dfs(nums,i,path+[nums[i]],res,target - nums[i])\n",
    "    \n",
    "    dfs(nums,0,path,res,target)\n",
    "    return len(res[0])\n",
    "combinationSum(nums,target)\n"
   ]
  },
  {
   "cell_type": "code",
   "execution_count": 26,
   "metadata": {},
   "outputs": [
    {
     "name": "stdout",
     "output_type": "stream",
     "text": [
      "3\n"
     ]
    }
   ],
   "source": [
    "a= [[5, 5, 1], [5, 2, 2, 2], [5, 2, 2, 1, 1],[5, 2, 1, 1, 1, 1]]\n",
    "a.sort(reverse = True)\n",
    "print(len(a[0]))"
   ]
  },
  {
   "cell_type": "code",
   "execution_count": 21,
   "metadata": {},
   "outputs": [
    {
     "name": "stdout",
     "output_type": "stream",
     "text": [
      "[2, 2, 3]\n"
     ]
    }
   ],
   "source": [
    "a = [[2, 2, 3], [1]]\n",
    "print(max(a))"
   ]
  },
  {
   "attachments": {
    "acc4bb57-3c5e-4977-90b5-78c35d5ca1d8.png": {
     "image/png": "[encoded data removed]"
    }
   },
   "cell_type": "markdown",
   "metadata": {},
   "source": [
    "![image.png](attachment:acc4bb57-3c5e-4977-90b5-78c35d5ca1d8.png)"
   ]
  },
  {
   "cell_type": "code",
   "execution_count": null,
   "metadata": {},
   "outputs": [],
   "source": [
    "nums = [3,1,7,1]\n",
    "def ziji(nums):\n",
    "    res =[[]]\n",
    "    for i in nums:\n",
    "        res += [[i] + num for num in res]\n",
    "    temp = []\n",
    "    for i in range(len(res)):\n",
    "        if sum(res[i]) > sum(nums)//2:\n",
    "            temp.append(res[i])\n",
    "    \n",
    "    return int(len(temp)/2 + 1) \n",
    "ziji(nums)"
   ]
  },
  {
   "cell_type": "code",
   "execution_count": null,
   "metadata": {},
   "outputs": [],
   "source": [
    "##子集\n",
    "nums = list(map(int,input().split()))\n",
    "def zijigeshu(nums):\n",
    "    nums  =sorted(nums,reverse = True)\n",
    "    print(nums)\n",
    "    count,i,temp = 0,0,1\n",
    "    while i <= len(nums)//2:\n",
    "        if sum(nums[i:i+temp]) > sum(nums)//2:\n",
    "            count += len(nums)-i-temp +1\n",
    "            temp =1\n",
    "            i +=1\n",
    "            continue\n",
    "        else:\n",
    "            temp+=1\n",
    "            if temp>len(nums):\n",
    "                break\n",
    "    return count\n",
    "zijigeshu(nums)"
   ]
  },
  {
   "cell_type": "code",
   "execution_count": null,
   "metadata": {},
   "outputs": [],
   "source": [
    "nums = list(map(int,input().split()))\n",
    "def zijigeshu(nums):\n",
    "    nums  =sorted(nums,reverse = True)\n",
    "    print(nums)\n",
    "    count = 0\n",
    "    for i in range(len(nums)//2):\n",
    "        for j in range(i,len(nums)):\n",
    "            if sum(nums[i:j+1]) > sum(nums)//2:\n",
    "                count += len(nums)-j\n",
    "                break\n",
    "    return count\n",
    "zijigeshu(nums)"
   ]
  },
  {
   "cell_type": "markdown",
   "metadata": {},
   "source": [
    "### 阿里第一道和leetcode 945相似"
   ]
  },
  {
   "cell_type": "code",
   "execution_count": null,
   "metadata": {},
   "outputs": [],
   "source": [
    "### 阿里第一道和leetcode 945相似\n",
    "T = int(input())\n",
    "lst = []\n",
    "for i in range(T):\n",
    "    n = int(input())\n",
    "    lst1 = list(map(int,input().split()))\n",
    "    lst.append(lst1)\n",
    "for i in range(len(lst)):\n",
    "    if len(lst[i]) <= 1:\n",
    "        print(len(lst[i]))\n",
    "    if len(lst[i]) > 1:\n",
    "        for k in range(1,len(lst[i])):\n",
    "            if lst[i][k] <= lst[i][k-1]:\n",
    "                lst[i][k] = lst[i][k]+1\n",
    "    print(len(set(lst[i])))"
   ]
  },
  {
   "cell_type": "code",
   "execution_count": null,
   "metadata": {},
   "outputs": [],
   "source": [
    "i =-1\n",
    "for i in range(0,i):\n",
    "    print(5)"
   ]
  },
  {
   "cell_type": "code",
   "execution_count": null,
   "metadata": {},
   "outputs": [],
   "source": [
    "n = int(input())\n",
    "def geshu(nums):\n",
    "    if len(nums)<=1:return len(nums)\n",
    "    for i in range(1,len(nums)):\n",
    "        if nums[i] <= nums[i-1]:\n",
    "            nums[i] = nums[i] +1\n",
    "    print(len(set(nums)))\n",
    "#     return \n",
    "for i in range(n):\n",
    "    numbers = int(input())\n",
    "    nums_n = list(map(int,input().split()))\n",
    "    geshu(nums_n)\n"
   ]
  },
  {
   "cell_type": "code",
   "execution_count": null,
   "metadata": {},
   "outputs": [],
   "source": [
    "nums =5\n",
    "def a(nums):\n",
    "    print(nums)\n",
    "a(nums)\n",
    "print(6)"
   ]
  },
  {
   "cell_type": "markdown",
   "metadata": {},
   "source": [
    "## 141.环形链表 自己输入一个链表"
   ]
  },
  {
   "cell_type": "code",
   "execution_count": 16,
   "metadata": {},
   "outputs": [
    {
     "name": "stdout",
     "output_type": "stream",
     "text": [
      " 3 2 0 -4,1\n"
     ]
    },
    {
     "name": "stdout",
     "output_type": "stream",
     "text": [
      "{3: <__main__.ListNode object at 0x000001A02E59FA48>, 2: <__main__.ListNode object at 0x000001A02E5F9188>, 0: <__main__.ListNode object at 0x000001A02E660AC8>, -4: <__main__.ListNode object at 0x000001A02E660C88>}\n",
      "True\n"
     ]
    }
   ],
   "source": [
    "##141.环形链表 自己输入一个链表\n",
    "class ListNode:\n",
    "    def __init__(self,x,next=None):\n",
    "        self.val = x\n",
    "        self.next = None\n",
    "nums,pos = list(input().split(\",\"))\n",
    "head = list(map(int,nums.split()))\n",
    "root = ListNode(head[0])\n",
    "nodes = {head[0]:root}\n",
    "for i in range(1,len(head)):\n",
    "    nodes[head[i]] = ListNode(head[i])\n",
    "#     print(type(ListNode(head[i])))\n",
    "    nodes[head[i-1]].next = nodes[head[i]]\n",
    "##建立环形链表，未成功 如果案例是3 2 0-4 1，的话 下面这行代码建立的链表应该是3 2 0 -4 ——>2-none而不是环形\n",
    "# nodes[head[len(head)-1]].next = ListNode(list(nodes)[int(pos)])\n",
    "nodes[head[len(head)-1]].next = nodes[list(nodes)[int(pos)]]\n",
    "#建立普通链表\n",
    "# nodes[head[len(head)-1]].next = None\n",
    "\n",
    "print(nodes)\n",
    "\n",
    "def hasCycle(head):\n",
    "    if not head or not head.next:\n",
    "        print(False)\n",
    "        return \n",
    "    slow,fast = head,head.next\n",
    "    while slow != fast:\n",
    "        if not fast or not fast.next:\n",
    "            print(False)\n",
    "            return\n",
    "        slow = slow.next\n",
    "        fast =fast.next.next\n",
    "    print(True)\n",
    "if int(pos)==-1:\n",
    "    print(False)\n",
    "else:\n",
    "    hasCycle(root)"
   ]
  },
  {
   "cell_type": "markdown",
   "metadata": {},
   "source": [
    "## 二叉树遍历"
   ]
  },
  {
   "cell_type": "code",
   "execution_count": 18,
   "metadata": {},
   "outputs": [
    {
     "name": "stdout",
     "output_type": "stream",
     "text": [
      " 3 1\n",
      " 1 2 3\n",
      " 2 0 0\n",
      " 3 0 0 \n"
     ]
    },
    {
     "name": "stdout",
     "output_type": "stream",
     "text": [
      "1 2 3\n",
      "2 1 3\n",
      "2 3 1\n"
     ]
    }
   ],
   "source": [
    "##二叉树遍历\n",
    "class TreeNode:\n",
    "    def __init__(self,x,left=None,right=None):\n",
    "        self.val = x\n",
    "        self.left = None\n",
    "        self.right = None\n",
    "\n",
    "# 先序递归\n",
    "# def preOrderRecur(root):\n",
    "#     ans = []\n",
    "#     if not root:\n",
    "#         return ans\n",
    "#     ans.append(root.val)\n",
    "#     ans.extend(preOrderRecur(root.left))\n",
    "#     ans.extend(preOrderRecur(root.right))\n",
    "#     return ans\n",
    "\n",
    "##先序遍历2\n",
    "def preOrderRecur(root):\n",
    "    stack, ans = [root],[]\n",
    "    while stack:\n",
    "        i = stack.pop()\n",
    "        if isinstance(i,TreeNode):\n",
    "            stack.extend([i.right,i.left,i.val])\n",
    "        if isinstance(i,int):\n",
    "            ans.append(i)\n",
    "    return ans\n",
    "    \n",
    " \n",
    "\n",
    "##中序递归\n",
    "def inOrderRecur(root):\n",
    "    ans = []\n",
    "    if not root:\n",
    "        return ans\n",
    "    ans.extend(inOrderRecur(root.left))\n",
    "    ans.append(root.val)\n",
    "    ans.extend(inOrderRecur(root.right))\n",
    "    return ans\n",
    " \n",
    " \n",
    "# 后序递归\n",
    "def posOrderRecur(root):\n",
    "    ans = []\n",
    "    if not root:\n",
    "        return ans\n",
    "    ans.extend(posOrderRecur(root.left))\n",
    "    ans.extend(posOrderRecur(root.right))\n",
    "    ans.append(root.val)\n",
    "    return ans\n",
    "\n",
    "# n, r = [int(x) for x in input().split()]\n",
    "n, r = map(int,input().split())\n",
    "root = TreeNode(r)\n",
    "nodes = {r:root}\n",
    "\n",
    "for _ in range(n):\n",
    "#     fa,lch,rch = [int(x) for x in input().split()]\n",
    "    fa,lch,rch = list(map(int,input().split()))\n",
    "    if lch != 0:\n",
    "        nodes[lch] = TreeNode(lch)\n",
    "        nodes[fa].left = nodes[lch]\n",
    "    if rch != 0:\n",
    "        nodes[rch] = TreeNode(rch)\n",
    "        nodes[fa].right = nodes[rch]\n",
    "\n",
    "pre_order = preOrderRecur(root)\n",
    "# print(' '.join(str(x) for x in pre_order))\n",
    "print(\" \".join(list(map(str,pre_order))))\n",
    "##*号起到的作用就是一个单纯的解包，里面的元素之前是什么类型，现在就还是什么类型\n",
    "# print(*pre_order)\n",
    "in_order = inOrderRecur(root)\n",
    "##就是一个简单的生成器，用生成器把列表里面的整数类型，转换成字符串类型来让join 函数操作\n",
    "print(' '.join(str(x) for x in in_order))\n",
    "pos_order = posOrderRecur(root)\n",
    "print(' '.join(str(x) for x in pos_order))\n"
   ]
  },
  {
   "cell_type": "code",
   "execution_count": null,
   "metadata": {},
   "outputs": [],
   "source": [
    "###获取字典中的索引\n",
    "Data = {\"A\":2,\"B\":2,\"C\":1}\n",
    "print(list(Data),list(Data.keys()),list(Data.values()))\n",
    "max_Key = list(Data.keys())[list(Data.values()).index(max(list(Data.values())))]\n",
    "print(max_Key,Data[max_Key])"
   ]
  },
  {
   "attachments": {
    "54616a73-16ce-42df-84db-a90f551f77f8.png": {
     "image/png": "[encoded data removed]"
    }
   },
   "cell_type": "markdown",
   "metadata": {},
   "source": [
    "![image.png](attachment:54616a73-16ce-42df-84db-a90f551f77f8.png)"
   ]
  },
  {
   "cell_type": "code",
   "execution_count": 3,
   "metadata": {},
   "outputs": [
    {
     "name": "stdout",
     "output_type": "stream",
     "text": [
      " (ed(et(oc))el)\n"
     ]
    },
    {
     "name": "stdout",
     "output_type": "stream",
     "text": [
      " ed et oc  el \n",
      "eloceted\n"
     ]
    }
   ],
   "source": [
    "# str1 = \"(u(love)i)\"\n",
    "str1 = input()\n",
    "str1= str1.replace(\")\",\" \").replace(\"(\",\" \")\n",
    "print(str1)\n",
    "print(\"\".join(reversed(str1.split())))"
   ]
  },
  {
   "cell_type": "code",
   "execution_count": 4,
   "metadata": {},
   "outputs": [
    {
     "name": "stdout",
     "output_type": "stream",
     "text": [
      "['']\n"
     ]
    }
   ],
   "source": [
    "stack = []\n",
    "word = \"\"\n",
    "stack.append(word)\n",
    "print(stack)"
   ]
  },
  {
   "cell_type": "code",
   "execution_count": 9,
   "metadata": {},
   "outputs": [
    {
     "name": "stdout",
     "output_type": "stream",
     "text": [
      " 3 6  34 36 135 3354\n",
      " 5\n"
     ]
    },
    {
     "name": "stdout",
     "output_type": "stream",
     "text": [
      "-1\n"
     ]
    }
   ],
   "source": [
    "#二分查找 非递归\n",
    "nums = list(map(int,input().split()))\n",
    "target = int(input())\n",
    "def twoSearch(nums,target):\n",
    "    low,high = 0,len(nums)-1\n",
    "    while low <= high:\n",
    "        mid = low + (high - low)//2\n",
    "        if nums[mid] == target:\n",
    "            print(mid)\n",
    "            return\n",
    "        elif nums[mid] > target:\n",
    "            high = mid -1\n",
    "        else:\n",
    "            \n",
    "            low = mid + 1\n",
    "    print(-1)\n",
    "twoSearch(nums,target)"
   ]
  },
  {
   "cell_type": "code",
   "execution_count": 20,
   "metadata": {},
   "outputs": [
    {
     "name": "stdout",
     "output_type": "stream",
     "text": [
      " 3 6  34 36 135 3354\n",
      " 4352\n"
     ]
    },
    {
     "name": "stdout",
     "output_type": "stream",
     "text": [
      "-1\n"
     ]
    }
   ],
   "source": [
    "## 二分查找 递归\n",
    "nums = list(map(int,input().split()))\n",
    "target = int(input())\n",
    "def twoRecursion(nums,low,high,target):\n",
    "    ##递归终止条件\n",
    "    if low > high:\n",
    "        print(-1)\n",
    "        return\n",
    "    while low <= high:\n",
    "        mid = low + (high-low)//2\n",
    "        if nums[mid] == target:\n",
    "            print(mid)\n",
    "            return \n",
    "        elif nums[mid] < target:\n",
    "            return twoRecursion(nums,mid+1,high,target)\n",
    "        else:\n",
    "            return twoRecursion(nums,low,mid-1,target)\n",
    "    \n",
    "twoRecursion(nums,0,len(nums)-1,target)"
   ]
  },
  {
   "cell_type": "code",
   "execution_count": 1,
   "metadata": {},
   "outputs": [
    {
     "name": "stdout",
     "output_type": "stream",
     "text": [
      " 3 46 1 64 -21 451 32\n"
     ]
    },
    {
     "data": {
      "text/plain": [
       "[-21, 1, 3, 32, 46, 64, 451]"
      ]
     },
     "execution_count": 1,
     "metadata": {},
     "output_type": "execute_result"
    }
   ],
   "source": [
    "nums = list(map(int,input().split()))\n",
    "def quickSort(nums,low,high):\n",
    "    if low >= high:\n",
    "#         print(nums)\n",
    "        return \n",
    "    ##设置哨兵\n",
    "    i,j = low,high\n",
    "    ##nums[low]和nums[i]都一样\n",
    "    target = nums[low]\n",
    "    while i < j:\n",
    "        while i < j and nums[j] > target:\n",
    "            j-=1\n",
    "        while i< j and nums[i] <= target:\n",
    "            i+=1\n",
    "        nums[i],nums[j] = nums[j],nums[i]\n",
    "    nums[low],nums[i] = nums[i],nums[low]\n",
    "    quickSort(nums,low,i-1)\n",
    "    quickSort(nums,i+1,high)\n",
    "#     print(nums)\n",
    "    return nums\n",
    "quickSort(nums,0,len(nums)-1)\n",
    "    \n",
    "        \n"
   ]
  },
  {
   "cell_type": "markdown",
   "metadata": {},
   "source": [
    "### 360第一题把 ab变成 bba,把ac变成ca一样可以用着几种方法来做"
   ]
  },
  {
   "cell_type": "code",
   "execution_count": 7,
   "metadata": {},
   "outputs": [
    {
     "name": "stdout",
     "output_type": "stream",
     "text": [
      " ababab\n"
     ]
    },
    {
     "name": "stdout",
     "output_type": "stream",
     "text": [
      "11\n"
     ]
    }
   ],
   "source": [
    "## 法一：巧妙利用字符全的replace功能\n",
    "# def is_ab(s):\n",
    "#     i= res = 0\n",
    "#     for i in range(len(s)-1):\n",
    "#         if s[i:i+2] == \"ab\":\n",
    "#             res += 1\n",
    "#             res %= 1000000007\n",
    "#     return res\n",
    "# s = input()\n",
    "# num = is_ab(s)\n",
    "# while is_ab(s) != 0:\n",
    "#     s = s.replace(\"ab\",\"bba\")\n",
    "#     num = num + is_ab(s)\n",
    "# print(num)\n",
    "        \n",
    "\n",
    "    \n",
    "def is_ab(s):\n",
    "    i= res = 0\n",
    "    for i in range(len(s)-1):\n",
    "        if s[i:i+2] == \"ab\":\n",
    "            res += 1\n",
    "            res %= 1000000007\n",
    "    return res\n",
    "s = input()\n",
    "num = 0\n",
    "while is_ab(s) != 0:\n",
    "    num+=is_ab(s)\n",
    "    s = s.replace(\"ab\",\"bba\")\n",
    "\n",
    "print(num)"
   ]
  },
  {
   "cell_type": "code",
   "execution_count": 15,
   "metadata": {},
   "outputs": [
    {
     "name": "stdout",
     "output_type": "stream",
     "text": [
      "\n"
     ]
    }
   ],
   "source": [
    "s = \"abab\"\n",
    "print(s[-1:2])"
   ]
  },
  {
   "cell_type": "code",
   "execution_count": null,
   "metadata": {},
   "outputs": [],
   "source": []
  },
  {
   "cell_type": "code",
   "execution_count": 12,
   "metadata": {},
   "outputs": [
    {
     "name": "stdout",
     "output_type": "stream",
     "text": [
      " abba\n"
     ]
    },
    {
     "name": "stdout",
     "output_type": "stream",
     "text": [
      "2\n"
     ]
    }
   ],
   "source": [
    "### 法二 使用字符串拼接\n",
    "str1 = input()\n",
    "def number(str1):\n",
    "    i = res = 0\n",
    "    while \"ab\" in str1:\n",
    "        if str1[i:i+2] ==\"ab\":  ### 这个方法对java来说就不行，比如abba这个题目，i有-1的可能，而java里面索引都是从0开始的，所以不行\n",
    "            str1 = str1[:i] + \"bba\" + str1[i+2:]\n",
    "            res += 1\n",
    "            res %=1000000007\n",
    "            #这里必须加这个因为aaab第一次编程aabba了\n",
    "            i -= 1\n",
    "        else:\n",
    "            i += 1\n",
    "    return res\n",
    "out = number(str1)               \n",
    "print(out)"
   ]
  },
  {
   "cell_type": "code",
   "execution_count": 4,
   "metadata": {},
   "outputs": [
    {
     "name": "stdout",
     "output_type": "stream",
     "text": [
      "[[0, 0, 0, 0], [0, 0, 0, 0], [0, 0, 0, 0], [0, 0, 0, 0], [0, 0, 0, 0]]\n"
     ]
    }
   ],
   "source": [
    "dp = [[0 for _ in range(3+1)] for _ in range(4+1)]\n",
    "print(dp)"
   ]
  },
  {
   "cell_type": "code",
   "execution_count": 5,
   "metadata": {},
   "outputs": [
    {
     "name": "stdout",
     "output_type": "stream",
     "text": [
      "['CCC']\n"
     ]
    }
   ],
   "source": [
    "##把1,3 2,5 8,10 11,15 变成[[1, 3], [2, 5], [8, 10], [11, 15]]\n",
    "line = input()\n",
    "intervals = [list(map(int, item.split(\",\"))) for item in line.split()]\n",
    "print(intervals)"
   ]
  },
  {
   "attachments": {
    "38c448ad-0f92-46d3-a334-03b5cdc23571.png": {
     "image/png": "[encoded data removed]"
    }
   },
   "cell_type": "markdown",
   "metadata": {},
   "source": [
    "## 岛屿\n",
    "![岛屿.png](attachment:38c448ad-0f92-46d3-a334-03b5cdc23571.png)"
   ]
  },
  {
   "cell_type": "code",
   "execution_count": 9,
   "metadata": {},
   "outputs": [
    {
     "name": "stdout",
     "output_type": "stream",
     "text": [
      " 3214\n"
     ]
    },
    {
     "name": "stdout",
     "output_type": "stream",
     "text": [
      "[['3', '2', '1', '4']]\n"
     ]
    },
    {
     "name": "stdout",
     "output_type": "stream",
     "text": [
      " 32143\n"
     ]
    },
    {
     "name": "stdout",
     "output_type": "stream",
     "text": [
      "[['3', '2', '1', '4'], ['3', '2', '1', '4', '3']]\n",
      "5 [['3', '2', '1', '4'], ['3', '5', '1', '4', '3']]\n"
     ]
    }
   ],
   "source": [
    "###字符串不能被改变\n",
    "a = []\n",
    "for i in range(2):\n",
    "    a.append(list(map(str,input())))\n",
    "    print(a)\n",
    "a[1][1]=\"5\"\n",
    "print(a[1][1],a)"
   ]
  },
  {
   "cell_type": "code",
   "execution_count": 21,
   "metadata": {},
   "outputs": [
    {
     "name": "stdout",
     "output_type": "stream",
     "text": [
      " 4 4\n",
      " 1122\n",
      " 1222\n",
      " 3111\n",
      " 3333\n"
     ]
    },
    {
     "name": "stdout",
     "output_type": "stream",
     "text": [
      "4\n"
     ]
    }
   ],
   "source": [
    "m,n = map(int,input().split())\n",
    "island = []\n",
    "for i in range(m):\n",
    "    island.append(list(input()))\n",
    "##回溯\n",
    "\n",
    "def dfs(island,i,j,x):\n",
    "    if i < 0 or i >= m or j < 0 or j >= n or island[i][j] != x:\n",
    "        return \n",
    "    island[i][j] =\"*\"\n",
    "    dfs(island,i+1,j,x)\n",
    "    dfs(island,i-1,j,x)\n",
    "    dfs(island ,i,j+1,x)\n",
    "    dfs(island ,i,j-1,x)\n",
    "##计数\n",
    "def nums(island):\n",
    "    if not island:\n",
    "        return 0\n",
    "    count = 0\n",
    "    for i in range(m):\n",
    "        for j in range(n):\n",
    "            if island[i][j] != \"*\":\n",
    "                dfs(island,i,j,island[i][j])\n",
    "                count +=1\n",
    "    return count\n",
    "\n",
    "print(nums(island))\n",
    "    \n"
   ]
  },
  {
   "attachments": {
    "4484a497-f654-4562-866e-c27c6ade800b.png": {
     "image/png": "[encoded data removed]"
    }
   },
   "cell_type": "markdown",
   "metadata": {},
   "source": [
    "![image.png](attachment:4484a497-f654-4562-866e-c27c6ade800b.png)"
   ]
  },
  {
   "cell_type": "code",
   "execution_count": null,
   "metadata": {},
   "outputs": [],
   "source": [
    "# n,m,x,k = 5,5,1,2\n",
    "# nums = [4,4,2,4,4]\n",
    "n,m,x,k = 5,5,1,2\n",
    "nums = [4,4,2,4,4]\n",
    "def combinationSum(nums):\n",
    "    def jia(nums,i,x,k):\n",
    "        for c in range(i-x,i+x+1):\n",
    "            if 0 <= c < len(nums):\n",
    "                nums[c] +=k\n",
    "        return min(nums)\n",
    "    def dfs(nums,depth,maxCount,path):\n",
    "        if depth == m:\n",
    "            res.append(path) ###输出路径\n",
    "            count.append(maxCount) ##把每一种可能的结果算出来\n",
    "            return \n",
    "        for i in range(len(nums)):\n",
    "            nums1 = nums.copy() ## 这里的复制其实就是复制上一次\n",
    "            maxCount = jia(nums1,i,x,k)\n",
    "            dfs(nums1,depth + 1,maxCount,path + [i])\n",
    "            nums1 = nums.copy()\n",
    "        return count\n",
    "    maxCount = 0\n",
    "    res,path,count = [], [],[]\n",
    "    dfs(nums,0,0,path)\n",
    "    return count\n",
    "    # return res,count\n",
    "print(combinationSum(nums))\n"
   ]
  },
  {
   "cell_type": "code",
   "execution_count": 145,
   "metadata": {},
   "outputs": [
    {
     "data": {
      "text/plain": [
       "[1, 1, 2, 3, 3, 4, 5, 5, 6]"
      ]
     },
     "execution_count": 145,
     "metadata": {},
     "output_type": "execute_result"
    }
   ],
   "source": [
    "###融合两个数组\n",
    "a = [1,2,4,5,5]\n",
    "b = [1,3,3,6]\n",
    "def mergeNum(left,right):\n",
    "    if not(a and b):\n",
    "        return a or b\n",
    "    i,j,res = 0,0,[]\n",
    "    while i <len(left) and j < len(right):\n",
    "        if left[i] < right[j]:\n",
    "            res.append(left[i])\n",
    "            i+=1\n",
    "        else:\n",
    "            res.append(right[j])\n",
    "            j+=1\n",
    "    res += left[i:]\n",
    "    res += right[j:]\n",
    "    return res\n",
    "mergeNum(a,b)"
   ]
  },
  {
   "cell_type": "code",
   "execution_count": 145,
   "metadata": {},
   "outputs": [
    {
     "data": {
      "text/plain": [
       "[1, 1, 2, 3, 3, 4, 5, 5, 6]"
      ]
     },
     "execution_count": 145,
     "metadata": {},
     "output_type": "execute_result"
    }
   ],
   "source": [
    "###融合两个数组\n",
    "a = [1,2,4,5,5]\n",
    "b = [1,3,3,6]\n",
    "def mergeNum(left,right):\n",
    "    if not(a and b):\n",
    "        return a or b\n",
    "    i,j,res = 0,0,[]\n",
    "    while i <len(left) and j < len(right):\n",
    "        if left[i] < right[j]:\n",
    "            res.append(left[i])\n",
    "            i+=1\n",
    "        else:\n",
    "            res.append(right[j])\n",
    "            j+=1\n",
    "    res += left[i:]\n",
    "    res += right[j:]\n",
    "    return res\n",
    "mergeNum(a,b)"
   ]
  },
  {
   "cell_type": "code",
   "execution_count": 6,
   "metadata": {},
   "outputs": [
    {
     "name": "stdout",
     "output_type": "stream",
     "text": [
      "func one run time 1.000272512435913\n",
      "func two run time 1.0006747245788574\n",
      "func three run time 1.0004098415374756\n"
     ]
    }
   ],
   "source": [
    "from time import time, sleep\n",
    "\n",
    "def fun_one():\n",
    "    start = time()\n",
    "    sleep(1)\n",
    "    end = time()\n",
    "    cost_time = end - start\n",
    "    print(\"func one run time {}\".format(cost_time))\n",
    "    \n",
    "def fun_two():\n",
    "    start = time()\n",
    "    sleep(1)\n",
    "    end = time()\n",
    "    cost_time = end - start\n",
    "    print(\"func two run time {}\".format(cost_time))\n",
    "    \n",
    "def fun_three():\n",
    "    start = time()\n",
    "    sleep(1)\n",
    "    end = time()\n",
    "    cost_time = end - start\n",
    "    print(\"func three run time {}\".format(cost_time))\n",
    "fun_one()\n",
    "fun_two()\n",
    "fun_three()"
   ]
  },
  {
   "cell_type": "markdown",
   "metadata": {},
   "source": [
    "## [装饰器](https://www.zhihu.com/question/325817179/answer/798679602)\n"
   ]
  },
  {
   "cell_type": "code",
   "execution_count": 6,
   "metadata": {},
   "outputs": [
    {
     "name": "stdout",
     "output_type": "stream",
     "text": [
      "func one run time 1.000272512435913\n",
      "func two run time 1.0006747245788574\n",
      "func three run time 1.0004098415374756\n"
     ]
    }
   ],
   "source": [
    "##未使用装饰器\n",
    "from time import time, sleep\n",
    "\n",
    "def fun_one():\n",
    "    start = time()\n",
    "    sleep(1)\n",
    "    end = time()\n",
    "    cost_time = end - start\n",
    "    print(\"func one run time {}\".format(cost_time))\n",
    "    \n",
    "def fun_two():\n",
    "    start = time()\n",
    "    sleep(1)\n",
    "    end = time()\n",
    "    cost_time = end - start\n",
    "    print(\"func two run time {}\".format(cost_time))\n",
    "    \n",
    "def fun_three():\n",
    "    start = time()\n",
    "    sleep(1)\n",
    "    end = time()\n",
    "    cost_time = end - start\n",
    "    print(\"func three run time {}\".format(cost_time))\n",
    "fun_one()\n",
    "fun_two()\n",
    "fun_three()"
   ]
  },
  {
   "cell_type": "code",
   "execution_count": 10,
   "metadata": {},
   "outputs": [
    {
     "name": "stdout",
     "output_type": "stream",
     "text": [
      "func three run time 1.0007853507995605\n",
      "func three run time 1.0008816719055176\n",
      "func three run time 1.0004949569702148\n"
     ]
    }
   ],
   "source": [
    "##使用装饰器\n",
    "from time import time, sleep\n",
    "def run_time(func):\n",
    "    def wrapper():\n",
    "        start = time()\n",
    "        func()\n",
    "        end = time()\n",
    "        cost_time = end - start\n",
    "        print(\"func three run time {}\".format(cost_time))\n",
    "    return wrapper\n",
    "\n",
    "@run_time\n",
    "def fun_one():\n",
    "    sleep(1)\n",
    "    \n",
    "@run_time\n",
    "def fun_two():\n",
    "    sleep(1)\n",
    "    \n",
    "@run_time\n",
    "def fun_three():\n",
    "    sleep(1)\n",
    "    \n",
    "fun_one()\n",
    "fun_two()\n",
    "fun_three()"
   ]
  },
  {
   "cell_type": "code",
   "execution_count": 11,
   "metadata": {},
   "outputs": [
    {
     "name": "stdout",
     "output_type": "stream",
     "text": [
      "[One] func three run time 1.000415325164795\n",
      "[Two] func three run time 1.0002896785736084\n",
      "[Three] func three run time 1.000417709350586\n"
     ]
    }
   ],
   "source": [
    "from time import time, sleep\n",
    "def logger(msg=None):\n",
    "    def run_time(func):\n",
    "        def wrapper(*args, **kwargs):\n",
    "            start = time()\n",
    "            func()                  # 函数在这里运行\n",
    "            end = time()\n",
    "            cost_time = end - start\n",
    "            print(\"[{}] func three run time {}\".format(msg, cost_time))\n",
    "        return wrapper\n",
    "    return run_time\n",
    "\n",
    "@logger(msg=\"One\")\n",
    "def fun_one():\n",
    "    sleep(1)\n",
    "    \n",
    "@logger(msg=\"Two\")\n",
    "def fun_two():\n",
    "    sleep(1)\n",
    "    \n",
    "@logger(msg=\"Three\")\n",
    "def fun_three():\n",
    "    sleep(1)\n",
    "    \n",
    "fun_one()\n",
    "fun_two()\n",
    "fun_three()"
   ]
  },
  {
   "cell_type": "code",
   "execution_count": 14,
   "metadata": {},
   "outputs": [
    {
     "ename": "SyntaxError",
     "evalue": "invalid syntax (<ipython-input-14-e0bea8473771>, line 16)",
     "output_type": "error",
     "traceback": [
      "\u001b[1;36m  File \u001b[1;32m\"<ipython-input-14-e0bea8473771>\"\u001b[1;36m, line \u001b[1;32m16\u001b[0m\n\u001b[1;33m    link = Node(1,Node(2,Node(3,Node(4,Node(5,Node(6,Node7,Node(8.Node(9))))))))\u001b[0m\n\u001b[1;37m                                                                     ^\u001b[0m\n\u001b[1;31mSyntaxError\u001b[0m\u001b[1;31m:\u001b[0m invalid syntax\n"
     ]
    }
   ],
   "source": [
    "class Node:\n",
    "    def __init__(self,data=None,next=None):\n",
    "        self.data = data\n",
    "        self.next = next\n",
    "def rev(link):\n",
    "    pre = link\n",
    "    cur = link.next\n",
    "    pre.next = None\n",
    "    while cur:\n",
    "        temp = cur.next\n",
    "        cur.next = pre\n",
    "        pre = cur\n",
    "        cur = tmp\n",
    "    return pre\n",
    "if __name__ == '__main__':\n",
    "    link = Node(1,Node(2,Node(3,Node(4,Node(5,Node(6,Node7,Node(8.Node(9))))))))\n",
    "    root = rev(link)\n",
    "    while root:\n",
    "        print(roo.data)\n",
    "        root = root.next"
   ]
  },
  {
   "cell_type": "code",
   "execution_count": 6,
   "metadata": {},
   "outputs": [
    {
     "name": "stdout",
     "output_type": "stream",
     "text": [
      "[1]\n"
     ]
    }
   ],
   "source": []
  },
  {
   "cell_type": "code",
   "execution_count": 3,
   "metadata": {},
   "outputs": [
    {
     "name": "stdout",
     "output_type": "stream",
     "text": [
      "[['hangzhou '], '杭州'] [['hangzhou '], '杭州'] [['hangzhou '], '杭州']\n",
      "[['温州'], '苏州'] [['温州'], '杭州'] [['hangzhou '], '杭州'] [['温州'], '苏州']\n",
      "2281717467720 2281717467848 2281717467592 2281717467720\n"
     ]
    }
   ],
   "source": [
    "import copy\n",
    "a = [[\"hangzhou \"],\"杭州\"]\n",
    "d = a\n",
    "b = copy.copy(a)\n",
    "c = copy.deepcopy(a)\n",
    "print(a,b,c)\n",
    "a[0][0] = \"温州\"\n",
    "a[1] = \"苏州\"\n",
    "print(a,b,c,d)\n",
    "print(id(a),id(b),id(c),id(d))"
   ]
  },
  {
   "cell_type": "code",
   "execution_count": null,
   "metadata": {
    "tags": []
   },
   "outputs": [],
   "source": []
  },
  {
   "cell_type": "code",
   "execution_count": 64,
   "metadata": {},
   "outputs": [
    {
     "name": "stdout",
     "output_type": "stream",
     "text": [
      "{1: None, 2: None, 4: None, 5: None, 6: None, 7: None, 8: None, 9: None, 0: None}\n",
      "[1, 2, 4, 5, 6, 7, 8, 9, 0] dict_values([None, None, None, None, None, None, None, None, None])\n"
     ]
    }
   ],
   "source": [
    "a = [1,2,4,2,4,5,6,5,7,8,9,0]\n",
    "b = {}\n",
    "b = b.fromkeys(a)\n",
    "print(b)\n",
    "print(list(b.keys()),b.values())"
   ]
  },
  {
   "cell_type": "code",
   "execution_count": 4,
   "metadata": {
    "tags": []
   },
   "outputs": [
    {
     "name": "stdout",
     "output_type": "stream",
     "text": [
      "Counter({'c': 4, 'b': 2, 'a': 1, 'd': 1})\n",
      "[('c', 4), ('b', 2), ('a', 1), ('d', 1)]\n",
      "[4, 2, 1, 1]\n",
      "['c', 'b', 'a', 'd']\n"
     ]
    }
   ],
   "source": [
    "import collections\n",
    "s = \"cbacdcbc\"\n",
    "remain_counter = collections.Counter(s)\n",
    "print(remain_counter)\n",
    "print(list(remain_counter.items()))\n",
    "print(list(remain_counter.values()))\n",
    "print(list(remain_counter.keys()))"
   ]
  },
  {
   "cell_type": "code",
   "execution_count": null,
   "metadata": {},
   "outputs": [],
   "source": []
  },
  {
   "cell_type": "code",
   "execution_count": null,
   "metadata": {},
   "outputs": [],
   "source": [
    "##二叉树\n",
    "class TreeNode:\n",
    "    def __init__(self,x):\n",
    "        self.val = x\n",
    "        self.left = None\n",
    "        self.right = None\n",
    "\n",
    "# 先序递归\n",
    "# def preOrderRecur(root):\n",
    "#     ans = []\n",
    "#     if not root:\n",
    "#         return ans\n",
    "#     ans.append(root.val)\n",
    "#     ans.extend(preOrderRecur(root.left))\n",
    "#     ans.extend(preOrderRecur(root.right))\n",
    "#     return ans\n",
    "\n",
    "##先序遍历2\n",
    "def preOrderRecur(root):\n",
    "    stack, ans = [root],[]\n",
    "    while stack:\n",
    "        i = stack.pop()\n",
    "        if isinstance(i,TreeNode):\n",
    "            stack.extend([i.right,i.left,i.val])\n",
    "        if isinstance(i,int):\n",
    "            ans.append(i)\n",
    "    return ans\n",
    "    \n",
    " \n",
    "\n",
    "##中序递归\n",
    "def inOrderRecur(root):\n",
    "    ans = []\n",
    "    if not root:\n",
    "        return ans\n",
    "    ans.extend(inOrderRecur(root.left))\n",
    "    ans.append(root.val)\n",
    "    ans.extend(inOrderRecur(root.right))\n",
    "    return ans\n",
    " \n",
    " \n",
    "# 后序递归\n",
    "def posOrderRecur(root):\n",
    "    ans = []\n",
    "    if not root:\n",
    "        return ans\n",
    "    ans.extend(posOrderRecur(root.left))\n",
    "    ans.extend(posOrderRecur(root.right))\n",
    "    ans.append(root.val)\n",
    "    return ans\n",
    "\n",
    "# n, r = [int(x) for x in input().split()]\n",
    "n, r = map(int,input().split())\n",
    "root = TreeNode(r)\n",
    "nodes = {r:root}\n",
    "\n",
    "for _ in range(n):\n",
    "#     fa,lch,rch = [int(x) for x in input().split()]\n",
    "    fa,lch,rch = list(map(int,input().split()))\n",
    "    if lch != 0:\n",
    "        nodes[lch] = TreeNode(lch)\n",
    "        nodes[fa].left = nodes[lch]\n",
    "    if rch != 0:\n",
    "        nodes[rch] = TreeNode(rch)\n",
    "        nodes[fa].right = nodes[rch]\n",
    "\n",
    "pre_order = preOrderRecur(root)\n",
    "# print(' '.join(str(x) for x in pre_order))\n",
    "print(\" \".join(list(map(str,pre_order))))\n",
    "##*号起到的作用就是一个单纯的解包，里面的元素之前是什么类型，现在就还是什么类型\n",
    "# print(*pre_order)\n",
    "in_order = inOrderRecur(root)\n",
    "##就是一个简单的生成器，用生成器把列表里面的整数类型，转换成字符串类型来让join 函数操作\n",
    "print(' '.join(str(x) for x in in_order))\n",
    "pos_order = posOrderRecur(root)\n",
    "print(' '.join(str(x) for x in pos_order))\n"
   ]
  },
  {
   "cell_type": "code",
   "execution_count": null,
   "metadata": {},
   "outputs": [],
   "source": []
  },
  {
   "cell_type": "code",
   "execution_count": 174,
   "metadata": {},
   "outputs": [
    {
     "name": "stdout",
     "output_type": "stream",
     "text": [
      "['xyz', 'xzy', 'yxz', 'yzx', 'zxy', 'zyx']\n",
      "[['xyz', 'xzy', 'yxz', 'yzx', 'zxy', 'zyx']]\n",
      "[xyz,xzy,yxz,yzx,zxy,zyx]\n"
     ]
    }
   ],
   "source": [
    "a= ['xyz', 'xzy', 'yxz', 'yzx', 'zxy', 'zyx']\n",
    "print(a)\n",
    "print(\"[\" + str(a) + \"]\")\n",
    "print(\"[\" + \",\".join(a) + \"]\")"
   ]
  },
  {
   "cell_type": "code",
   "execution_count": 37,
   "metadata": {},
   "outputs": [
    {
     "name": "stdout",
     "output_type": "stream",
     "text": [
      "0-1-2-3-4-"
     ]
    }
   ],
   "source": [
    "for i in range(5):\n",
    "    print(i,end = '-')"
   ]
  },
  {
   "cell_type": "code",
   "execution_count": null,
   "metadata": {},
   "outputs": [],
   "source": [
    "nums = list(map(int,input().replace(\"[\",\"\").replace(\"]\",\"\").split(\",\")))\n",
    "print(nums,type(nums))\n",
    "nums = list(map(int,input().strip(\"[]\").split(\",\")))\n",
    "print(nums)\n",
    "nums = list(map(int,input()[1:-1].split(\",\")))\n",
    "print(nums)"
   ]
  },
  {
   "cell_type": "code",
   "execution_count": null,
   "metadata": {},
   "outputs": [],
   "source": []
  },
  {
   "cell_type": "code",
   "execution_count": 187,
   "metadata": {},
   "outputs": [
    {
     "name": "stdout",
     "output_type": "stream",
     "text": [
      " [1,3,5,435,6]\n"
     ]
    },
    {
     "name": "stdout",
     "output_type": "stream",
     "text": [
      "[1,3,5,435,6] ['1', '3', '5', '435', '6'] <class 'str'>\n"
     ]
    }
   ],
   "source": [
    "##子集[1,3,5,435,6]\n",
    "str1 = input()\n",
    "str2 = str1.strip(\"[\").strip(\"]\").split(\",\")\n",
    "print(str1,str2,type(str1))"
   ]
  },
  {
   "cell_type": "code",
   "execution_count": null,
   "metadata": {},
   "outputs": [],
   "source": []
  },
  {
   "cell_type": "code",
   "execution_count": null,
   "metadata": {},
   "outputs": [],
   "source": [
    "import bisect\n",
    "nums = list(map(int,input().split()))\n",
    "dp = [1]*len(nums)\n",
    "value = [nums[0]]\n",
    "if len(nums)<1:print(0)\n",
    "for i in range(1,len(nums)):\n",
    "    if nums[i] > value[-1]:\n",
    "        value.append(nums[i])\n",
    "        dp[i] = len(value)\n",
    "    else:\n",
    "        index = bisect.bisect(value,nums[i])\n",
    "        dp[i] = index +1\n",
    "\n",
    "        value[index] = nums[i]\n",
    "print(max(dp))"
   ]
  },
  {
   "cell_type": "code",
   "execution_count": 9,
   "metadata": {},
   "outputs": [
    {
     "name": "stdout",
     "output_type": "stream",
     "text": [
      "{'a': 24, 'g': 52, 'i': 12, 'k': 33} [('i', 12), ('a', 24), ('k', 33), ('g', 52)] [('a', 24), ('g', 52), ('i', 12), ('k', 33)] dict_values([24, 52, 12, 33]) ('i', 12) i 12\n"
     ]
    }
   ],
   "source": [
    "d= {'a':24,'g':52,'i':12,'k':33}\n",
    "a = sorted(d.items(),key = lambda x:x[1])\n",
    "b = sorted(d.items(),key = lambda x:x[0])\n",
    "c = d.values()\n",
    "e = a[0]\n",
    "f,g = e\n",
    "print(d,a,b,c,e,f,g)"
   ]
  },
  {
   "cell_type": "code",
   "execution_count": 11,
   "metadata": {
    "tags": []
   },
   "outputs": [
    {
     "name": "stdout",
     "output_type": "stream",
     "text": [
      "[{'name': 'c', 'age': 25}, {'name': 'b', 'age': 30}, {'name': 'a', 'age': 20}] [{'name': 'b', 'age': 30}, {'name': 'c', 'age': 25}, {'name': 'a', 'age': 20}]\n"
     ]
    }
   ],
   "source": [
    "alist = [{'name':'a','age':20},{'name':'b','age':30},{'name':'c','age':25}]\n",
    "a = sorted(alist,key=lambda x:x[\"name\"],reverse=True)\n",
    "alist.sort(key=lambda x:x[\"age\"],reverse=True)\n",
    "print(a,alist)"
   ]
  },
  {
   "cell_type": "code",
   "execution_count": 16,
   "metadata": {},
   "outputs": [
    {
     "name": "stdout",
     "output_type": "stream",
     "text": [
      "['b', 'c', 'd', 'a']\n"
     ]
    }
   ],
   "source": [
    "l1 = ['b','c','d','c','a','a']\n",
    "l2 = list(set(l1))\n",
    "l2.sort(key=l1.index)\n",
    "print(l2)"
   ]
  },
  {
   "cell_type": "code",
   "execution_count": 1,
   "metadata": {},
   "outputs": [
    {
     "name": "stdout",
     "output_type": "stream",
     "text": [
      "5050\n"
     ]
    }
   ],
   "source": [
    "print(sum(range(101)))"
   ]
  },
  {
   "cell_type": "code",
   "execution_count": 10,
   "metadata": {},
   "outputs": [
    {
     "name": "stdout",
     "output_type": "stream",
     "text": [
      "[1, 3, 5, 7, 9]\n",
      "[1, 3, 5, 7, 9]\n"
     ]
    }
   ],
   "source": [
    "a = [1,2,3,4,5,6,7,8,9,10]\n",
    "b = []\n",
    "for i in a:\n",
    "    if i%2 ==1:\n",
    "        b.append(i)\n",
    "print(b)\n",
    "c = [i for i in a if i%2==1]\n",
    "print(c)"
   ]
  },
  {
   "cell_type": "code",
   "execution_count": 20,
   "metadata": {},
   "outputs": [
    {
     "name": "stdout",
     "output_type": "stream",
     "text": [
      "3241 <class 'int'>\n",
      "2 <class 'int'>\n"
     ]
    }
   ],
   "source": [
    "a = \"3241\"\n",
    "num = 0\n",
    "for i in a:\n",
    "#     t = \n",
    "    n =eval(i)\n",
    "    num = num*10 + n\n",
    "print(num,type(num))\n",
    "print(a[1],type(eval(a[1])))"
   ]
  },
  {
   "cell_type": "code",
   "execution_count": 26,
   "metadata": {},
   "outputs": [
    {
     "name": "stdout",
     "output_type": "stream",
     "text": [
      "请输入4位数字的年份: 2021\n",
      "请输入月份: 6\n",
      "请输入是哪一天 22\n"
     ]
    },
    {
     "name": "stdout",
     "output_type": "stream",
     "text": [
      "2021-06-22是 2021年的第173天。\n"
     ]
    }
   ],
   "source": [
    "import datetime\n",
    "y = int(input(\"请输入4位数字的年份:\"))\n",
    "m = int(input(\"请输入月份:\"))\n",
    "d = int(input(\"请输入是哪一天\"))\n",
    "targetDay = datetime.date(y,m,d)\n",
    "dayCount = targetDay - datetime.date(targetDay.year -1,12,31)\n",
    "print(\"%s是 %s年的第%s天。\"%(targetDay,y,dayCount.days))"
   ]
  },
  {
   "cell_type": "code",
   "execution_count": null,
   "metadata": {
    "tags": []
   },
   "outputs": [
    {
     "name": "stdout",
     "output_type": "stream",
     "text": [
      "<class 'str'>\n"
     ]
    }
   ],
   "source": [
    "save_path = r'param/celeba_1001'\n",
    "print(type(save_path))"
   ]
  },
  {
   "cell_type": "code",
   "execution_count": null,
   "metadata": {},
   "outputs": [],
   "source": [
    "import re\n",
    "str = \"Cats are smarter than dogs\"\n",
    "retObj = re.search(r'(.*) are (.*?).*', str, re.M | re.I)\n",
    "if retObj:\n",
    "    print(retObj.group(2))\n",
    "else:\n",
    "    print(\"Non\")\n",
    "    "
   ]
  },
  {
   "cell_type": "code",
   "execution_count": 7,
   "metadata": {},
   "outputs": [
    {
     "name": "stdout",
     "output_type": "stream",
     "text": [
      "{10: 4, 9: 2, 8: 3, 7: 1}\n",
      "dict_keys([10, 9, 8, 7])\n",
      "dict_values([4, 2, 3, 1])\n",
      "[1, 2, 3, 4]\n",
      "[2, 3, 4]\n",
      "[7, 8, 9, 10]\n"
     ]
    }
   ],
   "source": [
    "input = [10,9,10,10,10,8,8,8,9,7]\n",
    "hashmap = {}\n",
    "for i in input:\n",
    "    if i not in hashmap:\n",
    "        hashmap[i] =1\n",
    "    else:\n",
    "        hashmap[i] +=1\n",
    "print(hashmap)\n",
    "print(hashmap.keys()) # 显示字典的 键\n",
    "print(hashmap.values()) # \n",
    "print(sorted(hashmap.values()))\n",
    "print(sorted(hashmap.values())[-3:])\n",
    "print(sorted(hashmap))"
   ]
  },
  {
   "cell_type": "code",
   "execution_count": 8,
   "metadata": {},
   "outputs": [
    {
     "name": "stdout",
     "output_type": "stream",
     "text": [
      "[0, 1, 2, 3, 4, 5, 6, 7, 8, 9]\n",
      "[7, 8, 9]\n"
     ]
    }
   ],
   "source": [
    "a = list(range(10))\n",
    "print(a)\n",
    "print(a[-3:])"
   ]
  },
  {
   "cell_type": "code",
   "execution_count": null,
   "metadata": {},
   "outputs": [],
   "source": [
    "f = open(\"dog\", mode = \"w\", encoding=\"utf-8\")\n",
    "f.write(\"看我这条blog的你真帅！\")\n",
    "f.flush()\n",
    "f.close()\n",
    "f = open(\"dog\", mode = \"wb\")\n",
    "f.write(\"看我这条blog的你们啊真帅！\".encode(\"utf-8\"))    \n",
    "\n",
    "#使用wb模式写入时，不需要指定文件的编码格式，但是在将内容写入时，要将内容转换成对应格式的bytes类型\n",
    "f.flush()\n",
    "f.close()\n"
   ]
  },
  {
   "cell_type": "code",
   "execution_count": null,
   "metadata": {},
   "outputs": [],
   "source": [
    "import os \n",
    "outresult = r'result/vgg/1/2'\n",
    "out1 = r'result/res'\n",
    "if not os.path.exists(out1):\n",
    "    os.makedirs(out1)\n",
    "# print('djskal',file = open('result/res/val.txt','a'))\n",
    "# print('djskal',file = open('result/val.txt','a'))\n",
    "print('djskal',file = open(os.path.join(out1,'val.txt'),'a'))"
   ]
  },
  {
   "cell_type": "code",
   "execution_count": null,
   "metadata": {},
   "outputs": [],
   "source": [
    "print(outresult)"
   ]
  },
  {
   "cell_type": "code",
   "execution_count": null,
   "metadata": {},
   "outputs": [],
   "source": [
    "#多数之和\n",
    "nums = list(map(int,input().split()))\n",
    "print(nums)\n",
    "nums.sort()\n",
    "print(nums[int(len(nums)/2)])"
   ]
  },
  {
   "cell_type": "code",
   "execution_count": null,
   "metadata": {},
   "outputs": [],
   "source": [
    "nums = list(map(str,input().split()))\n",
    "print(nums)"
   ]
  },
  {
   "cell_type": "code",
   "execution_count": null,
   "metadata": {},
   "outputs": [],
   "source": [
    "a = str(input())\n",
    "print(a)"
   ]
  },
  {
   "cell_type": "code",
   "execution_count": null,
   "metadata": {},
   "outputs": [],
   "source": [
    "nums = list(map(int,input().split()))"
   ]
  },
  {
   "cell_type": "code",
   "execution_count": null,
   "metadata": {},
   "outputs": [],
   "source": [
    "def morenums()\n",
    "    nums = list(map(int,input().split()))\n",
    "    hashmap = {}\n",
    "    for i in nums:\n",
    "        hashmap[i] = hashmap.get(i,0) +1\n",
    "    for i,num in enumerate(nums):\n",
    "        if hashmap[num] > len(nums)/2:\n",
    "            print(nums[i])\n",
    "    \n"
   ]
  },
  {
   "cell_type": "code",
   "execution_count": null,
   "metadata": {},
   "outputs": [],
   "source": [
    "import os\n",
    "os.system('makedirs  %s'%(os.path.join('checkpoints','val','1')))\n"
   ]
  },
  {
   "cell_type": "code",
   "execution_count": null,
   "metadata": {},
   "outputs": [],
   "source": [
    "import os\n",
    "import matplotlib.pyplot as plt\n",
    "ite=r'12-64'\n",
    "loss = []\n",
    "outparams = os.path.join('checkpoints','myvgg-16',ite)\n",
    "print(outparams)\n",
    "if not os.path.exists(outparams):\n",
    "    os.makedirs(outparams)\n",
    "with open(outparams + '/'+'trainpnet_loss5.txt') as f:\n",
    "    ablines  = f.readlines()  \n",
    "    print(ablines)\n",
    "    for i in ablines:\n",
    "        loss.append(float(i))\n",
    "        print(loss)\n",
    "with open(outparams + '/'+'trainpnet_loss5.txt') as f:\n",
    "    ablines  = f.readlines()  \n",
    "    print(ablines)\n",
    "    for i in ablines:\n",
    "        loss.append(float(i))\n",
    "        print(loss)\n",
    "plt.figure(figsize=(15,5))\n",
    "plt.subplot(131)\n",
    "plt.plot(loss)\n",
    "plt.subplot(132)\n",
    "plt.plot(range(len(loss)),loss)\n",
    "plt.subplot(133)\n",
    "plt.plot()\n",
    "plt.savefig(outparams + '/' + 'loss1.jpg')"
   ]
  },
  {
   "cell_type": "code",
   "execution_count": null,
   "metadata": {},
   "outputs": [],
   "source": [
    "import os\n",
    "import matplotlib.pyplot as plt\n",
    "filename = 'training_log.txt'\n",
    "step, dis, gan = [],[],[]\n",
    "with open(outparams + '/' + filename,'r') as f:\n",
    "    lines = f.readlines()\n",
    "    print(lines)\n",
    "    j = 0\n",
    "    for line in lines:\n",
    "        print(line)\n",
    "        try:\n",
    "            temp = line.split('loss')\n",
    "            print(temp)\n",
    "            t = temp[1].split(',')\n",
    "            print(t)\n",
    "        except:\n",
    "            continue\n",
    "        step.append(j)\n",
    "        print(step)\n",
    "        j=j+1\n",
    "        dis.append(float(t[0]))\n",
    "        print(dis)\n",
    "        gan.append(float(temp[2]))\n",
    "        print(gan)"
   ]
  },
  {
   "cell_type": "code",
   "execution_count": null,
   "metadata": {},
   "outputs": [],
   "source": [
    "plt.figure(figsize = (10,5))\n",
    "\n",
    "plt.plot(step,dis,'bo-',label = 'dis')\n",
    "plt.plot(gan,'c^--',label = 'gan')\n",
    "plt.plot(dis,'rd-.',label = 'dis1')\n",
    "plt.legend()\n",
    "plt.savefig(outparams + '/' + 'train_log.jpg')\n",
    "plt.show()\n"
   ]
  },
  {
   "cell_type": "code",
   "execution_count": null,
   "metadata": {},
   "outputs": [],
   "source": [
    "iter = r'12-64'\n",
    "iter\n",
    "# print(iter)"
   ]
  },
  {
   "cell_type": "code",
   "execution_count": null,
   "metadata": {},
   "outputs": [],
   "source": [
    "import fire\n",
    "import datetime\n",
    "\n",
    "def cal_days(date_str1, date_str2):\n",
    "    '''计算两个日期之间的天数'''\n",
    "\n",
    "    date_str1 = str(date_str1)\n",
    "    date_str2 = str(date_str2)\n",
    "    d1 = datetime.datetime.strptime(date_str1, '%Y%m%d')\n",
    "    d2 = datetime.datetime.strptime(date_str2, '%Y%m%d')\n",
    "    delta = d1 - d2\n",
    "    return delta.days\n",
    "\n",
    "\n",
    "if __name__ == '__main__':\n",
    "    fire.Fire(cal_days)"
   ]
  },
  {
   "cell_type": "code",
   "execution_count": 10,
   "metadata": {},
   "outputs": [
    {
     "ename": "ModuleNotFoundError",
     "evalue": "No module named 'tqdm'",
     "output_type": "error",
     "traceback": [
      "\u001b[1;31m---------------------------------------------------------------------------\u001b[0m",
      "\u001b[1;31mModuleNotFoundError\u001b[0m                       Traceback (most recent call last)",
      "\u001b[1;32m~\\AppData\\Local\\Temp/ipykernel_17344/2084663283.py\u001b[0m in \u001b[0;36m<module>\u001b[1;34m\u001b[0m\n\u001b[1;32m----> 1\u001b[1;33m \u001b[1;32mfrom\u001b[0m \u001b[0mtqdm\u001b[0m \u001b[1;32mimport\u001b[0m \u001b[0mtqdm\u001b[0m\u001b[1;33m\u001b[0m\u001b[1;33m\u001b[0m\u001b[0m\n\u001b[0m\u001b[0;32m      2\u001b[0m \u001b[0mbar\u001b[0m \u001b[1;33m=\u001b[0m \u001b[0mtqdm\u001b[0m\u001b[1;33m(\u001b[0m\u001b[1;33m[\u001b[0m\u001b[1;34m\"a\"\u001b[0m\u001b[1;33m,\u001b[0m\u001b[1;34m\"b\"\u001b[0m\u001b[1;33m,\u001b[0m\u001b[1;34m\"c\"\u001b[0m\u001b[1;33m,\u001b[0m\u001b[1;34m\"d\"\u001b[0m\u001b[1;33m]\u001b[0m\u001b[1;33m)\u001b[0m\u001b[1;33m\u001b[0m\u001b[1;33m\u001b[0m\u001b[0m\n\u001b[0;32m      3\u001b[0m \u001b[1;32mfor\u001b[0m \u001b[0mchar\u001b[0m \u001b[1;32min\u001b[0m \u001b[0mbar\u001b[0m\u001b[1;33m:\u001b[0m\u001b[1;33m\u001b[0m\u001b[1;33m\u001b[0m\u001b[0m\n\u001b[0;32m      4\u001b[0m     \u001b[0mbar\u001b[0m\u001b[1;33m.\u001b[0m\u001b[0mset_description\u001b[0m\u001b[1;33m(\u001b[0m\u001b[1;34m\"Processing %s\"\u001b[0m \u001b[1;33m%\u001b[0m \u001b[0mchar\u001b[0m\u001b[1;33m)\u001b[0m\u001b[1;33m\u001b[0m\u001b[1;33m\u001b[0m\u001b[0m\n",
      "\u001b[1;31mModuleNotFoundError\u001b[0m: No module named 'tqdm'"
     ]
    }
   ],
   "source": [
    "from tqdm import tqdm\n",
    "bar = tqdm([\"a\",\"b\",\"c\",\"d\"])\n",
    "for char in bar:\n",
    "    bar.set_description(\"Processing %s\" % char)"
   ]
  },
  {
   "cell_type": "code",
   "execution_count": 11,
   "metadata": {},
   "outputs": [
    {
     "name": "stdout",
     "output_type": "stream",
     "text": [
      "['', '', '', 'bc', '', 'dfe', '', '', 'bc']\n"
     ]
    }
   ],
   "source": [
    "string4 = \"aaabcaadfeaaabc\"\n",
    "print(string4.split(\"a\"))"
   ]
  },
  {
   "cell_type": "code",
   "execution_count": 12,
   "metadata": {},
   "outputs": [
    {
     "name": "stdout",
     "output_type": "stream",
     "text": [
      "['mp', 'csdn', 'net']\n"
     ]
    }
   ],
   "source": [
    "message = 'https://mp.csdn.net/'\n",
    "print(message.split(\"//\")[1].split(\"/\")[0].split(\".\"))"
   ]
  },
  {
   "cell_type": "code",
   "execution_count": 13,
   "metadata": {},
   "outputs": [
    {
     "name": "stdout",
     "output_type": "stream",
     "text": [
      "[12, '-23.1', 'Python']\n",
      "[12, '-23.1', 'Python']\n"
     ]
    }
   ],
   "source": [
    "a_list = [12, '-23.1', 'Python']\n",
    "print(a_list)\n",
    "print(str(a_list))"
   ]
  },
  {
   "cell_type": "code",
   "execution_count": 15,
   "metadata": {},
   "outputs": [
    {
     "ename": "SyntaxError",
     "evalue": "invalid syntax (Temp/ipykernel_17344/2876512869.py, line 1)",
     "output_type": "error",
     "traceback": [
      "\u001b[1;36m  File \u001b[1;32m\"C:\\Users\\hangz\\AppData\\Local\\Temp/ipykernel_17344/2876512869.py\"\u001b[1;36m, line \u001b[1;32m1\u001b[0m\n\u001b[1;33m    message = str(https:/mp.csdn.net/)\u001b[0m\n\u001b[1;37m                       ^\u001b[0m\n\u001b[1;31mSyntaxError\u001b[0m\u001b[1;31m:\u001b[0m invalid syntax\n"
     ]
    }
   ],
   "source": [
    "message = str(r\"https://mp.csdn.net/)\n",
    "print(message)"
   ]
  },
  {
   "cell_type": "code",
   "execution_count": 18,
   "metadata": {},
   "outputs": [
    {
     "name": "stdout",
     "output_type": "stream",
     "text": [
      "{'b': None}\n",
      "True\n"
     ]
    }
   ],
   "source": [
    "a = {}\n",
    "a['b'] = None\n",
    "print(a)\n",
    "print(a.get('b','') is None)"
   ]
  },
  {
   "cell_type": "code",
   "execution_count": 19,
   "metadata": {},
   "outputs": [
    {
     "name": "stdout",
     "output_type": "stream",
     "text": [
      "2\n",
      "4\n",
      "5\n",
      "12\n"
     ]
    }
   ],
   "source": [
    "sangfor = 1\n",
    "try:\n",
    "    sangfor += 2\n",
    "    print(2)\n",
    "except:\n",
    "    sangfor += 3\n",
    "    print(3)\n",
    "else:\n",
    "    sangfor += 4\n",
    "    print(4)\n",
    "finally:\n",
    "    sangfor += 5\n",
    "    print(5)\n",
    "print(sangfor)\n"
   ]
  },
  {
   "cell_type": "code",
   "execution_count": 20,
   "metadata": {},
   "outputs": [
    {
     "name": "stdout",
     "output_type": "stream",
     "text": [
      "['', '', '']\n"
     ]
    }
   ],
   "source": [
    "res = [\"\" for _ in range(3)]\n",
    "res[0]\n",
    "print(res)"
   ]
  },
  {
   "cell_type": "code",
   "execution_count": null,
   "metadata": {},
   "outputs": [],
   "source": [
    "#Z字形变换\n",
    "def z(s,row):\n",
    "    if row < 2: return s\n",
    "    res = [\"\"for _ in range(row)]\n",
    "    i,flag = 0,-1\n",
    "    for c in s:\n",
    "        res[i] += c\n",
    "        if i ==0 or i == row -1: flag = -flag\n",
    "        i +=flag\n",
    "    return \"\".join(res)\n",
    "z(\"Leetcod\",3)"
   ]
  },
  {
   "cell_type": "code",
   "execution_count": null,
   "metadata": {},
   "outputs": [],
   "source": [
    "s = list(map(str,input().split()))\n",
    "print(s)\n",
    "row=3\n",
    "\n",
    "res = [\"\"for _ in range(row)]\n",
    "print(res)\n",
    "i,flag = 0,-1\n",
    "for c in s:\n",
    "    res[i] += c\n",
    "    if i ==0 or i == row -1: flag = -flag\n",
    "    i +=flag\n",
    "print(\"\".join(res))"
   ]
  },
  {
   "cell_type": "code",
   "execution_count": null,
   "metadata": {},
   "outputs": [],
   "source": [
    "row = list(map(str,input()))\n",
    "print(row)"
   ]
  },
  {
   "cell_type": "markdown",
   "metadata": {},
   "source": [
    "[深拷贝和浅拷贝](https://baijiahao.baidu.com/s?id=1710956649864724807&wfr=spider&for=pc)"
   ]
  },
  {
   "cell_type": "code",
   "execution_count": 24,
   "metadata": {},
   "outputs": [
    {
     "name": "stdout",
     "output_type": "stream",
     "text": [
      "[1, 2, 5, 4, ['a', 'b', 'c'], 5] [1, 2, 5, 4, ['a', 'b', 'c'], 5] [1, 2, 3, 4, ['a', 'b', 'c']] [1, 2, 3, 4, ['a', 'b']]\n",
      "2656250391496 2656250391496 2656250391752 2656250377416 2656250389064 2656250389064 2656250386312\n"
     ]
    }
   ],
   "source": [
    "import copy\n",
    "a = [1,2,3,4,['a','b']]\n",
    "b = a\n",
    "c =copy.copy(a)##浅拷贝，只能拷贝到最外面的一层\n",
    "d = copy.deepcopy(a)##深拷贝\n",
    "a.append(5)\n",
    "a[4].append('c')\n",
    "a[2] = 5\n",
    "print(a,b,c,d)\n",
    "print(id(a),id(b),id(c),id(d),id(a[4]),id(c[4]),id(d[4]))"
   ]
  },
  {
   "cell_type": "code",
   "execution_count": 29,
   "metadata": {},
   "outputs": [
    {
     "name": "stdout",
     "output_type": "stream",
     "text": [
      "1648695807.1453724\n",
      "Thu Mar 31 11:03:27 2022\n"
     ]
    }
   ],
   "source": [
    "import time\n",
    "print(time.time())\n",
    "print(time.asctime(time.localtime()))"
   ]
  },
  {
   "cell_type": "markdown",
   "metadata": {},
   "source": [
    "\n",
    "plt.plot(x,y1)"
   ]
  },
  {
   "cell_type": "code",
   "execution_count": 25,
   "metadata": {},
   "outputs": [
    {
     "name": "stdout",
     "output_type": "stream",
     "text": [
      "[1, 4, 9, 16, 25, 36, 49, 64, 81, 100]\n"
     ]
    }
   ],
   "source": [
    "print([x*x for x in range(1,11)])"
   ]
  },
  {
   "cell_type": "code",
   "execution_count": 27,
   "metadata": {},
   "outputs": [
    {
     "data": {
      "text/plain": [
       "[1, 1, 2, 3, 3, 4, 5, 5, 6]"
      ]
     },
     "execution_count": 27,
     "metadata": {},
     "output_type": "execute_result"
    }
   ],
   "source": [
    "###融合两个数组\n",
    "a = [1,2,4,5,5]\n",
    "b = [1,3,3,6]\n",
    "def mergeNum(left,right):\n",
    "    if not(a and b):\n",
    "        return a or b\n",
    "    i,j,res = 0,0,[]\n",
    "    while i <len(left) and j < len(right):\n",
    "        if left[i] < right[j]:\n",
    "            res.append(left[i])\n",
    "            i+=1\n",
    "        else:\n",
    "            res.append(right[j])\n",
    "            j+=1\n",
    "    res += left[i:]\n",
    "    res += right[j:]\n",
    "    return res\n",
    "mergeNum(a,b)"
   ]
  },
  {
   "cell_type": "code",
   "execution_count": 12,
   "metadata": {},
   "outputs": [
    {
     "data": {
      "text/plain": [
       "(0, 2, 4, 6, 8)"
      ]
     },
     "execution_count": 12,
     "metadata": {},
     "output_type": "execute_result"
    }
   ],
   "source": [
    "tuple(filter(lambda x: x % 2 == 0, range(10)))"
   ]
  },
  {
   "cell_type": "code",
   "execution_count": 29,
   "metadata": {},
   "outputs": [
    {
     "name": "stdout",
     "output_type": "stream",
     "text": [
      "[1, 4, 9, 16]\n"
     ]
    }
   ],
   "source": [
    "\n",
    "print(list(map(lambda x:x*x,[1,2,3,4])))"
   ]
  },
  {
   "cell_type": "code",
   "execution_count": 15,
   "metadata": {},
   "outputs": [
    {
     "name": "stdout",
     "output_type": "stream",
     "text": [
      "{3: 5, 6: 9, 2: 4, 1: 8} [6, 1, 3, 2]\n",
      "[(6, 9), (3, 5), (2, 4), (1, 8)]\n",
      "[6, 3, 2, 1]\n",
      "[9, 5, 4, 8]\n",
      "{3: 5, 6: 9, 2: 4, 1: 8} [(6, 9), (1, 8), (3, 5), (2, 4)]\n"
     ]
    }
   ],
   "source": [
    "hashm = {3:5,6:9,2:4,1:8}\n",
    "hashmap = {3:5,6:9,2:4,1:8}\n",
    "# print(hashm,sorted(hashm.values(),key  = hashm.get))\n",
    "\n",
    "print(hashmap,sorted(hashmap.keys(),key = hashmap.get,reverse = True))\n",
    "a = sorted(hashmap.items(),key = lambda x:x[0],reverse = True)\n",
    "###这不行，使用lambda就只能使用 hashmap.items();\n",
    "# d = sorted(hashmap.values(),key = lambda x:x[0],reverse = True)\n",
    "print(a)\n",
    "b = [x[0] for x in a]\n",
    "print(b)\n",
    "c = [x[1] for x in a]\n",
    "print(c)\n",
    "print(hashmap,sorted(hashmap.items(),key = lambda x:x[1],reverse = True))"
   ]
  },
  {
   "cell_type": "code",
   "execution_count": 16,
   "metadata": {},
   "outputs": [
    {
     "name": "stdout",
     "output_type": "stream",
     "text": [
      "[[1, 2, 3], [4, 5, 6], [7, 8, 9], [10, 11, 12], [13, 14, 15], [16, 17, 18], [19, 20, 21], [22, 23, 24], [25, 26, 27], [28, 29, 30], [31, 32, 33], [34, 35, 36], [37, 38, 39], [40, 41, 42], [43, 44, 45], [46, 47, 48], [49, 50, 51], [52, 53, 54], [55, 56, 57], [58, 59, 60], [61, 62, 63], [64, 65, 66], [67, 68, 69], [70, 71, 72], [73, 74, 75], [76, 77, 78], [79, 80, 81], [82, 83, 84], [85, 86, 87], [88, 89, 90], [91, 92, 93], [94, 95, 96], [97, 98, 99], []]\n"
     ]
    }
   ],
   "source": [
    "N =100\n",
    "print ([[x for x in range(1,100)] [i:i+3] for i in range(0,100,3)])"
   ]
  },
  {
   "cell_type": "code",
   "execution_count": 2,
   "metadata": {},
   "outputs": [
    {
     "name": "stdout",
     "output_type": "stream",
     "text": [
      "[-25, -43, 13, -93, -8, 61, -85, 47, 77, -91]\n"
     ]
    }
   ],
   "source": [
    "import random\n",
    "nums = [random.randint(-100,100) for _ in range(10)]\n",
    "print(nums)"
   ]
  },
  {
   "cell_type": "code",
   "execution_count": null,
   "metadata": {},
   "outputs": [],
   "source": [
    "##组数之和\n",
    "nums = list(map(int,input().split()))\n",
    "target = int(input())\n",
    "def combinationSum(nums,target):\n",
    "    if not nums:\n",
    "        return []\n",
    "    path = []\n",
    "    res = []\n",
    "    def dfs(nums,begin,path,res,target):\n",
    "        if target < 0:\n",
    "            return \n",
    "        if target == 0:\n",
    "            res.append(path)\n",
    "            return \n",
    "        for depth in range(begin,len(nums)):\n",
    "            dfs(nums,depth,path+[nums[depth]],res,target - nums[depth])\n",
    "    dfs(nums,0,path,res,target)\n",
    "    return res\n",
    "combinationSum(nums,target)"
   ]
  },
  {
   "cell_type": "code",
   "execution_count": null,
   "metadata": {},
   "outputs": [],
   "source": [
    "###全排列\n",
    "nums = list(map(int,input().split()))\n",
    "def premutation(nums):\n",
    "    used = [False for _ in range(len(nums))]\n",
    "    if not nums:\n",
    "        return []\n",
    "    path,res = [],[]\n",
    "    def dfs(nums,depth,path,used,res):\n",
    "        if depth == len(nums):\n",
    "            res.append(path[:])\n",
    "            return \n",
    "        for i in range(len(nums)):\n",
    "            if not used[i]:\n",
    "                used[i] = True\n",
    "                path.append(nums[i])\n",
    "                dfs(nums,depth+1,path,used,res)\n",
    "                used[i] = False\n",
    "                path.pop()\n",
    "    dfs(nums,0,path,used,res)\n",
    "    return res\n",
    "premutation(nums)\n",
    "\n",
    "                \n",
    "    "
   ]
  },
  {
   "cell_type": "code",
   "execution_count": null,
   "metadata": {},
   "outputs": [],
   "source": [
    "# 二分查找-循环\n",
    "nums = list(map(int,input().split()))\n",
    "target = int(input())\n",
    "def twoSearch(nums,target):\n",
    "    low,high = 0,len(nums)-1\n",
    "    while low <= high:\n",
    "        mid = low + (high - low)//2\n",
    "        if nums[mid ] == target:\n",
    "            return mid\n",
    "        elif nums[mid] > target:\n",
    "            high = mid - 1\n",
    "        else:\n",
    "            low = mid + 1\n",
    "    #不存在的时候返回-1\n",
    "    return -1\n",
    "print(twoSearch(nums,target))\n"
   ]
  },
  {
   "cell_type": "code",
   "execution_count": null,
   "metadata": {
    "tags": []
   },
   "outputs": [],
   "source": [
    "nums = list(map(int,input().split()))\n",
    "target = int(input())\n",
    "def twoSearch(nums,target,low,high):\n",
    "    if low > high:\n",
    "        return -1\n",
    "    mid = low + (high - low)//2\n",
    "    if nums[mid ] == target:\n",
    "        return mid\n",
    "    elif nums[mid] > target:\n",
    "        return twoSearch(nums,target,low,mid-1)\n",
    "    else:\n",
    "        return twoSearch(nums,target,mid + 1,high)\n",
    "    #不存在的时候返回-1\n",
    "#     return -1\n",
    "print(twoSearch(nums,target,0,len(nums)-1))"
   ]
  },
  {
   "cell_type": "code",
   "execution_count": 41,
   "metadata": {},
   "outputs": [
    {
     "name": "stdout",
     "output_type": "stream",
     "text": [
      " 3 1 \n",
      " 1 2 3\n",
      " 2 0 0 \n",
      " 3 0 0\n"
     ]
    },
    {
     "name": "stdout",
     "output_type": "stream",
     "text": [
      "[1, 2, 3]\n",
      "[2, 1, 3]\n",
      "[2, 3, 1]\n",
      "[1, 2, 3]\n"
     ]
    }
   ],
   "source": [
    "class TreeNode:\n",
    "    def __init__(self,x):\n",
    "        self.val = x\n",
    "        self.left = None\n",
    "        self.right = None\n",
    "#先序遍历\n",
    "def preOrder(root):\n",
    "    stack , ans = [root],[]\n",
    "    while stack:\n",
    "        i = stack.pop()\n",
    "        if isinstance(i,TreeNode):\n",
    "            stack.extend([i.right,i.left,i.val])\n",
    "        elif isinstance(i,int):\n",
    "            ans.append(i)\n",
    "    return ans\n",
    "#中序遍历\n",
    "def inOrder(root):\n",
    "    ans = []\n",
    "    def dfs(root):\n",
    "        if not root:\n",
    "            return \n",
    "        dfs(root.left)\n",
    "        ans.append(root.val)\n",
    "        dfs(root.right)\n",
    "        return ans   #这一行可要可不要\n",
    "    dfs(root)\n",
    "    return ans\n",
    "\n",
    "#后序遍历\n",
    "def afterOrder(root):\n",
    "    ans = []\n",
    "    if not root:\n",
    "        return ans\n",
    "    ans.extend(afterOrder(root.left))\n",
    "    ans.extend(afterOrder(root.right))\n",
    "    ans.append(root.val)\n",
    "    return ans\n",
    "\n",
    "#层序遍历\n",
    "def cenOrder(root):\n",
    "    stack ,ans = [root],[]\n",
    "    while stack:\n",
    "        i = stack.pop(0)\n",
    "        if isinstance(i,TreeNode):\n",
    "            stack.extend([i.val,i.left,i.right])\n",
    "        elif isinstance(i,int):\n",
    "            ans.append(i)\n",
    "    return ans\n",
    "\n",
    "\n",
    "# 使用字典建造,这个好处就是虽然麻烦一点，但是方便连接，可是有一个问题，那就是里面的元素不能重复\n",
    "# n,root = map(int,input().split())\n",
    "# nodes = {root:TreeNode(root)}\n",
    "\n",
    "# for _ in range(n):\n",
    "#     fa,sonL,sonR = map(int,input().split())\n",
    "#     if sonL != 0:\n",
    "#         nodes[sonL] = TreeNode(sonL)\n",
    "#         nodes[fa].left = nodes[sonL]\n",
    "\n",
    "#     if sonR != 0:\n",
    "#         nodes[sonR] = TreeNode(sonR)\n",
    "#         nodes[fa].right = nodes[sonR]\n",
    "# print(nodes)    \n",
    "\n",
    "\"\"\"用数组更加麻烦，而且行不通\n",
    "n,root = map(int,input().split())\n",
    "nodes = []\n",
    "nodes.append(TreeNode(root))\n",
    "\n",
    "for _ in range(n):\n",
    "    fa,sonL,sonR = map(int,input().split())\n",
    "    if sonL != 0:\n",
    "        nodes.append(TreeNode(sonL))\n",
    "        nodes[nodes.index(TreeNode(fa))].left = nodes[len(nodes)-1]\n",
    "\n",
    "    if sonR != 0:\n",
    "        nodes.append(TreeNode(sonL))\n",
    "        nodes[nodes.index(TreeNOde(fa))].right = nodes[len(nodes)-1]\n",
    "print(nodes) \n",
    "\"\"\"\n",
    "\n",
    "def tree(nums):\n",
    "    num = TreeNode(nums[0])\n",
    "    if(nums[1] != 0):\n",
    "        temp = list(map(int,input().split()))\n",
    "        num.left = tree(temp)\n",
    "    if(nums[2] != 0):\n",
    "        temp = list(map(int,input().split()))\n",
    "        num.right = tree(temp)\n",
    "    return num\n",
    "n,root = map(int,input().split())\n",
    "temp = list(map(int,input().split()))\n",
    "num = tree(temp)\n",
    "\n",
    "print(preOrder(num))\n",
    "print(inOrder(num))\n",
    "print(afterOrder(num))\n",
    "print(cenOrder(num))\n",
    "            \n",
    "# print(preOrder(nodes[root]))\n",
    "# print(inOrder(nodes[root]))\n",
    "# print(afterOrder(nodes[root]))\n",
    "# print(cenOrder(nodes[root]))\n",
    "            \n",
    "\n",
    "            "
   ]
  },
  {
   "cell_type": "code",
   "execution_count": 70,
   "metadata": {},
   "outputs": [
    {
     "name": "stdout",
     "output_type": "stream",
     "text": [
      " 1 2 3\n"
     ]
    },
    {
     "name": "stdout",
     "output_type": "stream",
     "text": [
      "5\n"
     ]
    },
    {
     "name": "stdout",
     "output_type": "stream",
     "text": [
      " 4 5 1\n"
     ]
    },
    {
     "name": "stdout",
     "output_type": "stream",
     "text": [
      "6\n"
     ]
    },
    {
     "name": "stdout",
     "output_type": "stream",
     "text": [
      " sd\n"
     ]
    },
    {
     "ename": "ValueError",
     "evalue": "invalid literal for int() with base 10: 'sd'",
     "output_type": "error",
     "traceback": [
      "\u001b[1;31m---------------------------------------------------------------------------\u001b[0m",
      "\u001b[1;31mValueError\u001b[0m                                Traceback (most recent call last)",
      "\u001b[1;32m<ipython-input-70-a9b463d6fc97>\u001b[0m in \u001b[0;36m<module>\u001b[1;34m\u001b[0m\n\u001b[0;32m      1\u001b[0m \u001b[1;32mwhile\u001b[0m \u001b[1;32mTrue\u001b[0m\u001b[1;33m:\u001b[0m\u001b[1;33m\u001b[0m\u001b[1;33m\u001b[0m\u001b[0m\n\u001b[1;32m----> 2\u001b[1;33m     \u001b[0mnum\u001b[0m  \u001b[1;33m=\u001b[0m \u001b[0mlist\u001b[0m\u001b[1;33m(\u001b[0m\u001b[0mmap\u001b[0m\u001b[1;33m(\u001b[0m\u001b[0mint\u001b[0m\u001b[1;33m,\u001b[0m\u001b[0minput\u001b[0m\u001b[1;33m(\u001b[0m\u001b[1;33m)\u001b[0m\u001b[1;33m.\u001b[0m\u001b[0msplit\u001b[0m\u001b[1;33m(\u001b[0m\u001b[1;33m)\u001b[0m\u001b[1;33m)\u001b[0m\u001b[1;33m)\u001b[0m\u001b[1;33m\u001b[0m\u001b[1;33m\u001b[0m\u001b[0m\n\u001b[0m\u001b[0;32m      3\u001b[0m     \u001b[0mprint\u001b[0m\u001b[1;33m(\u001b[0m\u001b[0msum\u001b[0m\u001b[1;33m(\u001b[0m\u001b[0mnum\u001b[0m\u001b[1;33m[\u001b[0m\u001b[1;36m1\u001b[0m\u001b[1;33m:\u001b[0m\u001b[1;33m]\u001b[0m\u001b[1;33m)\u001b[0m\u001b[1;33m)\u001b[0m\u001b[1;33m\u001b[0m\u001b[1;33m\u001b[0m\u001b[0m\n",
      "\u001b[1;31mValueError\u001b[0m: invalid literal for int() with base 10: 'sd'"
     ]
    }
   ],
   "source": [
    "while True:\n",
    "    num  = list(map(int,input().split()))\n",
    "    print(sum(num[1:]))"
   ]
  },
  {
   "cell_type": "code",
   "execution_count": 102,
   "metadata": {},
   "outputs": [
    {
     "name": "stdout",
     "output_type": "stream",
     "text": [
      " 2 4 5\n",
      " 2 3\n",
      " 2 2\n"
     ]
    },
    {
     "name": "stdout",
     "output_type": "stream",
     "text": [
      "0\n"
     ]
    }
   ],
   "source": [
    "n,td,tc = map(int,input().split())\n",
    "damage = list(map(int,input().split()))\n",
    "coin = list(map(int,input().split()))\n",
    "count = 0\n",
    "def dfs(damage,begin,coin,count,td,tc):\n",
    "    if tc <=0:\n",
    "        return \n",
    "    if  td < 0:\n",
    "        count += 1\n",
    "        return \n",
    "    for index in range(begin,n):\n",
    "        dfs(damage,index + 1,coin,count,td-damage[index],tc-coin[index])\n",
    "\n",
    "dfs(damage,0,coin,count,td,tc)\n",
    "print(count)"
   ]
  },
  {
   "cell_type": "code",
   "execution_count": 102,
   "metadata": {},
   "outputs": [
    {
     "name": "stdout",
     "output_type": "stream",
     "text": [
      " 2 4 5\n",
      " 2 3\n",
      " 2 2\n"
     ]
    },
    {
     "name": "stdout",
     "output_type": "stream",
     "text": [
      "0\n"
     ]
    }
   ],
   "source": [
    "n,td,tc = map(int,input().split())\n",
    "damage = list(map(int,input().split()))\n",
    "coin = list(map(int,input().split()))\n",
    "count = 0\n",
    "def dfs(damage,begin,coin,count,td,tc):\n",
    "    if tc <=0:\n",
    "        return \n",
    "    if  td < 0:\n",
    "        count += 1\n",
    "        return \n",
    "    for index in range(begin,n):\n",
    "        dfs(damage,index + 1,coin,count,td-damage[index],tc-coin[index])\n",
    "\n",
    "dfs(damage,0,coin,count,td,tc)\n",
    "print(count)"
   ]
  },
  {
   "cell_type": "code",
   "execution_count": 1,
   "metadata": {},
   "outputs": [
    {
     "name": "stdout",
     "output_type": "stream",
     "text": [
      "[2, 3, 2, 4, 5] {1: 2, 2: 2, 3: 1, 4: 1, 5: 1}\n"
     ]
    }
   ],
   "source": [
    "##注意 remove()删除尽量少用\n",
    "a = [1,2,3,1,2,4,5]\n",
    "hashmap = {}\n",
    "for i in a:\n",
    "    hashmap[i] = hashmap.get(i,0) + 1\n",
    "\n",
    "for i in a:\n",
    "    if hashmap[i] > 1:\n",
    "        a.remove(i)\n",
    "\n",
    "print(a,hashmap)##[2, 3, 2, 4, 5] {1: 2, 2: 2, 3: 1, 4: 1, 5: 1}"
   ]
  },
  {
   "cell_type": "code",
   "execution_count": null,
   "metadata": {},
   "outputs": [],
   "source": [
    "\n",
    "a = [1,2,4,2,4,5,6,5,7,8,9,0]\n",
    "b = {}\n",
    "b = b.fromkeys(a,1)\n",
    "print(b)\n",
    "print(list(b.keys()),b.values())"
   ]
  },
  {
   "cell_type": "code",
   "execution_count": 10,
   "metadata": {},
   "outputs": [
    {
     "name": "stdout",
     "output_type": "stream",
     "text": [
      "<class 'list'>\n",
      "[[0, 2, 0, 0, 0, 0], 5, [0, 2, 0, 0, 0, 0], [0, 2, 0, 0, 0, 0], [0, 2, 0, 0, 0, 0]]\n"
     ]
    },
    {
     "ename": "TypeError",
     "evalue": "'int' object is not subscriptable",
     "output_type": "error",
     "traceback": [
      "\u001b[1;31m---------------------------------------------------------------------------\u001b[0m",
      "\u001b[1;31mTypeError\u001b[0m                                 Traceback (most recent call last)",
      "\u001b[1;32m<ipython-input-10-e12331ac5f9b>\u001b[0m in \u001b[0;36m<module>\u001b[1;34m\u001b[0m\n\u001b[0;32m      6\u001b[0m \u001b[0mdp\u001b[0m\u001b[1;33m[\u001b[0m\u001b[1;36m1\u001b[0m\u001b[1;33m]\u001b[0m \u001b[1;33m=\u001b[0m \u001b[1;36m5\u001b[0m\u001b[1;33m\u001b[0m\u001b[1;33m\u001b[0m\u001b[0m\n\u001b[0;32m      7\u001b[0m \u001b[0mprint\u001b[0m\u001b[1;33m(\u001b[0m\u001b[0mdp\u001b[0m\u001b[1;33m)\u001b[0m\u001b[1;33m\u001b[0m\u001b[1;33m\u001b[0m\u001b[0m\n\u001b[1;32m----> 8\u001b[1;33m \u001b[0mprint\u001b[0m\u001b[1;33m(\u001b[0m\u001b[0mdp\u001b[0m\u001b[1;33m[\u001b[0m\u001b[1;36m1\u001b[0m\u001b[1;33m]\u001b[0m\u001b[1;33m[\u001b[0m\u001b[1;36m2\u001b[0m\u001b[1;33m]\u001b[0m\u001b[1;33m)\u001b[0m\u001b[1;33m\u001b[0m\u001b[1;33m\u001b[0m\u001b[0m\n\u001b[0m\u001b[0;32m      9\u001b[0m \u001b[1;31m# print(dp[1,1])\u001b[0m\u001b[1;33m\u001b[0m\u001b[1;33m\u001b[0m\u001b[1;33m\u001b[0m\u001b[0m\n",
      "\u001b[1;31mTypeError\u001b[0m: 'int' object is not subscriptable"
     ]
    }
   ],
   "source": [
    " ### https://blog.csdn.net/yp736628082/article/details/87932962\n",
    "m,n = 4,5\n",
    "dp = [[0]*(n+1)]*(m+1)\n",
    "print(type(dp))\n",
    "dp[2][1] = 2\n",
    "dp[1] = 5\n",
    "print(dp)\n",
    "print(dp[1][2])\n",
    "# print(dp[1,1])"
   ]
  },
  {
   "cell_type": "code",
   "execution_count": 11,
   "metadata": {},
   "outputs": [
    {
     "ename": "TypeError",
     "evalue": "list indices must be integers or slices, not tuple",
     "output_type": "error",
     "traceback": [
      "\u001b[1;31m---------------------------------------------------------------------------\u001b[0m",
      "\u001b[1;31mTypeError\u001b[0m                                 Traceback (most recent call last)",
      "\u001b[1;32m<ipython-input-11-576074fb8021>\u001b[0m in \u001b[0;36m<module>\u001b[1;34m\u001b[0m\n\u001b[0;32m      3\u001b[0m \u001b[0mdp\u001b[0m \u001b[1;33m=\u001b[0m \u001b[1;33m[\u001b[0m\u001b[1;33m[\u001b[0m\u001b[1;36m0\u001b[0m \u001b[1;32mfor\u001b[0m \u001b[0m_\u001b[0m \u001b[1;32min\u001b[0m \u001b[0mrange\u001b[0m\u001b[1;33m(\u001b[0m\u001b[0mn\u001b[0m \u001b[1;33m+\u001b[0m \u001b[1;36m1\u001b[0m\u001b[1;33m)\u001b[0m\u001b[1;33m]\u001b[0m \u001b[1;32mfor\u001b[0m \u001b[0m_\u001b[0m \u001b[1;32min\u001b[0m \u001b[0mrange\u001b[0m\u001b[1;33m(\u001b[0m\u001b[0mm\u001b[0m \u001b[1;33m+\u001b[0m \u001b[1;36m1\u001b[0m\u001b[1;33m)\u001b[0m\u001b[1;33m]\u001b[0m\u001b[1;33m\u001b[0m\u001b[1;33m\u001b[0m\u001b[0m\n\u001b[0;32m      4\u001b[0m \u001b[0mdp\u001b[0m\u001b[1;33m[\u001b[0m\u001b[1;36m1\u001b[0m\u001b[1;33m]\u001b[0m\u001b[1;33m[\u001b[0m\u001b[1;36m1\u001b[0m\u001b[1;33m]\u001b[0m\u001b[1;33m=\u001b[0m\u001b[1;36m1\u001b[0m\u001b[1;33m\u001b[0m\u001b[1;33m\u001b[0m\u001b[0m\n\u001b[1;32m----> 5\u001b[1;33m \u001b[0mprint\u001b[0m\u001b[1;33m(\u001b[0m\u001b[0mdp\u001b[0m\u001b[1;33m[\u001b[0m\u001b[1;33m:\u001b[0m\u001b[1;33m,\u001b[0m\u001b[1;36m3\u001b[0m\u001b[1;33m]\u001b[0m\u001b[1;33m)\u001b[0m\u001b[1;33m\u001b[0m\u001b[1;33m\u001b[0m\u001b[0m\n\u001b[0m\u001b[0;32m      6\u001b[0m \u001b[0mprint\u001b[0m\u001b[1;33m(\u001b[0m\u001b[0mtype\u001b[0m\u001b[1;33m(\u001b[0m\u001b[0mdp\u001b[0m\u001b[1;33m)\u001b[0m\u001b[1;33m)\u001b[0m\u001b[1;33m\u001b[0m\u001b[1;33m\u001b[0m\u001b[0m\n",
      "\u001b[1;31mTypeError\u001b[0m: list indices must be integers or slices, not tuple"
     ]
    }
   ],
   "source": [
    "m = 4\n",
    "n = 5\n",
    "dp = [[0 for _ in range(n + 1)] for _ in range(m + 1)]\n",
    "dp[1][1]=1\n",
    "print(dp[:,3])\n",
    "print(type(dp))\n"
   ]
  },
  {
   "cell_type": "code",
   "execution_count": 16,
   "metadata": {},
   "outputs": [
    {
     "name": "stdout",
     "output_type": "stream",
     "text": [
      "<class 'numpy.ndarray'>\n",
      "[1 4]\n"
     ]
    }
   ],
   "source": [
    "import numpy as np\n",
    "a=np.array([[1,2,3],[4,5,6]])\n",
    "print(type(a))\n",
    "print(a[:,0])\n"
   ]
  },
  {
   "cell_type": "code",
   "execution_count": null,
   "metadata": {},
   "outputs": [],
   "source": [
    "s = None\n",
    "if s:\n",
    "    print(5)\n",
    "else:\n",
    "    print(6)"
   ]
  },
  {
   "cell_type": "code",
   "execution_count": null,
   "metadata": {},
   "outputs": [],
   "source": [
    "s = \"  \"\n",
    "print(len(s))"
   ]
  },
  {
   "cell_type": "code",
   "execution_count": null,
   "metadata": {},
   "outputs": [],
   "source": [
    "a = [1]\n",
    "b = []\n",
    "if a or b:\n",
    "    print(5)\n",
    "else:\n",
    "    print(6)"
   ]
  },
  {
   "cell_type": "code",
   "execution_count": null,
   "metadata": {},
   "outputs": [],
   "source": [
    "a = [1,4,5,2]\n",
    "b = [2,1,3,8]\n",
    "print(a+b)"
   ]
  },
  {
   "cell_type": "code",
   "execution_count": 2,
   "metadata": {},
   "outputs": [
    {
     "name": "stdout",
     "output_type": "stream",
     "text": [
      "{'1': 3, '3': 4, '2': 2, '4': 1, '5': 2, '6': 1, '7': 1}\n",
      "7 7\n",
      "7\n",
      "7 4\n",
      "['1', '3', '2', '3', '4', '2', '3', '1', '3', '5', '1', '6', '5', '7'] [3, 4, 2, 1, 2, 1, 1] ['1', '3', '2', '4', '5', '6', '7']\n"
     ]
    }
   ],
   "source": [
    "s  = \"13234231351657\"\n",
    "hashmap = {}\n",
    "for i in s:\n",
    "    hashmap[i] = hashmap.get(i,0) + 1\n",
    "#     print(hashmap)\n",
    "print(hashmap)\n",
    "print(len(hashmap),max(hashmap))\n",
    "print(max(hashmap.keys()))\n",
    "print(len(hashmap),max(hashmap.values()))\n",
    "print(list(s),list(hashmap.values()),list(hashmap.keys()))"
   ]
  },
  {
   "cell_type": "code",
   "execution_count": 3,
   "metadata": {},
   "outputs": [
    {
     "name": "stdout",
     "output_type": "stream",
     "text": [
      "<class 'list'> <class 'tuple'>\n",
      "(1, 5)\n",
      "1 5\n"
     ]
    }
   ],
   "source": [
    "stack = [(1,3)]\n",
    "stack[0] = (1,5)\n",
    "print(type(stack),type(stack[0]))\n",
    "print(stack[0])\n",
    "while stack:\n",
    "    cur_depth,node = stack.pop()\n",
    "    print(cur_depth,node)"
   ]
  },
  {
   "cell_type": "code",
   "execution_count": 10,
   "metadata": {},
   "outputs": [
    {
     "name": "stdout",
     "output_type": "stream",
     "text": [
      "[4, 5, 6]\n"
     ]
    }
   ],
   "source": [
    "#怎么读取数组的某一列\n",
    "matrix = [[1,2,3],[4,5,6],[7,8,9]]\n",
    "print(matrix[0:2][1])"
   ]
  },
  {
   "cell_type": "code",
   "execution_count": 13,
   "metadata": {},
   "outputs": [
    {
     "name": "stdout",
     "output_type": "stream",
     "text": [
      "ab\n",
      "['a', 'b', 'c', 6]\n"
     ]
    }
   ],
   "source": [
    "a = \"\"\n",
    "c = [\"a\",\"b\"]\n",
    "c += \"c\"\n",
    "c.append(6)\n",
    "a+=c[0]\n",
    "a+=c[1]\n",
    "print(a)\n",
    "print(c)"
   ]
  },
  {
   "cell_type": "code",
   "execution_count": 6,
   "metadata": {},
   "outputs": [
    {
     "name": "stdout",
     "output_type": "stream",
     "text": [
      "{1}\n",
      "{1, 2}\n",
      "{1, 2}\n"
     ]
    }
   ],
   "source": [
    "a = set()\n",
    "a.add(1)\n",
    "print(a)\n",
    "a.add(2)\n",
    "print(a)\n",
    "a.add(2)\n",
    "print(a)"
   ]
  },
  {
   "cell_type": "code",
   "execution_count": null,
   "metadata": {
    "tags": []
   },
   "outputs": [],
   "source": [
    "n = int(input())\n",
    "height = list(map(int, input().split()))\n",
    "# ####d 法二 没有跑通，为什么只是换了个循环就没有跑通呢，加上i+=1就欧可\n",
    "left, right,temp,i  = 0,len(height)-1,0,1\n",
    "# if sum(height) == 0:return 0\n",
    "if len(height) <= 1:print(len(height))\n",
    "while i <= max(height):\n",
    "    while height[left] < i:\n",
    "        left += 1\n",
    "    while height[right] < i:\n",
    "        right -= 1 \n",
    "    temp = temp + right - left +1 \n",
    "    i +=1\n",
    "print(temp - sum(height))"
   ]
  },
  {
   "cell_type": "code",
   "execution_count": null,
   "metadata": {
    "tags": []
   },
   "outputs": [],
   "source": [
    "import sys\n",
    "a = sys.stdin.readline().strip()\n",
    "print(a)"
   ]
  },
  {
   "cell_type": "code",
   "execution_count": 15,
   "metadata": {},
   "outputs": [
    {
     "name": "stdout",
     "output_type": "stream",
     "text": [
      "Plase input your name: \n",
      "Hello  \n"
     ]
    }
   ],
   "source": [
    "import sys\n",
    "print('Plase input your name: ')\n",
    "name = sys.stdin.readline()\n",
    "print('Hello ', name)"
   ]
  },
  {
   "cell_type": "code",
   "execution_count": 16,
   "metadata": {},
   "outputs": [
    {
     "name": "stdout",
     "output_type": "stream",
     "text": [
      "[[2, 1]]\n"
     ]
    }
   ],
   "source": [
    "a  = [[2] + [1]]\n",
    "print(a)"
   ]
  },
  {
   "cell_type": "code",
   "execution_count": 19,
   "metadata": {},
   "outputs": [
    {
     "name": "stdout",
     "output_type": "stream",
     "text": [
      "[3, 5, 2, 15, 9]\n"
     ]
    }
   ],
   "source": [
    "a = [3,5,2,15,9]\n",
    "b = sorted(a)\n",
    "print( a,end ='\\n')"
   ]
  },
  {
   "cell_type": "code",
   "execution_count": 10,
   "metadata": {},
   "outputs": [
    {
     "name": "stdout",
     "output_type": "stream",
     "text": [
      "[2, 3, 5]\n",
      "[3, 5, 2, 15]\n",
      "[9, 15]\n",
      "[9, 15, 2]\n"
     ]
    }
   ],
   "source": [
    "a = [3,5,2,15,9]\n",
    "print(sorted(a[:3]))\n",
    "print(a[:-1])\n",
    "print(a[-1:-3:-1])\n",
    "print(a[:len(a)-3-1:-1])"
   ]
  },
  {
   "cell_type": "code",
   "execution_count": 2,
   "metadata": {},
   "outputs": [
    {
     "name": "stdout",
     "output_type": "stream",
     "text": [
      "[[9, 6], [2, 4], [1, 3], [1, 100]]\n",
      "[[1, 100], [9, 6], [2, 4], [1, 3]]\n",
      "[[9, 6], [2, 4], [1, 3], [1, 100]]\n",
      "[[1, 3], [2, 4], [9, 6], [1, 100]]\n"
     ]
    }
   ],
   "source": [
    "a = [[1,3],[9,6],[2,4],[1,100]]\n",
    "a.sort(key = lambda x:x[0],reverse = True )\n",
    "print(a)\n",
    "b = sorted(a,key = lambda x:x[1],reverse = True)\n",
    "print(b)\n",
    "print(a)\n",
    "print(sorted(a,key = lambda x:x[1]))"
   ]
  },
  {
   "cell_type": "code",
   "execution_count": 26,
   "metadata": {},
   "outputs": [
    {
     "name": "stdout",
     "output_type": "stream",
     "text": [
      "[1, 7, 4, 4, 3, 3, 10, 6]\n",
      "[1, 3, 4, 6, 7, 10]\n",
      "7\n"
     ]
    }
   ],
   "source": [
    "a = [1,7,4,4,3,3,10,6]\n",
    "\n",
    "b=set(a)\n",
    "print(a)\n",
    "b  = list(b)\n",
    "print(sorted(b))\n",
    "print(b[-2])"
   ]
  },
  {
   "cell_type": "code",
   "execution_count": null,
   "metadata": {},
   "outputs": [],
   "source": [
    "###二分查找 递归\n",
    "nums = list(map(int,input().split()))\n",
    "target = int(input())\n",
    "def two_search(nums,low,high,target):\n",
    "    if low > high:return -1\n",
    "    mid = low + (high - low)//2\n",
    "    if nums[mid] == target:\n",
    "#         print(mid)\n",
    "        return mid\n",
    "    elif nums[mid] > target:\n",
    "        return two_search(nums,low,mid-1,target)\n",
    "    else:\n",
    "        return two_search(nums,mid+1,high,target)\n",
    "two_search(nums,0,len(nums)-1,target)"
   ]
  },
  {
   "cell_type": "code",
   "execution_count": 4,
   "metadata": {},
   "outputs": [
    {
     "name": "stdout",
     "output_type": "stream",
     "text": [
      "[2, 3, 1, 6]\n",
      "[6, 1]\n",
      "{3: 5, 6: 9, 2: 4, 1: 8}\n"
     ]
    }
   ],
   "source": [
    "hashm = {3:5,6:9,2:4,1:8}\n",
    "print(sorted(hashm.keys(),key  = hashm.get))\n",
    "# print(sorted(hashm.values(),key  = hashm.get))\n",
    "print(sorted(hashm.keys(),key  = hashm.get)[:len(hashm)-2-1:-1])\n",
    "print(hashm)"
   ]
  },
  {
   "cell_type": "code",
   "execution_count": 50,
   "metadata": {},
   "outputs": [
    {
     "name": "stdout",
     "output_type": "stream",
     "text": [
      "[0, 5, 2, 76, 34, 9, 6, 15]\n"
     ]
    }
   ],
   "source": [
    "a= [11, 3, 15, 6,9,34,76,2,5,0]\n",
    "print(a[:-9:-1])"
   ]
  },
  {
   "cell_type": "code",
   "execution_count": null,
   "metadata": {},
   "outputs": [],
   "source": [
    "## 快排\n",
    "nums  = list(map(int,input().split()))\n",
    "def quickSort(nums,low,high):\n",
    "    if low >= high:\n",
    "        return nums \n",
    "    i,j = low,high\n",
    "        #设置参照点\n",
    "    target = nums[low]\n",
    "    while i <j:\n",
    "        while i<j and nums[j] > target:\n",
    "            j-=1\n",
    "        while i<j and nums[i] <= target:\n",
    "            i+=1\n",
    "        nums[i],nums[j] = nums[j],nums[i]\n",
    "    nums[low],nums[j] = nums[i],nums[low]\n",
    "    quickSort(nums,low,i-1)\n",
    "    quickSort(nums,i+1,high)\n",
    "    return nums\n",
    "quickSort(nums,0,len(nums)-1)"
   ]
  },
  {
   "cell_type": "code",
   "execution_count": 6,
   "metadata": {},
   "outputs": [
    {
     "name": "stdout",
     "output_type": "stream",
     "text": [
      "[76, 34, 15, 9, 6, 5, 2, 0]\n",
      "[0, 2, 5, 6, 9, 15, 34, 76]\n",
      "[76, 34, 15, 9, 6, 5, 2, 0]\n"
     ]
    }
   ],
   "source": [
    "a = [0, 5, 2, 76, 34, 9, 6, 15]\n",
    "a.sort(reverse = True)\n",
    "print(a)\n",
    "print(list(reversed(a)))\n",
    "print(a)"
   ]
  },
  {
   "cell_type": "code",
   "execution_count": 57,
   "metadata": {},
   "outputs": [
    {
     "name": "stdout",
     "output_type": "stream",
     "text": [
      "[[], [3], [1], [1, 3], [7], [7, 3], [7, 1], [7, 1, 3], [1], [1, 3], [1, 1], [1, 1, 3], [1, 7], [1, 7, 3], [1, 7, 1], [1, 7, 1, 3]]\n"
     ]
    },
    {
     "data": {
      "text/plain": [
       "5"
      ]
     },
     "execution_count": 57,
     "metadata": {},
     "output_type": "execute_result"
    }
   ],
   "source": [
    "nums = [3,1,7,1]\n",
    "def ziji(nums):\n",
    "    res =[[]]\n",
    "    for i in nums:\n",
    "        res += [[i] + num for num in res]\n",
    "    print(res)\n",
    "    temp = []\n",
    "    for i in range(len(res)):\n",
    "        if 2*sum(res[i]) > sum(nums):\n",
    "            temp.append(res[i])\n",
    "    \n",
    "    return int(len(temp)/2 + 1) \n",
    "ziji(nums)"
   ]
  },
  {
   "cell_type": "code",
   "execution_count": 33,
   "metadata": {},
   "outputs": [
    {
     "name": "stdout",
     "output_type": "stream",
     "text": [
      "[[], [1], [1], [1, 1], [3], [3, 1], [3, 1], [3, 1, 1], [7], [7, 1], [7, 1], [7, 1, 1], [7, 3], [7, 3, 1], [7, 3, 1], [7, 3, 1, 1]]\n"
     ]
    }
   ],
   "source": [
    "nums = [3,1,7,1]\n",
    "nums.sort()\n",
    "res = [[]]\n",
    "for i in nums:\n",
    "    res += [[i] + num for num in res]\n",
    "\n",
    "print(res)\n"
   ]
  },
  {
   "cell_type": "code",
   "execution_count": null,
   "metadata": {},
   "outputs": [],
   "source": [
    "nums =  [3,1,7,1]\n",
    "def ziji(nums):\n",
    "    nums = sorted(nums)[::-1]\n",
    "    count = 0\n",
    "    for i in range(len(nums)):\n",
    "        if 2*sum(nums[:i+1]) > sum(nums):\n",
    "            count +=1\n",
    "    return count\n",
    "ziji(nums)"
   ]
  },
  {
   "cell_type": "code",
   "execution_count": null,
   "metadata": {},
   "outputs": [],
   "source": [
    "##子集\n",
    "nums = list(map(int,input().split()))\n",
    "def zijigeshu(nums):\n",
    "    nums  =sorted(nums,reverse = True)\n",
    "    print(nums)\n",
    "    count,i,temp = 0,0,1\n",
    "    while i <= len(nums)-1:\n",
    "        if 2*sum(nums[i:i+temp]) > sum(nums):\n",
    "            count += len(nums)-i-temp +1\n",
    "            temp =1\n",
    "            i +=1\n",
    "            continue\n",
    "        else:\n",
    "            temp+=1\n",
    "            if temp>len(nums):\n",
    "                break\n",
    "    return count\n",
    "zijigeshu(nums)"
   ]
  },
  {
   "cell_type": "code",
   "execution_count": null,
   "metadata": {},
   "outputs": [],
   "source": [
    "class ListNode:\n",
    "    def __init__(self,x):\n",
    "        self.val = x\n",
    "        self.next = None\n",
    "class Solution:\n",
    "    def reverseList(self,head:ListNode):\n",
    "        if not head or not head.next:\n",
    "            return head\n",
    "        cur =self.reverseList(head.next)\n",
    "        head.next.next = head\n",
    "        head.next = None\n",
    "        return cur\n",
    "    reverseList(3,56)"
   ]
  },
  {
   "cell_type": "code",
   "execution_count": 37,
   "metadata": {},
   "outputs": [
    {
     "name": "stdout",
     "output_type": "stream",
     "text": [
      " 1 2 3 4 5\n"
     ]
    },
    {
     "ename": "TypeError",
     "evalue": "sequence item 0: expected str instance, int found",
     "output_type": "error",
     "traceback": [
      "\u001b[1;31m---------------------------------------------------------------------------\u001b[0m",
      "\u001b[1;31mTypeError\u001b[0m                                 Traceback (most recent call last)",
      "\u001b[1;32m<ipython-input-37-95280b9ffc99>\u001b[0m in \u001b[0;36m<module>\u001b[1;34m\u001b[0m\n\u001b[0;32m      1\u001b[0m \u001b[1;31m# n = int(input())\u001b[0m\u001b[1;33m\u001b[0m\u001b[1;33m\u001b[0m\u001b[1;33m\u001b[0m\u001b[0m\n\u001b[0;32m      2\u001b[0m \u001b[0mlinkList1\u001b[0m \u001b[1;33m=\u001b[0m \u001b[0mlist\u001b[0m\u001b[1;33m(\u001b[0m\u001b[0mmap\u001b[0m\u001b[1;33m(\u001b[0m\u001b[0mint\u001b[0m\u001b[1;33m,\u001b[0m\u001b[0minput\u001b[0m\u001b[1;33m(\u001b[0m\u001b[1;33m)\u001b[0m\u001b[1;33m.\u001b[0m\u001b[0msplit\u001b[0m\u001b[1;33m(\u001b[0m\u001b[1;33m)\u001b[0m\u001b[1;33m)\u001b[0m\u001b[1;33m)\u001b[0m\u001b[1;33m\u001b[0m\u001b[1;33m\u001b[0m\u001b[0m\n\u001b[1;32m----> 3\u001b[1;33m \u001b[0mprint\u001b[0m\u001b[1;33m(\u001b[0m\u001b[1;34m'-'\u001b[0m\u001b[1;33m.\u001b[0m\u001b[0mjoin\u001b[0m\u001b[1;33m(\u001b[0m\u001b[0mlinkList1\u001b[0m\u001b[1;33m[\u001b[0m\u001b[1;33m:\u001b[0m\u001b[1;33m:\u001b[0m\u001b[1;33m-\u001b[0m\u001b[1;36m1\u001b[0m\u001b[1;33m]\u001b[0m\u001b[1;33m)\u001b[0m\u001b[1;33m)\u001b[0m\u001b[1;33m\u001b[0m\u001b[1;33m\u001b[0m\u001b[0m\n\u001b[0m\u001b[0;32m      4\u001b[0m     \u001b[1;31m# m = int(input())\u001b[0m\u001b[1;33m\u001b[0m\u001b[1;33m\u001b[0m\u001b[1;33m\u001b[0m\u001b[0m\n\u001b[0;32m      5\u001b[0m \u001b[1;31m# linkList2 = input().split()\u001b[0m\u001b[1;33m\u001b[0m\u001b[1;33m\u001b[0m\u001b[1;33m\u001b[0m\u001b[0m\n",
      "\u001b[1;31mTypeError\u001b[0m: sequence item 0: expected str instance, int found"
     ]
    }
   ],
   "source": [
    "# n = int(input())\n",
    "linkList1 = list(map(int,input().split()))\n",
    "print('-'.join(linkList1[::-1]))\n",
    "    # m = int(input())\n",
    "# linkList2 = input().split()\n",
    "# print(' '.join(linkList2[::-1]))"
   ]
  },
  {
   "cell_type": "code",
   "execution_count": null,
   "metadata": {},
   "outputs": [],
   "source": [
    "## 合并多个链表23\n",
    "class ListNode:\n",
    "    def __init__(self,val=0,next=None):\n",
    "        self.val = val \n",
    "        self.next = next"
   ]
  },
  {
   "cell_type": "code",
   "execution_count": 68,
   "metadata": {},
   "outputs": [
    {
     "name": "stdout",
     "output_type": "stream",
     "text": [
      "{1: 3, 4: 5, 2: 3} [4, 1, 2] [1, 2, 4]\n"
     ]
    }
   ],
   "source": [
    "dict_num = {1:3,4:5,2:3}\n",
    "dict_num1 =sorted(dict_num.keys(),key = dict_num.get,reverse = True)\n",
    "dict_num2 =sorted(dict_num.keys(),key = dict_num.get)\n",
    "print(dict_num,dict_num1,dict_num2)"
   ]
  },
  {
   "cell_type": "code",
   "execution_count": null,
   "metadata": {},
   "outputs": [],
   "source": [
    "while True:\n",
    "    try:\n",
    "        a,b = list(map(int,input().split()))\n",
    "        print(a+b)\n",
    "    except:\n",
    "        print(\"cowu\")\n",
    "        break"
   ]
  },
  {
   "cell_type": "code",
   "execution_count": null,
   "metadata": {},
   "outputs": [],
   "source": [
    "r = 1\n",
    "n = 3 + (1>0)\n",
    "print(n)"
   ]
  },
  {
   "cell_type": "code",
   "execution_count": 76,
   "metadata": {},
   "outputs": [
    {
     "name": "stdout",
     "output_type": "stream",
     "text": [
      "True\n"
     ]
    }
   ],
   "source": [
    "print(10!=9)"
   ]
  },
  {
   "cell_type": "code",
   "execution_count": null,
   "metadata": {},
   "outputs": [],
   "source": [
    "nums = list(map(int,input().split()))\n",
    "\n",
    "def sort(nums,low,high):\n",
    "    if low >= high:\n",
    "        return nums\n",
    "    i,j = low,high\n",
    "    base = nums[i]\n",
    "    while i < j:\n",
    "        while i<j and nums[j] >base:\n",
    "            j-=1\n",
    "        while i<j and nums [i] <= base:\n",
    "            i+=1\n",
    "        nums[i],nums[j] = nums[j],nums[i]\n",
    "    nums[low],nums[i] = nums[i],nums[low]\n",
    "    sort(nums,low,i-1)\n",
    "    sort(nums,i+1,high)\n",
    "#     nums = str(nums)\n",
    "#     return \"\".join(nums)\n",
    "    return nums\n",
    "sort(nums,0,len(nums)-1)"
   ]
  },
  {
   "cell_type": "code",
   "execution_count": 7,
   "metadata": {},
   "outputs": [
    {
     "name": "stdout",
     "output_type": "stream",
     "text": [
      "[4, 6, 9, 24, 35, 38, 44, 90, 110, 238, 315] [\n"
     ]
    }
   ],
   "source": [
    "a = [4, 6, 9, 24, 35, 38, 44, 90, 110, 238, 315]\n",
    "b = str(a)\n",
    "print(b,b[0])"
   ]
  },
  {
   "cell_type": "code",
   "execution_count": 80,
   "metadata": {},
   "outputs": [
    {
     "name": "stdout",
     "output_type": "stream",
     "text": [
      "a 3d 6a ['a', '3d', '6a']\n"
     ]
    }
   ],
   "source": [
    "a = [\"a\",\"3d\",\"6a\"]\n",
    "print(\" \".join(a),a)"
   ]
  },
  {
   "cell_type": "code",
   "execution_count": null,
   "metadata": {},
   "outputs": [],
   "source": [
    "n =int(input())\n",
    "nums = list(map(int,input().split()))\n",
    "def sonSum(nums):\n",
    "    hashmap ={}\n",
    "    if n <=1:return nums\n",
    "    dp = [1]*n \n",
    "    hashmap[1] = [nums[0]]\n",
    "#     print(n)\n",
    "    for j in range(1,n):\n",
    "        for i in range(j):\n",
    "            if nums[j] > nums[i]:\n",
    "                dp[j] = max(dp[j],dp[i]+1)\n",
    "                ##这一行是为了下面的hashmap[dp[j]-1]做准备，因为原数组是降序排列的，那么dp[j]-1 = 0,而字典无这个键，所以会报错\n",
    "            if dp[j]==1:continue\n",
    "            temp= copy.deepcopy(hashmap[dp[j]-1])\n",
    "            temp.append(nums[j])\n",
    "            if dp[j] not in hashmap:\n",
    "                hashmap[dp[j]] = temp\n",
    "                print(type(hashmap[dp[j]]))\n",
    "            else:\n",
    "                hashmap[dp[j]] = min(hashmap[dp[j]],temp)\n",
    "    if max(dp) ==1:return min(nums)\n",
    "#     print(max(dp))\n",
    "    return hashmap[max(dp)]\n",
    "sonSum(nums)"
   ]
  },
  {
   "cell_type": "code",
   "execution_count": 20,
   "metadata": {},
   "outputs": [
    {
     "name": "stdout",
     "output_type": "stream",
     "text": [
      "[1, 4, 1]\n",
      "[5, 1, 4, 1, 100]\n"
     ]
    }
   ],
   "source": [
    "nums = [1]*3\n",
    "nums[1]=4\n",
    "print(nums)\n",
    "nums.append(100)\n",
    "nums.insert(0,5)\n",
    "print(nums)"
   ]
  },
  {
   "cell_type": "code",
   "execution_count": 16,
   "metadata": {},
   "outputs": [
    {
     "ename": "NameError",
     "evalue": "name 'copy' is not defined",
     "output_type": "error",
     "traceback": [
      "\u001b[1;31m---------------------------------------------------------------------------\u001b[0m",
      "\u001b[1;31mNameError\u001b[0m                                 Traceback (most recent call last)",
      "\u001b[1;32m<ipython-input-16-00ab4d04eccc>\u001b[0m in \u001b[0;36m<module>\u001b[1;34m\u001b[0m\n\u001b[0;32m      1\u001b[0m \u001b[0mhashma\u001b[0m \u001b[1;33m=\u001b[0m \u001b[1;33m{\u001b[0m\u001b[1;36m1\u001b[0m\u001b[1;33m:\u001b[0m\u001b[1;33m[\u001b[0m\u001b[1;36m1\u001b[0m\u001b[1;33m,\u001b[0m\u001b[1;36m3\u001b[0m\u001b[1;33m]\u001b[0m\u001b[1;33m,\u001b[0m\u001b[1;36m2\u001b[0m\u001b[1;33m:\u001b[0m\u001b[1;33m[\u001b[0m\u001b[1;36m1\u001b[0m\u001b[1;33m,\u001b[0m\u001b[1;36m4\u001b[0m\u001b[1;33m,\u001b[0m\u001b[1;36m6\u001b[0m\u001b[1;33m]\u001b[0m\u001b[1;33m,\u001b[0m\u001b[1;36m3\u001b[0m\u001b[1;33m:\u001b[0m\u001b[1;33m[\u001b[0m\u001b[1;36m1\u001b[0m\u001b[1;33m,\u001b[0m\u001b[1;36m3\u001b[0m\u001b[1;33m,\u001b[0m\u001b[1;36m4\u001b[0m\u001b[1;33m]\u001b[0m\u001b[1;33m}\u001b[0m\u001b[1;33m\u001b[0m\u001b[1;33m\u001b[0m\u001b[0m\n\u001b[0;32m      2\u001b[0m \u001b[1;31m# print(type(hashmap[2]))\u001b[0m\u001b[1;33m\u001b[0m\u001b[1;33m\u001b[0m\u001b[1;33m\u001b[0m\u001b[0m\n\u001b[1;32m----> 3\u001b[1;33m \u001b[0mtemp\u001b[0m \u001b[1;33m=\u001b[0m \u001b[0mcopy\u001b[0m\u001b[1;33m.\u001b[0m\u001b[0mcopy\u001b[0m\u001b[1;33m(\u001b[0m\u001b[0mhashma\u001b[0m\u001b[1;33m[\u001b[0m\u001b[1;36m3\u001b[0m\u001b[1;33m]\u001b[0m\u001b[1;33m)\u001b[0m\u001b[1;33m\u001b[0m\u001b[1;33m\u001b[0m\u001b[0m\n\u001b[0m\u001b[0;32m      4\u001b[0m \u001b[1;31m# temp = hashma[3].deepcopy()\u001b[0m\u001b[1;33m\u001b[0m\u001b[1;33m\u001b[0m\u001b[1;33m\u001b[0m\u001b[0m\n\u001b[0;32m      5\u001b[0m \u001b[0mprint\u001b[0m\u001b[1;33m(\u001b[0m\u001b[0mtemp\u001b[0m\u001b[1;33m)\u001b[0m\u001b[1;33m\u001b[0m\u001b[1;33m\u001b[0m\u001b[0m\n",
      "\u001b[1;31mNameError\u001b[0m: name 'copy' is not defined"
     ]
    }
   ],
   "source": [
    "hashma = {1:[1,3],2:[1,4,6],3:[1,3,4]}\n",
    "# print(type(hashmap[2]))\n",
    "temp = copy.copy(hashma[3])\n",
    "# temp = hashma[3].deepcopy()\n",
    "print(temp)\n",
    "tmp =copy.deepcopy(hashma[3])\n",
    "print(tmp)\n",
    "temp.append(5)\n",
    "print(temp)\n",
    "# hashma[4] = temp.append(10)\n",
    "# hasnmap[2] = min(hashmap[2],hashmap[1].append(9))\n",
    "print(hashma)\n",
    "hashma[3].append(133)\n",
    "print(hashma,temp,tmp)"
   ]
  },
  {
   "cell_type": "code",
   "execution_count": 18,
   "metadata": {},
   "outputs": [
    {
     "name": "stdout",
     "output_type": "stream",
     "text": [
      "{1: [], 3: [], 2: [], 5: [], 22: []}\n",
      "{1: [4], 3: [4], 2: [4], 5: [4], 22: [4]}\n"
     ]
    }
   ],
   "source": [
    "hashmap = [1,3,2,5,22,2,3]\n",
    "b = {}\n",
    "x = []\n",
    "b = b.fromkeys(hashmap,list(x))\n",
    "print(b)\n",
    "b[1].append(4)\n",
    "print(b)"
   ]
  },
  {
   "cell_type": "code",
   "execution_count": 90,
   "metadata": {},
   "outputs": [
    {
     "name": "stdout",
     "output_type": "stream",
     "text": [
      "1 2 3 1 2 3 [1, 2, 3]\n"
     ]
    }
   ],
   "source": [
    "a = [1,2,3]\n",
    "print(\" \".join(map(str,a)),*a,a)"
   ]
  },
  {
   "cell_type": "code",
   "execution_count": 91,
   "metadata": {},
   "outputs": [
    {
     "name": "stdout",
     "output_type": "stream",
     "text": [
      "[[1, 1, 1, 1, 1, 1, 1], [1, 0, 0, 0, 0, 0, 0], [1, 0, 0, 0, 0, 0, 0]]\n"
     ]
    }
   ],
   "source": [
    "row,col = 3,7\n",
    "res = [[1]*col] + [[1] + [0]*(col-1)  for _ in range(row-1)]\n",
    "print(res)"
   ]
  },
  {
   "cell_type": "code",
   "execution_count": 38,
   "metadata": {},
   "outputs": [
    {
     "name": "stdout",
     "output_type": "stream",
     "text": [
      " 4 6\n"
     ]
    },
    {
     "name": "stdout",
     "output_type": "stream",
     "text": [
      "[[1, 1, 1, 1, 1, 1], [1, 0, 0, 0, 0, 0], [1, 0, 0, 0, 0, 0], [1, 0, 0, 0, 0, 0]]\n",
      "[[1, 1, 1, 1, 1, 1], [1, 0, 0, 100, 0, 0], [1, 0, 0, 0, 0, 0], [1, 0, 0, 0, 0, 0]]\n"
     ]
    },
    {
     "ename": "TypeError",
     "evalue": "list indices must be integers or slices, not tuple",
     "output_type": "error",
     "traceback": [
      "\u001b[1;31m---------------------------------------------------------------------------\u001b[0m",
      "\u001b[1;31mTypeError\u001b[0m                                 Traceback (most recent call last)",
      "\u001b[1;32m<ipython-input-38-346592c21216>\u001b[0m in \u001b[0;36m<module>\u001b[1;34m\u001b[0m\n\u001b[0;32m      4\u001b[0m \u001b[0mnums\u001b[0m\u001b[1;33m[\u001b[0m\u001b[1;36m1\u001b[0m\u001b[1;33m]\u001b[0m\u001b[1;33m[\u001b[0m\u001b[1;36m3\u001b[0m\u001b[1;33m]\u001b[0m \u001b[1;33m=\u001b[0m \u001b[1;36m100\u001b[0m\u001b[1;33m\u001b[0m\u001b[1;33m\u001b[0m\u001b[0m\n\u001b[0;32m      5\u001b[0m \u001b[0mprint\u001b[0m\u001b[1;33m(\u001b[0m\u001b[0mnums\u001b[0m\u001b[1;33m)\u001b[0m\u001b[1;33m\u001b[0m\u001b[1;33m\u001b[0m\u001b[0m\n\u001b[1;32m----> 6\u001b[1;33m \u001b[0mnums\u001b[0m\u001b[1;33m[\u001b[0m\u001b[1;36m1\u001b[0m\u001b[1;33m,\u001b[0m\u001b[1;36m5\u001b[0m\u001b[1;33m]\u001b[0m \u001b[1;33m=\u001b[0m\u001b[1;36m10000\u001b[0m\u001b[1;33m\u001b[0m\u001b[1;33m\u001b[0m\u001b[0m\n\u001b[0m\u001b[0;32m      7\u001b[0m \u001b[0mprint\u001b[0m\u001b[1;33m(\u001b[0m\u001b[0mnums\u001b[0m\u001b[1;33m)\u001b[0m\u001b[1;33m\u001b[0m\u001b[1;33m\u001b[0m\u001b[0m\n",
      "\u001b[1;31mTypeError\u001b[0m: list indices must be integers or slices, not tuple"
     ]
    }
   ],
   "source": [
    "m,n = map(int,input().split())\n",
    "nums = [[1]*n] +[[1] + [0]*(n-1) for _ in range(m-1)]\n",
    "print(nums)\n",
    "nums[1][3] = 100\n",
    "print(nums)\n",
    "nums[1,5] =10000\n",
    "print(nums)"
   ]
  },
  {
   "cell_type": "code",
   "execution_count": 19,
   "metadata": {},
   "outputs": [
    {
     "name": "stdout",
     "output_type": "stream",
     "text": [
      "None\n",
      "[1, 2, 3, [5, 6, 7], [5, 6, 7]] [[5, 6, 7]]\n"
     ]
    }
   ],
   "source": [
    "a = [1,2,3]\n",
    "b = [[5,6,7]]\n",
    "a += b\n",
    "print(a.extend(b))\n",
    "\n",
    "print(a,b)\n",
    "# print()"
   ]
  },
  {
   "cell_type": "code",
   "execution_count": 95,
   "metadata": {},
   "outputs": [
    {
     "name": "stdout",
     "output_type": "stream",
     "text": [
      "[[1, 3], [2, 6], [3, 3521]]\n"
     ]
    }
   ],
   "source": [
    "a = [[1,3]]+ [[2,6],[3,3521]]\n",
    "print(a)"
   ]
  },
  {
   "cell_type": "code",
   "execution_count": 20,
   "metadata": {},
   "outputs": [
    {
     "name": "stdout",
     "output_type": "stream",
     "text": [
      "[1, 2, 4] None\n",
      "4\n"
     ]
    }
   ],
   "source": [
    "nums = [1,2,3,4]\n",
    "a = nums.remove(3)\n",
    "print(nums,a)\n",
    "print(nums.pop())"
   ]
  },
  {
   "cell_type": "code",
   "execution_count": 35,
   "metadata": {},
   "outputs": [
    {
     "name": "stdout",
     "output_type": "stream",
     "text": [
      "[[0, 0, 0, 0, 0, 0, 0], [0, 0, 0, 0, 0, 0, 0], [0, 0, 0, 0, 0, 0, 0]]\n",
      "[[0, 0, 100, 0, 0, 0, 0], [0, 0, 100, 0, 0, 0, 0], [0, 0, 100, 0, 0, 0, 0]]\n"
     ]
    }
   ],
   "source": [
    "dp = [[0]*7]*3\n",
    "print(dp)\n",
    "dp[1][2] = 100\n",
    "print(dp)"
   ]
  },
  {
   "cell_type": "code",
   "execution_count": 36,
   "metadata": {},
   "outputs": [
    {
     "name": "stdout",
     "output_type": "stream",
     "text": [
      "[[0, 0, 0, 0, 0, 0, 0], [0, 0, 0, 0, 0, 0, 0], [0, 0, 0, 0, 0, 0, 0]]\n",
      "[[0, 0, 0, 0, 0, 0, 0], [0, 0, 100, 0, 0, 0, 0], [0, 0, 0, 0, 0, 0, 0]]\n"
     ]
    }
   ],
   "source": [
    "dp = [[0]*7 for _ in range(3)]\n",
    "print(dp)\n",
    "dp[1][2] = 100\n",
    "print(dp)"
   ]
  },
  {
   "cell_type": "code",
   "execution_count": 99,
   "metadata": {},
   "outputs": [
    {
     "name": "stdout",
     "output_type": "stream",
     "text": [
      "['3', '4', '1', '4', '3']\n",
      "3 4 1 4 3\n"
     ]
    }
   ],
   "source": [
    "b = \"34143\"\n",
    "print(list(b))\n",
    "print(\" \".join(list(b)))"
   ]
  },
  {
   "cell_type": "code",
   "execution_count": null,
   "metadata": {},
   "outputs": [],
   "source": [
    "res = [[]]\n",
    "nums = [1,2,3]\n",
    "for i in range(len(nums)):\n",
    "    res += [[i] + num for num in res]\n",
    "res.sort()\n",
    "print(res)"
   ]
  },
  {
   "cell_type": "code",
   "execution_count": null,
   "metadata": {},
   "outputs": [],
   "source": [
    "##堆排序\n",
    "nums = list(map(int,input().split()))\n",
    "def heapSort(nums):\n",
    "    def swap(s,a,b):\n",
    "        s[a],s[b] = s[b],s[a]\n",
    "#         return \n",
    "    def heap(nums,n,i):\n",
    "        while True:\n",
    "            max_val = i\n",
    "            if i*2 + 1 < n and nums[i*2+1] > nums[max_val]:\n",
    "                max_val = i*2+1\n",
    "\n",
    "            if i*2 + 2 < n and nums[i*2+2] > nums[max_val]:\n",
    "                max_val = i*2+2\n",
    "            if max_val == i:\n",
    "                break\n",
    "            swap(nums,max_val,i)\n",
    "            i = max_val\n",
    "#         return \n",
    "\n",
    "    for i in range(len(nums)//2,-1,-1):\n",
    "        heap(nums,len(nums),i)\n",
    "    for i in range(len(nums)-1,0,-1):\n",
    "        swap(nums,0,i)\n",
    "        heap(nums,i,0)\n",
    "    return nums\n",
    "heapSort(nums)"
   ]
  },
  {
   "cell_type": "code",
   "execution_count": 101,
   "metadata": {},
   "outputs": [
    {
     "name": "stdout",
     "output_type": "stream",
     "text": [
      "4 312 651 1234\n"
     ]
    }
   ],
   "source": [
    "a = [4, 312, 651, 1234]\n",
    "print(' '.join(map(str,a)))"
   ]
  },
  {
   "cell_type": "code",
   "execution_count": null,
   "metadata": {},
   "outputs": [],
   "source": [
    "try:\n",
    "    while True:\n",
    "        a,b = list(map(int,input().split()))\n",
    "        if a==b==0:\n",
    "            break\n",
    "        print(a+b)\n",
    "except:\n",
    "    print(\"错误\")\n",
    "    pass"
   ]
  },
  {
   "cell_type": "code",
   "execution_count": null,
   "metadata": {},
   "outputs": [],
   "source": [
    "while True:\n",
    "    a,b = list(map(int,input().split()))\n",
    "    if a==b==0:\n",
    "        break\n",
    "    print(a+b)"
   ]
  },
  {
   "cell_type": "code",
   "execution_count": 23,
   "metadata": {},
   "outputs": [
    {
     "name": "stdout",
     "output_type": "stream",
     "text": [
      "9 ['1', '2', '3', '3']\n"
     ]
    }
   ],
   "source": [
    "y = ['1' ,'2' ,'3' ,'3']\n",
    "print(sum(map(int,y)),y)\n"
   ]
  },
  {
   "cell_type": "code",
   "execution_count": 107,
   "metadata": {},
   "outputs": [
    {
     "name": "stdout",
     "output_type": "stream",
     "text": [
      " 1 3 5 6\n"
     ]
    },
    {
     "name": "stdout",
     "output_type": "stream",
     "text": [
      "['1', '3', '5', '6']\n"
     ]
    }
   ],
   "source": [
    "a= [str(x) for x in map(int,input().split())]\n",
    "print(a)"
   ]
  },
  {
   "cell_type": "code",
   "execution_count": 114,
   "metadata": {},
   "outputs": [
    {
     "name": "stdout",
     "output_type": "stream",
     "text": [
      "['1', '3', '35', '3432', '35']\n",
      "1 3 35 3432 35\n",
      "1-3-35-3432-35\n"
     ]
    }
   ],
   "source": [
    "in_order = [1,3,35,3432,35]\n",
    "print([str(x) for x in in_order])\n",
    "print(\" \".join(str(x) for x in in_order))\n",
    "print(\"-\".join(map(str,in_order)))"
   ]
  },
  {
   "cell_type": "code",
   "execution_count": 115,
   "metadata": {},
   "outputs": [
    {
     "name": "stdout",
     "output_type": "stream",
     "text": [
      "[1]\n"
     ]
    }
   ],
   "source": [
    "a= [1]\n",
    "a.extend([])\n",
    "print(a)"
   ]
  },
  {
   "cell_type": "code",
   "execution_count": 116,
   "metadata": {},
   "outputs": [
    {
     "ename": "ValueError",
     "evalue": "max() arg is an empty sequence",
     "output_type": "error",
     "traceback": [
      "\u001b[1;31m---------------------------------------------------------------------------\u001b[0m",
      "\u001b[1;31mValueError\u001b[0m                                Traceback (most recent call last)",
      "\u001b[1;32m<ipython-input-116-07862d42647b>\u001b[0m in \u001b[0;36m<module>\u001b[1;34m\u001b[0m\n\u001b[0;32m      1\u001b[0m \u001b[0mres\u001b[0m  \u001b[1;33m=\u001b[0m \u001b[1;33m[\u001b[0m\u001b[1;33m]\u001b[0m\u001b[1;33m\u001b[0m\u001b[1;33m\u001b[0m\u001b[0m\n\u001b[1;32m----> 2\u001b[1;33m \u001b[0mprint\u001b[0m\u001b[1;33m(\u001b[0m\u001b[0mmax\u001b[0m\u001b[1;33m(\u001b[0m\u001b[0mres\u001b[0m\u001b[1;33m)\u001b[0m\u001b[1;33m)\u001b[0m\u001b[1;33m\u001b[0m\u001b[1;33m\u001b[0m\u001b[0m\n\u001b[0m",
      "\u001b[1;31mValueError\u001b[0m: max() arg is an empty sequence"
     ]
    }
   ],
   "source": [
    "res  = []\n",
    "print(max(res))"
   ]
  },
  {
   "cell_type": "code",
   "execution_count": 117,
   "metadata": {},
   "outputs": [
    {
     "name": "stdout",
     "output_type": "stream",
     "text": [
      "ac\n"
     ]
    }
   ],
   "source": [
    "temp = \"\"\n",
    "print(temp + \"a\"+\"c\")"
   ]
  },
  {
   "cell_type": "code",
   "execution_count": 28,
   "metadata": {},
   "outputs": [
    {
     "ename": "SyntaxError",
     "evalue": "unexpected EOF while parsing (Temp/ipykernel_17344/1035538305.py, line 6)",
     "output_type": "error",
     "traceback": [
      "\u001b[1;36m  File \u001b[1;32m\"C:\\Users\\hangz\\AppData\\Local\\Temp/ipykernel_17344/1035538305.py\"\u001b[1;36m, line \u001b[1;32m6\u001b[0m\n\u001b[1;33m    #     print(type(char))\u001b[0m\n\u001b[1;37m                           ^\u001b[0m\n\u001b[1;31mSyntaxError\u001b[0m\u001b[1;31m:\u001b[0m unexpected EOF while parsing\n"
     ]
    }
   ],
   "source": [
    "s = 'ababcbacadefegdehijhklij'\n",
    "max_index = {item:idx for idx,item in enumerate(s)}\n",
    "print(max_index)\n",
    "print(max_index['a'])\n",
    "for i,char in enumerate(s):\n",
    "#     print(type(char))"
   ]
  },
  {
   "cell_type": "code",
   "execution_count": null,
   "metadata": {},
   "outputs": [],
   "source": [
    "###快排\n",
    "nums = list(map(int,input().split()))\n",
    "def quickSort(nums,low,high):\n",
    "    if low >= high:\n",
    "        return nums\n",
    "    i,j = low,high\n",
    "    target  = nums[low]\n",
    "    while i < j:\n",
    "        while i<j and nums[j] > target:\n",
    "            j -=1\n",
    "        while i< j and nums[i] <= target:\n",
    "            i+=1\n",
    "        nums[i],nums[j] = nums[j],nums[i]\n",
    "    nums[low],nums[i] = nums[i] ,nums[low]\n",
    "    quickSort(nums,low,i-1)\n",
    "    quickSort(nums,i+1,high)\n",
    "    return nums\n",
    "quickSort(nums,0,len(nums)-1)\n",
    "    "
   ]
  },
  {
   "cell_type": "code",
   "execution_count": null,
   "metadata": {},
   "outputs": [],
   "source": [
    "str1 = str(input().split())\n",
    "print(str1)"
   ]
  },
  {
   "cell_type": "code",
   "execution_count": null,
   "metadata": {},
   "outputs": [],
   "source": [
    "str1 = str(input())\n",
    "print(str1.split())"
   ]
  },
  {
   "cell_type": "code",
   "execution_count": 118,
   "metadata": {},
   "outputs": [
    {
     "name": "stdout",
     "output_type": "stream",
     "text": [
      "[1, 2, 3, 4, 'b', '1'] 1 2 3 4 b 1 3\n"
     ]
    }
   ],
   "source": [
    "a= [1,2,3,4,'b','1']\n",
    "print(a,*a,sum(a[:2]))"
   ]
  },
  {
   "cell_type": "code",
   "execution_count": 119,
   "metadata": {},
   "outputs": [
    {
     "name": "stdout",
     "output_type": "stream",
     "text": [
      "['1', '1', '3', 4, 'b', '1'] 1 1 3 4 b 1\n"
     ]
    }
   ],
   "source": [
    "a= ['1','1','3',4,'b','1']\n",
    "print(a,*a)"
   ]
  },
  {
   "cell_type": "code",
   "execution_count": 120,
   "metadata": {},
   "outputs": [
    {
     "name": "stdout",
     "output_type": "stream",
     "text": [
      "[' a ', ' b ', ' c ']  a   b   c \n"
     ]
    }
   ],
   "source": [
    "x = [ ' a ' ,   ' b ' ,   ' c ' ]\n",
    "print(x,*x)"
   ]
  },
  {
   "cell_type": "code",
   "execution_count": 24,
   "metadata": {},
   "outputs": [
    {
     "name": "stdout",
     "output_type": "stream",
     "text": [
      "s'teL ekat edoCteeL tsetnoc\n"
     ]
    },
    {
     "ename": "TypeError",
     "evalue": "sequence item 0: expected str instance, reversed found",
     "output_type": "error",
     "traceback": [
      "\u001b[1;31m---------------------------------------------------------------------------\u001b[0m",
      "\u001b[1;31mTypeError\u001b[0m                                 Traceback (most recent call last)",
      "\u001b[1;32m<ipython-input-24-b031f3f3aa42>\u001b[0m in \u001b[0;36m<module>\u001b[1;34m\u001b[0m\n\u001b[0;32m      1\u001b[0m \u001b[0ma\u001b[0m\u001b[1;33m=\u001b[0m \u001b[1;34m\"Let's take LeetCode contest\"\u001b[0m\u001b[1;33m\u001b[0m\u001b[1;33m\u001b[0m\u001b[0m\n\u001b[0;32m      2\u001b[0m \u001b[0mprint\u001b[0m\u001b[1;33m(\u001b[0m\u001b[1;34m\" \"\u001b[0m\u001b[1;33m.\u001b[0m\u001b[0mjoin\u001b[0m\u001b[1;33m(\u001b[0m\u001b[1;33m(\u001b[0m\u001b[0mword\u001b[0m\u001b[1;33m[\u001b[0m\u001b[1;33m:\u001b[0m\u001b[1;33m:\u001b[0m\u001b[1;33m-\u001b[0m\u001b[1;36m1\u001b[0m\u001b[1;33m]\u001b[0m \u001b[1;32mfor\u001b[0m \u001b[0mword\u001b[0m \u001b[1;32min\u001b[0m \u001b[0ma\u001b[0m\u001b[1;33m.\u001b[0m\u001b[0msplit\u001b[0m\u001b[1;33m(\u001b[0m\u001b[1;33m)\u001b[0m\u001b[1;33m)\u001b[0m\u001b[1;33m)\u001b[0m\u001b[1;33m)\u001b[0m\u001b[1;33m\u001b[0m\u001b[1;33m\u001b[0m\u001b[0m\n\u001b[1;32m----> 3\u001b[1;33m \u001b[0mprint\u001b[0m\u001b[1;33m(\u001b[0m\u001b[1;34m\" \"\u001b[0m\u001b[1;33m.\u001b[0m\u001b[0mjoin\u001b[0m\u001b[1;33m(\u001b[0m\u001b[1;33m(\u001b[0m\u001b[0mreversed\u001b[0m\u001b[1;33m(\u001b[0m\u001b[0mword\u001b[0m\u001b[1;33m)\u001b[0m \u001b[1;32mfor\u001b[0m \u001b[0mword\u001b[0m \u001b[1;32min\u001b[0m \u001b[0ma\u001b[0m\u001b[1;33m.\u001b[0m\u001b[0msplit\u001b[0m\u001b[1;33m(\u001b[0m\u001b[1;33m)\u001b[0m\u001b[1;33m)\u001b[0m\u001b[1;33m)\u001b[0m\u001b[1;33m)\u001b[0m\u001b[1;33m\u001b[0m\u001b[1;33m\u001b[0m\u001b[0m\n\u001b[0m",
      "\u001b[1;31mTypeError\u001b[0m: sequence item 0: expected str instance, reversed found"
     ]
    }
   ],
   "source": [
    "a= \"Let's take LeetCode contest\"\n",
    "print(\" \".join((word[::-1] for word in a.split())))\n",
    "print(\" \".join((reversed(word) for word in a.split())))"
   ]
  },
  {
   "cell_type": "code",
   "execution_count": 122,
   "metadata": {},
   "outputs": [
    {
     "name": "stdout",
     "output_type": "stream",
     "text": [
      "s'teL ekat edoCteeL tsetnoc\n"
     ]
    }
   ],
   "source": [
    "a = [\"s'teL\", 'ekat', 'edoCteeL', 'tsetnoc']\n",
    "print(\" \".join(a))"
   ]
  },
  {
   "cell_type": "code",
   "execution_count": null,
   "metadata": {},
   "outputs": [],
   "source": [
    "###二分查找 循环\n",
    "nums = list(map(int,input().split()))\n",
    "target = int(input())\n",
    "def binarySearch(nums,target):\n",
    "    left,right = 0,len(nums)-1\n",
    "    while left <= right:\n",
    "        mid = left + (right - left)//2\n",
    "        if nums[mid] == target:\n",
    "            return mid\n",
    "        elif nums[mid] > target:\n",
    "            right -=1\n",
    "        elif nums[mid] < target:\n",
    "            left +=1\n",
    "    return -1\n",
    "binarySearch(nums,target)\n",
    "\n"
   ]
  },
  {
   "cell_type": "code",
   "execution_count": null,
   "metadata": {},
   "outputs": [],
   "source": [
    "## 二分查找——递归\n",
    "nums = list(map(int,input().split()))\n",
    "target = int(input())\n",
    "def binarySearch1(nums,low,high,target):\n",
    "    if low > high:return -1\n",
    "#     left,right = low,high\n",
    "    mid = low + (high - low)//2\n",
    "    if nums[mid] == target:\n",
    "        return mid\n",
    "    elif nums[mid] > target:\n",
    "        return binarySearch1(nums,low,mid-1,target)\n",
    "    else:\n",
    "        return binarySearch1(nums,mid+1,high,target)\n",
    "binarySearch1(nums,0,len(nums)-1,target)\n"
   ]
  },
  {
   "cell_type": "code",
   "execution_count": null,
   "metadata": {},
   "outputs": [],
   "source": [
    "nums = list(map(int,input().split()))\n",
    "target = int(input())\n",
    "def binarySearch1(nums,left,right,target):\n",
    "    low,high = left,right\n",
    "    if low > high:return -1\n",
    "\n",
    "    mid = low + (high - low)//2\n",
    "    if nums[mid] == target:\n",
    "        return mid\n",
    "    elif nums[mid] > target:\n",
    "        return binarySearch1(nums,low,mid-1,target)\n",
    "    else:\n",
    "        return binarySearch1(nums,mid+1,high,target)\n",
    "binarySearch1(nums,0,len(nums)-1,target)"
   ]
  },
  {
   "cell_type": "code",
   "execution_count": null,
   "metadata": {},
   "outputs": [],
   "source": [
    "nums  = [-3,-1,0.1,3,13]\n",
    "target = 0.1\n",
    "# def binarySearch(nums,target):\n",
    "left,right = 0,len(nums)-1\n",
    "try:\n",
    "    while left <= right:\n",
    "        mid = left + (right - left)//2\n",
    "        if nums[mid] == target:\n",
    "            print(mid)\n",
    "            break\n",
    "\n",
    "        elif nums[mid] > target:\n",
    "            right -=1\n",
    "        elif nums[mid] < target:\n",
    "            left +=1\n",
    "    a=b\n",
    "except:\n",
    "    print(-1)"
   ]
  },
  {
   "cell_type": "code",
   "execution_count": null,
   "metadata": {},
   "outputs": [],
   "source": [
    "a,n = list(map(str,input().split(\",\")))\n",
    "print(a,type(a),n,type(n))\n",
    "a = list(map(int,a.split()))\n",
    "print(a,type(a))"
   ]
  },
  {
   "cell_type": "code",
   "execution_count": 131,
   "metadata": {},
   "outputs": [
    {
     "name": "stdout",
     "output_type": "stream",
     "text": [
      "1 wor 1\n"
     ]
    }
   ],
   "source": [
    "str12 = 'hhhhhhello  world'\n",
    "print(1,str12.strip('hellwdo').strip(),1)"
   ]
  },
  {
   "cell_type": "code",
   "execution_count": 25,
   "metadata": {},
   "outputs": [
    {
     "name": "stdout",
     "output_type": "stream",
     "text": [
      "1                                                        2 3 4 5 <class 'str'> 1   5\n"
     ]
    }
   ],
   "source": [
    "a= '1                                                        2 3 4 5'\n",
    "print(a,type(a),a[0],a[1],a[-1])"
   ]
  },
  {
   "cell_type": "code",
   "execution_count": 139,
   "metadata": {},
   "outputs": [
    {
     "name": "stdout",
     "output_type": "stream",
     "text": [
      "['1', '2', '4', '5']\n"
     ]
    }
   ],
   "source": [
    "a = ['1', '2', '3', '4', '5']\n",
    "a.remove(a[a.index(\"3\")])\n",
    "print(a)"
   ]
  },
  {
   "cell_type": "code",
   "execution_count": null,
   "metadata": {},
   "outputs": [],
   "source": [
    "##最小公倍数\n",
    "x,y  = list(map(int,input().split()))\n",
    "def lcm(x,y):\n",
    "    greater = max(x,y)\n",
    "    while 1:\n",
    "        if greater %x ==0 and greater %y ==0:\n",
    "#             lcm = greater\n",
    "            break\n",
    "        greater +=1\n",
    "    return greater\n",
    "lcm(x,y)"
   ]
  },
  {
   "cell_type": "code",
   "execution_count": 26,
   "metadata": {},
   "outputs": [
    {
     "name": "stdout",
     "output_type": "stream",
     "text": [
      " acdgdsddf bcgsdffs\n"
     ]
    },
    {
     "name": "stdout",
     "output_type": "stream",
     "text": [
      "5 5 5 cddsf\n"
     ]
    }
   ],
   "source": [
    "##最长公共子序\n",
    "str1,str2 = input().split()\n",
    "def common(str1,str2):\n",
    "    m,n = len(str1),len(str2)\n",
    "    res = ''\n",
    "    dp = [[0 for i in range(n+1)]for _ in range(m+1)]\n",
    "    for i in range(m):\n",
    "        for j in range(n):\n",
    "            if str1[i] == str2[j]:\n",
    "                dp[i+1][j+1] = dp[i][j]+1\n",
    "                if dp[i+1][j+1] > len(res):\n",
    "                    res +=str1[i]\n",
    "            else:\n",
    "                dp[i+1][j+1] = max(dp[i][j+1],dp[i+1][j])\n",
    "    print(dp[i+1][j+1],dp[m][n],dp[-1][-1],res)\n",
    "#     pritn(dp)\n",
    "common(str1,str2)"
   ]
  },
  {
   "cell_type": "code",
   "execution_count": 35,
   "metadata": {},
   "outputs": [
    {
     "name": "stdout",
     "output_type": "stream",
     "text": [
      "abc\n",
      "a——b——c\n",
      "a_,_b_,_c\n"
     ]
    }
   ],
   "source": [
    "a= \"abc\"\n",
    "b = \"a,b,c\"\n",
    "print('_'.join(a.split()))\n",
    "print(\"——\".join(a))\n",
    "print(\"_\".join(b))"
   ]
  },
  {
   "cell_type": "code",
   "execution_count": 30,
   "metadata": {},
   "outputs": [
    {
     "name": "stdout",
     "output_type": "stream",
     "text": [
      "[[0], [0], [0], [0], [0]] [[0, 0, 0, 0, 0]]\n",
      "0\n",
      "0\n"
     ]
    }
   ],
   "source": [
    "dp1 = [[0]for _ in range(5)]\n",
    "dp2 = [[0]*5]\n",
    "print(dp1, dp2)\n",
    "print(dp1[1][0])\n",
    "print(dp2[0][1])"
   ]
  },
  {
   "cell_type": "code",
   "execution_count": 33,
   "metadata": {},
   "outputs": [
    {
     "name": "stdout",
     "output_type": "stream",
     "text": [
      "sdfsdfasdfasdf\n",
      "sdfsdfasdfasdf\n"
     ]
    }
   ],
   "source": [
    "a = 'dsfa'\n",
    "b ='sdfsdfasdfasdf'\n",
    "print(max(a,b))\n",
    "print(max(a,b,key =len))\n"
   ]
  },
  {
   "cell_type": "code",
   "execution_count": 150,
   "metadata": {},
   "outputs": [
    {
     "name": "stdout",
     "output_type": "stream",
     "text": [
      "00010101\n",
      "168\n"
     ]
    }
   ],
   "source": [
    "##二进制转换为10进制\n",
    "a = 10101000\n",
    "a= str(a)[::-1]\n",
    "print(a)\n",
    "res = 0\n",
    "for i in range(len(a)):\n",
    "    res +=int(a[i])*2**i\n",
    "print(res)\n",
    "    "
   ]
  },
  {
   "cell_type": "code",
   "execution_count": 151,
   "metadata": {},
   "outputs": [
    {
     "name": "stdout",
     "output_type": "stream",
     "text": [
      "10010\n"
     ]
    }
   ],
   "source": [
    "num = 18\n",
    "res = \"\"\n",
    "while num >0:\n",
    "    yu = num%2\n",
    "    num//=2\n",
    "    res += str(yu)\n",
    "res = int(res[::-1])\n",
    "print(res)\n"
   ]
  },
  {
   "cell_type": "code",
   "execution_count": null,
   "metadata": {},
   "outputs": [],
   "source": [
    "#接雨水\n",
    "nums = list(map(int,input().split()))\n",
    "def rain(nums):\n",
    "    if len(nums)<=1:\n",
    "        print(0)\n",
    "        return\n",
    "    temp,i = 0,1\n",
    "    left,right = 0,len(nums)-1\n",
    "    while i <= max(nums):\n",
    "        while nums[left] < i:\n",
    "            left += 1\n",
    "        while nums[right] < i:\n",
    "            right -= 1\n",
    "        temp += right - left +1\n",
    "        i +=1\n",
    "    print(temp-sum(nums))\n",
    "rain(nums)"
   ]
  },
  {
   "cell_type": "code",
   "execution_count": null,
   "metadata": {},
   "outputs": [],
   "source": [
    "nums = list(map(int,input().split()))\n",
    "def rain1(nums):\n",
    "    if len(nums) <=1:\n",
    "        print(0)\n",
    "        return \n",
    "    temp,left,right,left_max,right_max = 0,0,len(nums)-1,0,0\n",
    "    while left < right:\n",
    "        if nums[left] <=nums[right]:\n",
    "            if nums[left] >= left_max:\n",
    "                left_max = nums[left]\n",
    "            else:\n",
    "                temp += left_max - nums[left]\n",
    "            left +=1\n",
    "        else:\n",
    "            if nums[right] >= right_max:\n",
    "                right_max = nums[right]\n",
    "            else:\n",
    "                temp += right_max -nums[right]\n",
    "            right -=1\n",
    "    print(temp)\n",
    "rain1(nums)"
   ]
  },
  {
   "cell_type": "code",
   "execution_count": null,
   "metadata": {},
   "outputs": [],
   "source": [
    "nums,target  = list(input().split(\",\"))\n",
    "# target = int(input())\n",
    "nums = list(map(int,nums.split()))\n",
    "def sonArray(nums,target):\n",
    "    if sum(nums)<target:\n",
    "        print(0)\n",
    "        return\n",
    "    res,temp = float(\"inf\"),[]\n",
    "    for i in nums:\n",
    "        temp.append(i)\n",
    "        while sum(temp) >= target:\n",
    "            res = min(res,len(temp))\n",
    "            del temp[0]\n",
    "    print(res)\n",
    "sonArray(nums,int(target))"
   ]
  },
  {
   "cell_type": "code",
   "execution_count": 155,
   "metadata": {},
   "outputs": [
    {
     "name": "stdout",
     "output_type": "stream",
     "text": [
      "[1, 3, 5]\n"
     ]
    }
   ],
   "source": [
    "a = \"1 3 5\"\n",
    "a = list(map(int,a.split()))\n",
    "print(a)"
   ]
  },
  {
   "cell_type": "code",
   "execution_count": null,
   "metadata": {},
   "outputs": [],
   "source": [
    "nums = list(map(int,input().split()))\n",
    "def noSrot(nums):\n",
    "    l,r = len(nums)-1,0\n",
    "#     num =nums.sort()]\n",
    "    num =sorted(nums)\n",
    "    for i in range(len(nums)):\n",
    "        if nums[i] != num[i]:\n",
    "            l = min(l,i)\n",
    "            r = i\n",
    "    if l == len(nums)-1 or r ==0:\n",
    "        print(0)\n",
    "        return\n",
    "    print(r-l+1)\n",
    "noSrot(nums)"
   ]
  },
  {
   "cell_type": "code",
   "execution_count": null,
   "metadata": {},
   "outputs": [],
   "source": [
    "##二叉树\n",
    "class TreeNode:\n",
    "    def __init__(self,x):\n",
    "        self.val = x\n",
    "        self.left = None\n",
    "        self.right = None\n",
    "\n",
    "# 先序递归\n",
    "# def preOrderRecur(root):\n",
    "#     ans = []\n",
    "#     if not root:\n",
    "#         return ans\n",
    "#     ans.append(root.val)\n",
    "#     ans.extend(preOrderRecur(root.left))\n",
    "#     ans.extend(preOrderRecur(root.right))\n",
    "#     return ans\n",
    "\n",
    "##先序遍历2\n",
    "def preOrderRecur(root):\n",
    "    stack, ans = [root],[]\n",
    "    while stack:\n",
    "        i = stack.pop()\n",
    "        if isinstance(i,TreeNode):\n",
    "            stack.extend([i.right,i.left,i.val])\n",
    "        if isinstance(i,int):\n",
    "            ans.append(i)\n",
    "    return ans\n",
    "    \n",
    " \n",
    "\n",
    "##中序递归\n",
    "def inOrderRecur(root):\n",
    "    ans = []\n",
    "    if not root:\n",
    "        return ans\n",
    "    ans.extend(inOrderRecur(root.left))\n",
    "    ans.append(root.val)\n",
    "    ans.extend(inOrderRecur(root.right))\n",
    "    return ans\n",
    " \n",
    " \n",
    "# 后序递归\n",
    "def posOrderRecur(root):\n",
    "    ans = []\n",
    "    if not root:\n",
    "        return ans\n",
    "    ans.extend(posOrderRecur(root.left))\n",
    "    ans.extend(posOrderRecur(root.right))\n",
    "    ans.append(root.val)\n",
    "    return ans\n",
    "\n",
    "# n, r = [int(x) for x in input().split()]\n",
    "n, r = map(int,input().split())\n",
    "root = TreeNode(r)\n",
    "nodes = {r:root}\n",
    "\n",
    "for _ in range(n):\n",
    "#     fa,lch,rch = [int(x) for x in input().split()]\n",
    "    fa,lch,rch = list(map(int,input().split()))\n",
    "    if lch != 0:\n",
    "        nodes[lch] = TreeNode(lch)\n",
    "        nodes[fa].left = nodes[lch]\n",
    "    if rch != 0:\n",
    "        nodes[rch] = TreeNode(rch)\n",
    "        nodes[fa].right = nodes[rch]\n",
    "\n",
    "pre_order = preOrderRecur(root)\n",
    "# print(' '.join(str(x) for x in pre_order))\n",
    "print(\" \".join(list(map(str,pre_order))))\n",
    "##*号起到的作用就是一个单纯的解包，里面的元素之前是什么类型，现在就还是什么类型\n",
    "# print(*pre_order)\n",
    "in_order = inOrderRecur(root)\n",
    "##就是一个简单的生成器，用生成器把列表里面的整数类型，转换成字符串类型来让join 函数操作\n",
    "print(' '.join(str(x) for x in in_order))\n",
    "pos_order = posOrderRecur(root)\n",
    "print(' '.join(str(x) for x in pos_order))\n"
   ]
  },
  {
   "cell_type": "code",
   "execution_count": null,
   "metadata": {},
   "outputs": [],
   "source": [
    "##141.环形链表 自己输入一个链表\n",
    "\n",
    "class ListNode:\n",
    "    def __init__(self,x):\n",
    "        self.val = x\n",
    "        self.next = None\n",
    "nums,pos = list(input().split(\",\"))\n",
    "head = list(map(int,nums.split()))\n",
    "root = ListNode(head[0])\n",
    "nodes = {head[0]:root}\n",
    "for i in range(1,len(head)):\n",
    "    nodes[head[i]] = ListNode(head[i])\n",
    "#     print(type(ListNode(head[i])))\n",
    "    nodes[head[i-1]].next = nodes[head[i]]\n",
    "##建立环形链表，未成功 如果案例是3 2 0-4 1，的话 下面这行代码建立的链表应该是3 2 0 -4 ——>2-none而不是环形\n",
    "# nodes[head[len(head)-1]].next = ListNode(list(nodes)[int(pos)])\n",
    "nodes[head[len(head)-1]].next = nodes[list(nodes)[int(pos)]]\n",
    "#建立普通链表\n",
    "# nodes[head[len(head)-1]].next = None\n",
    "\n",
    "print(nodes)\n",
    "\n",
    "def hasCycle(head):\n",
    "    if not head or not head.next:\n",
    "        print(False)\n",
    "        return \n",
    "    slow,fast = head,head.next\n",
    "    while slow != fast:\n",
    "        if not fast or not fast.next:\n",
    "            print(False)\n",
    "            return\n",
    "        slow = slow.next\n",
    "        fast =fast.next.next\n",
    "    print(True)\n",
    "if int(pos)==-1:\n",
    "    print(False)\n",
    "else:\n",
    "    hasCycle(root)"
   ]
  },
  {
   "cell_type": "code",
   "execution_count": null,
   "metadata": {},
   "outputs": [],
   "source": [
    "n,target = map(int,input().split())\n",
    "nums  = list(map(int,input().split()))\n",
    "class ListNode:\n",
    "    def __init__(self,x):\n",
    "        self.val = x\n",
    "        self.next = None\n",
    "head = cur = ListNode(0)\n",
    "for i in nums:\n",
    "    cur.next = ListNode(i)\n",
    "    cur = cur.next \n",
    "cur.next = None\n",
    "head = head.next \n",
    "node = head\n",
    "while target -2 > 0:\n",
    "    node = node.next\n",
    "    ##妈的，我说怎么一直运行不成功，原来是while循环没弄终止条件\n",
    "    target -= 1\n",
    "    \n",
    "node.next= node.next.next\n",
    "print(head,type(head))\n",
    "# while head is not None:\n",
    "#     print(head.val,end = \" \")\n",
    "#     head = head.next"
   ]
  },
  {
   "cell_type": "code",
   "execution_count": 37,
   "metadata": {},
   "outputs": [
    {
     "name": "stdout",
     "output_type": "stream",
     "text": [
      "0-1-2-3-4-"
     ]
    }
   ],
   "source": [
    "for i in range(5):\n",
    "    print(i,end = '-')"
   ]
  },
  {
   "cell_type": "code",
   "execution_count": 38,
   "metadata": {},
   "outputs": [
    {
     "name": "stdout",
     "output_type": "stream",
     "text": [
      "['A', 'B', 'C'] ['A', 'B', 'C'] [3, 2, 1]\n",
      "A 3\n"
     ]
    }
   ],
   "source": [
    "Data = {\"A\":3,\"B\":2,\"C\":1}\n",
    "print(list(Data),list(Data.keys()),list(Data.values()))\n",
    "max_Key = list(Data.keys())[list(Data.values()).index(max(list(Data.values())))]\n",
    "print(max_Key,Data[max_Key])"
   ]
  },
  {
   "cell_type": "code",
   "execution_count": 159,
   "metadata": {},
   "outputs": [
    {
     "ename": "IndexError",
     "evalue": "list index out of range",
     "output_type": "error",
     "traceback": [
      "\u001b[1;31m---------------------------------------------------------------------------\u001b[0m",
      "\u001b[1;31mIndexError\u001b[0m                                Traceback (most recent call last)",
      "\u001b[1;32m<ipython-input-159-bf1ae39261d8>\u001b[0m in \u001b[0;36m<module>\u001b[1;34m\u001b[0m\n\u001b[0;32m      1\u001b[0m \u001b[0ma\u001b[0m\u001b[1;33m=\u001b[0m \u001b[1;33m[\u001b[0m\u001b[1;36m1\u001b[0m\u001b[1;33m,\u001b[0m\u001b[1;36m3\u001b[0m\u001b[1;33m]\u001b[0m\u001b[1;33m\u001b[0m\u001b[1;33m\u001b[0m\u001b[0m\n\u001b[1;32m----> 2\u001b[1;33m \u001b[0mprint\u001b[0m\u001b[1;33m(\u001b[0m\u001b[0ma\u001b[0m\u001b[1;33m[\u001b[0m\u001b[1;33m-\u001b[0m\u001b[1;36m3\u001b[0m\u001b[1;33m]\u001b[0m\u001b[1;33m)\u001b[0m\u001b[1;33m\u001b[0m\u001b[1;33m\u001b[0m\u001b[0m\n\u001b[0m",
      "\u001b[1;31mIndexError\u001b[0m: list index out of range"
     ]
    }
   ],
   "source": [
    "a= [1,3]\n",
    "print(a[-3])"
   ]
  },
  {
   "cell_type": "code",
   "execution_count": null,
   "metadata": {},
   "outputs": [],
   "source": [
    "num = int(input())\n",
    "def faileNumber(num):\n",
    "    def getNext(num):\n",
    "        res = 0\n",
    "        while num >0:\n",
    "            num,yu = divmod(num,10)\n",
    "            res += yu**2\n",
    "        return res\n",
    "    ##\n",
    "#     temp = []\n",
    "#     while num not in temp:\n",
    "#         temp.append(num)\n",
    "#         num = getNext(num)\n",
    "#     print(num==1)\n",
    "#     return \n",
    "    slow,fast = num,getNext(num)\n",
    "    while slow!=1 and fast!=1 and slow!=fast:\n",
    "        slow = getNext(slow)\n",
    "        fast = getNext(getNext(fast))\n",
    "    print(slow==1 or fast==1)\n",
    "faileNumber(num)\n",
    "\n",
    "    "
   ]
  },
  {
   "cell_type": "code",
   "execution_count": 162,
   "metadata": {},
   "outputs": [
    {
     "name": "stdout",
     "output_type": "stream",
     "text": [
      "6\n"
     ]
    }
   ],
   "source": [
    "a = \"12c\"\n",
    "if not a[1].isdigit():\n",
    "    print(5)\n",
    "else:print(6)"
   ]
  },
  {
   "cell_type": "code",
   "execution_count": 40,
   "metadata": {},
   "outputs": [],
   "source": [
    "a = \"B\"\n",
    "if 'a' <= a <=\"z\":\n",
    "    print(a)\n",
    "    "
   ]
  },
  {
   "cell_type": "code",
   "execution_count": 41,
   "metadata": {},
   "outputs": [
    {
     "name": "stdout",
     "output_type": "stream",
     "text": [
      "1\n",
      "1\n",
      "1\n",
      "1\n",
      "1\n",
      "1\n",
      "1\n"
     ]
    }
   ],
   "source": [
    "a = 7\n",
    "while a:\n",
    "    print(1)\n",
    "    a-=1"
   ]
  },
  {
   "cell_type": "code",
   "execution_count": null,
   "metadata": {},
   "outputs": [],
   "source": [
    "nums = list(map(int,input().split()))\n",
    "def sonSum(nums):\n",
    "    if not nums:\n",
    "        print(0)\n",
    "        return \n",
    "    for i in range(1,len(nums)):\n",
    "        nums[i] += max(nums[i-1],0)\n",
    "    print(max(nums))\n",
    "sonSum(nums)"
   ]
  },
  {
   "cell_type": "code",
   "execution_count": null,
   "metadata": {},
   "outputs": [],
   "source": [
    "m,n = map(int,input().split())\n",
    "def road(m,n):\n",
    "    cur = [1]*n\n",
    "    for i in range(1,m):\n",
    "        for j in range(1,n):\n",
    "            cur[j] = cur[j-1] + cur[j]\n",
    "    print(cur[-1],cur[n-1])\n",
    "road(m,n)"
   ]
  },
  {
   "cell_type": "code",
   "execution_count": 42,
   "metadata": {},
   "outputs": [
    {
     "name": "stdout",
     "output_type": "stream",
     "text": [
      "[[1, 1, 1, 1, 1, 1, 1], [1, 0, 100, 0, 0, 0, 0], [1, 0, 100, 0, 0, 0, 0], [1, 0, 100, 0, 0, 0, 0], [1, 0, 100, 0, 0, 0, 0], [1, 0, 100, 0, 0, 0, 0]]\n",
      "[[1, 1, 1, 1, 1, 1, 1], [1, 0, 0, 0, 0, 0, 0], [1, 0, 100, 0, 0, 0, 0], [1, 0, 0, 0, 0, 0, 0], [1, 0, 0, 0, 0, 0, 0], [1, 0, 0, 0, 0, 0, 0]]\n"
     ]
    }
   ],
   "source": [
    "dp = [[1]*7 ]+ [[1] + [0 for _ in range(7-1)]]*5\n",
    "dp1 = [[1]*7 ]+ [[1] + [0 for _ in range(7-1)] for _ in range(5)]\n",
    "dp[2][2] = 100\n",
    "dp1[2][2] =100\n",
    "print(dp)\n",
    "print(dp1)"
   ]
  },
  {
   "cell_type": "code",
   "execution_count": null,
   "metadata": {},
   "outputs": [],
   "source": [
    "for i in range(3):\n",
    "    dp.append(list(map(int,input().split())))\n",
    "print(dp)"
   ]
  },
  {
   "cell_type": "code",
   "execution_count": null,
   "metadata": {},
   "outputs": [],
   "source": [
    "##组数之和\n",
    "nums,target = list(input().split(\",\"))\n",
    "nums = list(map(int,nums.split()))\n",
    "target = int(target)\n",
    "def arraySum(nums,target):\n",
    "    n,path,res = len(nums),[],[]\n",
    "    def dfs(nums,depth,path,res,target):\n",
    "        if target <0:\n",
    "            return\n",
    "        elif target ==0:\n",
    "            res.append(path)\n",
    "        else:\n",
    "            for i in range(depth,n):\n",
    "                dfs(nums,i,path + [nums[i]],res,target-nums[i])\n",
    "#             print(res)\n",
    "#         print(res,key=len)\n",
    "        return\n",
    "    dfs(nums,0,path,res,target)\n",
    "    print(res)\n",
    "    print(min(res,key = len))\n",
    "arraySum(nums,target)\n",
    "    "
   ]
  },
  {
   "cell_type": "code",
   "execution_count": 45,
   "metadata": {},
   "outputs": [
    {
     "name": "stdout",
     "output_type": "stream",
     "text": [
      "ello wod\n"
     ]
    }
   ],
   "source": [
    "str1 =\"                                    hello wodldh   \"\n",
    "print(str1.strip(\" dh\")[0:-1])\n"
   ]
  },
  {
   "cell_type": "code",
   "execution_count": 179,
   "metadata": {},
   "outputs": [
    {
     "ename": "TypeError",
     "evalue": "'str' object does not support item assignment",
     "output_type": "error",
     "traceback": [
      "\u001b[1;31m---------------------------------------------------------------------------\u001b[0m",
      "\u001b[1;31mTypeError\u001b[0m                                 Traceback (most recent call last)",
      "\u001b[1;32m<ipython-input-179-d7d7a9c8f11a>\u001b[0m in \u001b[0;36m<module>\u001b[1;34m\u001b[0m\n\u001b[0;32m      1\u001b[0m \u001b[0ma\u001b[0m \u001b[1;33m=\u001b[0m \u001b[1;34m\"(u(love)i)\"\u001b[0m\u001b[1;33m\u001b[0m\u001b[1;33m\u001b[0m\u001b[0m\n\u001b[1;32m----> 2\u001b[1;33m \u001b[0ma\u001b[0m\u001b[1;33m[\u001b[0m\u001b[1;36m2\u001b[0m\u001b[1;33m]\u001b[0m \u001b[1;33m=\u001b[0m \u001b[1;34m\" \"\u001b[0m\u001b[1;33m\u001b[0m\u001b[1;33m\u001b[0m\u001b[0m\n\u001b[0m\u001b[0;32m      3\u001b[0m \u001b[0mprint\u001b[0m\u001b[1;33m(\u001b[0m\u001b[0ma\u001b[0m\u001b[1;33m)\u001b[0m\u001b[1;33m\u001b[0m\u001b[1;33m\u001b[0m\u001b[0m\n",
      "\u001b[1;31mTypeError\u001b[0m: 'str' object does not support item assignment"
     ]
    }
   ],
   "source": [
    "a = \"(u(love)i)\"\n",
    "a[2] = \" \"\n",
    "print(a)"
   ]
  },
  {
   "cell_type": "code",
   "execution_count": 1,
   "metadata": {
    "tags": []
   },
   "outputs": [
    {
     "name": "stdout",
     "output_type": "stream",
     "text": [
      "3\n"
     ]
    }
   ],
   "source": [
    "str1 = input()\n",
    "def number(str1):\n",
    "    i = res = 0\n",
    "    while \"ab\" in str1:\n",
    "        if str1[i:i+2] ==\"ab\":\n",
    "            str1 = str1[:i] + \"bba\" + str1[i+2:]\n",
    "            res += 1\n",
    "            res %=1000000007\n",
    "            i -= 1\n",
    "        else:\n",
    "            i += 1\n",
    "    return res\n",
    "out = number(str1)               \n",
    "print(out)"
   ]
  },
  {
   "cell_type": "code",
   "execution_count": null,
   "metadata": {},
   "outputs": [],
   "source": [
    "a = 3\n",
    "for i in range(a):\n",
    "    if a<3:\n",
    "        print(1)\n",
    "    else:\n",
    "        print(5)\n",
    "    a = 100"
   ]
  },
  {
   "cell_type": "code",
   "execution_count": null,
   "metadata": {},
   "outputs": [],
   "source": [
    "##Z字形变换\n",
    "s,n = input().split(\",\")\n",
    "n = int(n)\n",
    "def chartransform(s,n):\n",
    "    temp = [\"\"]*n\n",
    "    i,flag = 0,-1\n",
    "    for c in s:\n",
    "        temp[i] += c\n",
    "        if i == 0 or i == n-1:\n",
    "            flag = -flag\n",
    "        i += flag\n",
    "    print(\"\".join(temp))\n",
    "    return\n",
    "chartransform(s,n)"
   ]
  },
  {
   "cell_type": "code",
   "execution_count": null,
   "metadata": {},
   "outputs": [],
   "source": [
    "#最长公共前缀\n",
    "strs = input().split(\",\")\n",
    "print(strs)\n",
    "def commenLength(strs):\n",
    "    res = \"\"\n",
    "    str_min = min(strs)\n",
    "    str_max = max(strs)\n",
    "    for i,char in enumerate(str_min):\n",
    "#         if char== str_max[i]:\n",
    "#             res+=char\n",
    "#         else:\n",
    "#             break\n",
    "        if char != str_max[i]:\n",
    "            print(str_min[:i])\n",
    "            break\n",
    "#         else:\n",
    "            \n",
    "    print(res)\n",
    "commenLength(strs)"
   ]
  },
  {
   "cell_type": "code",
   "execution_count": null,
   "metadata": {},
   "outputs": [],
   "source": [
    "####使用zip方法\n",
    "strs = input().split(\",\")\n",
    "def comonLength(strs):\n",
    "    res = \" \"\n",
    "    for i in zip(*strs):\n",
    "        if len(set(i)) == 1:\n",
    "            res += i[0]\n",
    "        else:\n",
    "            break\n",
    "#     print(res)\n",
    "    return res\n",
    "print(comonLength(strs))"
   ]
  },
  {
   "cell_type": "code",
   "execution_count": null,
   "metadata": {},
   "outputs": [],
   "source": [
    "## 划分字母区\n",
    "s = input()\n",
    "def divide(s):\n",
    "    hashmap = {item:index for index,item in enumerate(s)}\n",
    "    res = []\n",
    "    end =start = 0\n",
    "    for i in range(len(s)):\n",
    "        end = max(end,hashmap[s[i]])    \n",
    "        if i == end:\n",
    "            res.append(end - start +1)\n",
    "            start = end+1\n",
    "    return res\n",
    "print(divide(s))"
   ]
  },
  {
   "cell_type": "code",
   "execution_count": null,
   "metadata": {},
   "outputs": [],
   "source": [
    "nums = list(map(int,input().split()))\n",
    "def heapSort(nums):\n",
    "    ##交换数组中的数字\n",
    "    def swap(nums,a,b):\n",
    "        nums[a],nums[b] = nums[b],nums[a]\n",
    "        return\n",
    "    ###堆化过程\n",
    "    def heap(nums,k,i):\n",
    "        while True:\n",
    "            max_index = i\n",
    "            if i*2 + 1 < k and nums[i*2+1] > nums[max_index]:\n",
    "                max_index = i*2 + 1\n",
    "            if i*2 + 2 < k and nums[i*2+2] > nums[max_index]:\n",
    "                max_index = i*2 + 2\n",
    "            elif max_index == i:\n",
    "                break\n",
    "            swap(nums,max_index,i)\n",
    "            i = max_index\n",
    "    ##建堆\n",
    "    for i in range(len(nums)//2,-1,-1):\n",
    "        heap(nums,len(nums),i)\n",
    "    ##排序过程\n",
    "    for i in range(len(nums)-1,0,-1):\n",
    "        swap(nums,i,0)\n",
    "        heap(nums,i,0)\n",
    "    return nums\n",
    "heapSort(nums)"
   ]
  },
  {
   "cell_type": "code",
   "execution_count": null,
   "metadata": {},
   "outputs": [],
   "source": [
    "## 32.最长有效括号\n",
    "s= input()\n",
    "def longestBracket(s):\n",
    "    ##当空值是，不许判断，直接返回为0 \n",
    "    if not s:\n",
    "        return 0\n",
    "    #设置初始参考值\n",
    "    stack = [-1]\n",
    "    max_len = 0\n",
    "    ## 遍历一次\n",
    "    for i in range(len(s)):\n",
    "        if s[i] == \"(\":\n",
    "            ##因为只需要计算最长有效括号的长度，所以只需要记录下标就行\n",
    "            stack.append(i)\n",
    "        else:\n",
    "            #当为“）”时，出栈，计算长度\n",
    "            stack.pop()\n",
    "            if not stack:\n",
    "                stack.append(i)\n",
    "            else:\n",
    "                #把现在的长度和之前的长度对比取最大值\n",
    "                max_len = max(max_len,i-stack[-1])\n",
    "    return max_len\n",
    "longestBracket(s)\n",
    "                \n"
   ]
  },
  {
   "cell_type": "code",
   "execution_count": 185,
   "metadata": {},
   "outputs": [
    {
     "name": "stdout",
     "output_type": "stream",
     "text": [
      "6\n",
      "0\n"
     ]
    }
   ],
   "source": [
    "a = \"\"\n",
    "if not a:\n",
    "    print(6)\n",
    "print(len(a))"
   ]
  },
  {
   "cell_type": "code",
   "execution_count": null,
   "metadata": {},
   "outputs": [],
   "source": [
    "### 矩阵置零\n",
    "m,n = map(int,input().split())\n",
    "matrix = []\n",
    "for _ in range(m):\n",
    "    matrix.append(list(map(int,input().split())))\n",
    "\n",
    "def matrixSet0(matrix):\n",
    "    ##放置为0 的行数和列数\n",
    "    set_i,set_j = set(),set()\n",
    "    ##第一吃遍历找出哪些行和列为0\n",
    "    for i in range(m):\n",
    "        for j in range(n):\n",
    "            if matrix[i][j]==0:\n",
    "                set_i.add(i)\n",
    "                set_j.add(j)\n",
    "    ###第二次遍历 赋值改变\n",
    "    for i in range(m):\n",
    "        for j in  range(n):\n",
    "            if i in set_i or j in set_j:\n",
    "                matrix[i][j] =0\n",
    "    return matrix\n",
    "matrixSet0(matrix)\n",
    "\n",
    "    "
   ]
  },
  {
   "cell_type": "code",
   "execution_count": 188,
   "metadata": {},
   "outputs": [
    {
     "name": "stdout",
     "output_type": "stream",
     "text": [
      "3 <class 'str'> 5\n",
      "5\n"
     ]
    }
   ],
   "source": [
    "a = ['1,3']\n",
    "b =['1,3', '2,5']\n",
    "print(a[0][-1],type(a[0][-1]),b[-1][-1])\n",
    "if a[0][-1] < b[-1][-1]:\n",
    "    print(5)"
   ]
  },
  {
   "cell_type": "code",
   "execution_count": 6,
   "metadata": {},
   "outputs": [
    {
     "name": "stdout",
     "output_type": "stream",
     "text": [
      " 1,3 2,5 8,10 11,15\n"
     ]
    },
    {
     "name": "stdout",
     "output_type": "stream",
     "text": [
      "[<map object at 0x000001AE55BF9A08>, <map object at 0x000001AE55BF9A48>, <map object at 0x000001AE55BF9D48>, <map object at 0x000001AE55BF9E08>]\n"
     ]
    }
   ],
   "source": [
    "##把1,3 2,5 8,10 11,15 变成[[1, 3], [2, 5], [8, 10], [11, 15]]\n",
    "line = input()\n",
    "intervals = [map(int, item.split(\",\")) for item in line.split()]\n",
    "print(intervals)\n",
    "result = []"
   ]
  },
  {
   "cell_type": "code",
   "execution_count": 199,
   "metadata": {},
   "outputs": [
    {
     "name": "stdout",
     "output_type": "stream",
     "text": [
      "1, 3 2, 5 8, 10 11, 15\n"
     ]
    }
   ],
   "source": [
    "a = [[1, 3], [2, 5], [8, 10], [11, 15]]\n",
    "\n",
    "res = []\n",
    "for i in a:\n",
    "    res.append(str(i)[1:-1])\n",
    "print(*res)"
   ]
  },
  {
   "cell_type": "code",
   "execution_count": null,
   "metadata": {},
   "outputs": [],
   "source": [
    "##堆排序\n",
    "nums = list(map(int,input().split()))\n",
    "def heapSort(nums):\n",
    "    #堆化过程\n",
    "    def heap(nums,k,i):\n",
    "        while True:\n",
    "            max_index = i\n",
    "            if i*2 + 1 < k and nums[i*2 +1] > nums[max_index]:\n",
    "                max_index = i*2 +1\n",
    "            if i*2 +2 < k and nums[i*2 +2 ] > nums[max_index]:\n",
    "                max_index = i*2 + 2\n",
    "            elif i == max_index:\n",
    "                break\n",
    "            nums[max_index],nums[i] = nums[i],nums[max_index]\n",
    "            i = max_index\n",
    "            ##建堆\n",
    "    for i in range(len(nums)//2,-1,-1):\n",
    "        heap(nums,len(nums),i)\n",
    "        ##排序\n",
    "    for i in range(len(nums)-1,0,-1):\n",
    "        nums[i],nums[0] = nums[0],nums[i]\n",
    "        heap(nums,i,0)\n",
    "    return nums\n",
    "heapSort(nums)"
   ]
  },
  {
   "cell_type": "code",
   "execution_count": 7,
   "metadata": {},
   "outputs": [
    {
     "name": "stdout",
     "output_type": "stream",
     "text": [
      "6 4 3 2 1\n",
      "[6, 4, 3, 2, 1] [6, 4, 3, 2, 1]\n"
     ]
    }
   ],
   "source": [
    "a = [1,2,3,4,6]\n",
    "c = reversed(a)\n",
    "print(\" \".join(map(str,c)))\n",
    "b= sorted(a,reverse = True)\n",
    "a.sort(reverse = True)\n",
    "print(b,a)"
   ]
  },
  {
   "cell_type": "code",
   "execution_count": null,
   "metadata": {},
   "outputs": [],
   "source": [
    "##不同路径\n",
    "m,n = map(int,input().split())\n",
    "cur = [1]*n\n",
    "for i in range(1,m):\n",
    "    for j in range(1,n):\n",
    "        cur[j] = cur[j-1] + cur[j]\n",
    "print(cur[-1])"
   ]
  },
  {
   "cell_type": "code",
   "execution_count": null,
   "metadata": {},
   "outputs": [],
   "source": [
    "### 矩阵最小路径和\n",
    "m,n = map(int,input().split())\n",
    "matrix = []\n",
    "for i in range(m):\n",
    "    matrix.append(list(map(int,input().split(\" \"))))\n",
    "# minRoadSum = 0\n",
    "for i in range(m):\n",
    "    for j in range(n):\n",
    "        if i == j == 0:\n",
    "            continue\n",
    "        elif i == 0:\n",
    "            matrix[i][j] += matrix[i][j-1]\n",
    "        elif j == 0:\n",
    "            matrix[i][j] += matrix[i-1][j]\n",
    "        else:\n",
    "            matrix[i][j] += min(matrix[i][j-1],matrix[i-1][j])\n",
    "print(matrix[-1][-1])"
   ]
  },
  {
   "cell_type": "code",
   "execution_count": null,
   "metadata": {},
   "outputs": [],
   "source": [
    "## 杨辉三角\n",
    "n = int(input())\n",
    "matrix =[]\n",
    "for i in range(n):\n",
    "    temp = []\n",
    "    for j in range(i+1):\n",
    "        if j==0 or i==j:\n",
    "            temp.append(1)\n",
    "        else:\n",
    "            temp.append(matrix[i-1][j]+matrix[i-1][j-1])\n",
    "    matrix.append(temp)\n",
    "print(matrix)"
   ]
  },
  {
   "cell_type": "code",
   "execution_count": null,
   "metadata": {},
   "outputs": [],
   "source": [
    "##300 最长递增\n",
    "nums = list(map(int,input().split()))\n",
    "dp = [1]*len(nums)\n",
    "if len(nums)<1:print(0)\n",
    "for i in range(1,len(nums)):\n",
    "    for j in range(i):\n",
    "        if nums[i] > nums[j]:\n",
    "            dp[i] = max(dp[j]+1,dp[i])\n",
    "print(max(dp))"
   ]
  },
  {
   "cell_type": "code",
   "execution_count": null,
   "metadata": {},
   "outputs": [],
   "source": [
    "import bisect\n",
    "nums = list(map(int,input().split()))\n",
    "dp = [1]*len(nums)\n",
    "value = [nums[0]]\n",
    "if len(nums)<1:print(0)\n",
    "for i in range(1,len(nums)):\n",
    "    if nums[i] > value[-1]:\n",
    "        value.append(nums[i])\n",
    "        dp[i] = len(value)\n",
    "    else:\n",
    "        index = bisect.bisect(value,nums[i])\n",
    "        dp[i] = index +1\n",
    "\n",
    "        value[index] = nums[i]\n",
    "print(max(dp))"
   ]
  },
  {
   "cell_type": "code",
   "execution_count": 3,
   "metadata": {},
   "outputs": [
    {
     "name": "stdout",
     "output_type": "stream",
     "text": [
      "5\n"
     ]
    }
   ],
   "source": [
    "l1,l2 = [],[]\n",
    "if not(l1 or  l2):\n",
    "    print(5)"
   ]
  },
  {
   "cell_type": "code",
   "execution_count": 9,
   "metadata": {},
   "outputs": [
    {
     "name": "stdout",
     "output_type": "stream",
     "text": [
      "('i', 12, [1, 100])\n"
     ]
    },
    {
     "ename": "TypeError",
     "evalue": "'tuple' object does not support item assignment",
     "output_type": "error",
     "traceback": [
      "\u001b[1;31m---------------------------------------------------------------------------\u001b[0m",
      "\u001b[1;31mTypeError\u001b[0m                                 Traceback (most recent call last)",
      "\u001b[1;32m<ipython-input-9-345d7d279b4b>\u001b[0m in \u001b[0;36m<module>\u001b[1;34m\u001b[0m\n\u001b[0;32m      2\u001b[0m \u001b[0mb\u001b[0m\u001b[1;33m[\u001b[0m\u001b[1;36m2\u001b[0m\u001b[1;33m]\u001b[0m\u001b[1;33m[\u001b[0m\u001b[1;36m1\u001b[0m\u001b[1;33m]\u001b[0m \u001b[1;33m=\u001b[0m \u001b[1;36m100\u001b[0m\u001b[1;33m\u001b[0m\u001b[1;33m\u001b[0m\u001b[0m\n\u001b[0;32m      3\u001b[0m \u001b[0mprint\u001b[0m\u001b[1;33m(\u001b[0m\u001b[0mb\u001b[0m\u001b[1;33m)\u001b[0m\u001b[1;33m\u001b[0m\u001b[1;33m\u001b[0m\u001b[0m\n\u001b[1;32m----> 4\u001b[1;33m \u001b[0mb\u001b[0m\u001b[1;33m[\u001b[0m\u001b[1;36m1\u001b[0m\u001b[1;33m]\u001b[0m  \u001b[1;33m=\u001b[0m \u001b[1;36m3\u001b[0m\u001b[1;33m\u001b[0m\u001b[1;33m\u001b[0m\u001b[0m\n\u001b[0m\u001b[0;32m      5\u001b[0m \u001b[0mprint\u001b[0m\u001b[1;33m(\u001b[0m\u001b[0mb\u001b[0m\u001b[1;33m[\u001b[0m\u001b[1;36m1\u001b[0m\u001b[1;33m]\u001b[0m\u001b[1;33m)\u001b[0m\u001b[1;33m\u001b[0m\u001b[1;33m\u001b[0m\u001b[0m\n",
      "\u001b[1;31mTypeError\u001b[0m: 'tuple' object does not support item assignment"
     ]
    }
   ],
   "source": [
    "b = ('i', 12,[1,2])\n",
    "b[2][1] = 100\n",
    "print(b)\n",
    "b[1]  = 3\n",
    "print(b[1])"
   ]
  },
  {
   "cell_type": "code",
   "execution_count": 19,
   "metadata": {},
   "outputs": [
    {
     "name": "stdout",
     "output_type": "stream",
     "text": [
      "<class 'str'> 1 1 <class 'int'>\n"
     ]
    }
   ],
   "source": [
    "a = \"1\"\n",
    "print(type(a),a,eval(a),type(eval(a)))"
   ]
  },
  {
   "cell_type": "code",
   "execution_count": 22,
   "metadata": {},
   "outputs": [
    {
     "name": "stdout",
     "output_type": "stream",
     "text": [
      "{1, 2, 3, 5, '5', 153, 315}\n",
      "[1, 2, 3, 5, '5', 153, 315]\n"
     ]
    }
   ],
   "source": [
    "a = [5,3,1,1,\"5\",3,2,153,315]\n",
    "print(set(a))\n",
    "print(list(set(a)))"
   ]
  },
  {
   "cell_type": "code",
   "execution_count": 23,
   "metadata": {},
   "outputs": [
    {
     "name": "stdout",
     "output_type": "stream",
     "text": [
      "[0, 2, 4, 6, 8, 10]\n"
     ]
    }
   ],
   "source": [
    "def num_list(num):\n",
    "    return [i for i in num if i %2 ==0 and num.index(i)%2==0]\n",
    "num = [0,1,2,3,4,5,6,7,8,9,10]\n",
    "result = num_list(num)\n",
    "print(result)"
   ]
  },
  {
   "cell_type": "code",
   "execution_count": 12,
   "metadata": {},
   "outputs": [
    {
     "data": {
      "text/plain": [
       "(0, 2, 4, 6, 8)"
      ]
     },
     "execution_count": 12,
     "metadata": {},
     "output_type": "execute_result"
    }
   ],
   "source": [
    "tuple(filter(lambda x: x % 2 == 0, range(10)))"
   ]
  },
  {
   "cell_type": "code",
   "execution_count": null,
   "metadata": {},
   "outputs": [],
   "source": [
    "from time import time, sleep\n",
    "\n",
    "def fun_one():\n",
    "    start = time()\n",
    "    sleep(1)\n",
    "    end = time()\n",
    "    cost_time = end - start\n",
    "    print(\"func one run time {}\".format(cost_time))\n",
    "    \n",
    "def fun_two():\n",
    "    start = time()\n",
    "    sleep(1)\n",
    "    end = time()\n",
    "    cost_time = end - start\n",
    "    print(\"func two run time {}\".format(cost_time))\n",
    "    \n",
    "def fun_three():\n",
    "    start = time()\n",
    "    sleep(1)\n",
    "    end = time()\n",
    "    cost_time = end - start\n",
    "    print(\"func three run time {}\".format(cost_time))\n",
    "fun_one()\n",
    "fun_two()\n",
    "fun_three()"
   ]
  },
  {
   "cell_type": "code",
   "execution_count": 30,
   "metadata": {},
   "outputs": [
    {
     "name": "stdout",
     "output_type": "stream",
     "text": [
      "[1, 2, 4, 5, 5, 1, 3, 3, 6]\n"
     ]
    }
   ],
   "source": [
    "from functools import reduce\n",
    "# import functools.reduce\n",
    "reduce(lambda x,y:x*y,range(1,5))\n",
    "print(a)"
   ]
  },
  {
   "cell_type": "code",
   "execution_count": 16,
   "metadata": {},
   "outputs": [
    {
     "name": "stdout",
     "output_type": "stream",
     "text": [
      "[[1, 2, 3], [4, 5, 6], [7, 8, 9], [10, 11, 12], [13, 14, 15], [16, 17, 18], [19, 20, 21], [22, 23, 24], [25, 26, 27], [28, 29, 30], [31, 32, 33], [34, 35, 36], [37, 38, 39], [40, 41, 42], [43, 44, 45], [46, 47, 48], [49, 50, 51], [52, 53, 54], [55, 56, 57], [58, 59, 60], [61, 62, 63], [64, 65, 66], [67, 68, 69], [70, 71, 72], [73, 74, 75], [76, 77, 78], [79, 80, 81], [82, 83, 84], [85, 86, 87], [88, 89, 90], [91, 92, 93], [94, 95, 96], [97, 98, 99], []]\n"
     ]
    }
   ],
   "source": [
    "N =100\n",
    "print ([[x for x in range(1,100)] [i:i+3] for i in range(0,100,3)])"
   ]
  },
  {
   "cell_type": "code",
   "execution_count": 20,
   "metadata": {},
   "outputs": [
    {
     "name": "stdout",
     "output_type": "stream",
     "text": [
      "[[1, 2], [2, 3], [1, 3], [3, 4]]\n"
     ]
    }
   ],
   "source": [
    "a = [ [1,2], [2,3], [3,4], [1,3] ]\n",
    "a.sort(key = lambda x:x[1])\n",
    "print(a)"
   ]
  },
  {
   "cell_type": "code",
   "execution_count": 55,
   "metadata": {},
   "outputs": [
    {
     "name": "stdout",
     "output_type": "stream",
     "text": [
      "[[1], [1], [1], [1], [1]]\n"
     ]
    }
   ],
   "source": [
    "a = [[1]]*5\n",
    "print(a)"
   ]
  },
  {
   "cell_type": "code",
   "execution_count": 23,
   "metadata": {},
   "outputs": [
    {
     "name": "stdout",
     "output_type": "stream",
     "text": [
      "[[0, 0, 0, 0, 0], [0, 0, 0, 0, 0], [0, 0, 0, 0, 0], [0, 0, 0, 0, 0]]\n",
      "[[0, 0, 0, 0, 0], [0, 0, 1, 0, 0], [0, 0, 0, 0, 0], [0, 0, 0, 0, 0]]\n"
     ]
    }
   ],
   "source": [
    "nums = [[0]*5 for i in range(4)]\n",
    "print(nums)\n",
    "nums[1][2] = 1\n",
    "print(nums)"
   ]
  },
  {
   "cell_type": "code",
   "execution_count": 21,
   "metadata": {},
   "outputs": [
    {
     "name": "stdout",
     "output_type": "stream",
     "text": [
      "[[1, 1, 1, 1], [1, 0, 0, 0], [1, 0, 0, 0]]\n",
      "[[1, 2, 1, 1], [1, 0, 0, 0], [1, 0, 0, 0]]\n"
     ]
    }
   ],
   "source": [
    "nums = [[1]*4] + [[1] + [0]*3 for _ in range(2)]\n",
    "print(nums)\n",
    "nums[0][1] = 2\n",
    "print(nums)"
   ]
  },
  {
   "cell_type": "code",
   "execution_count": 16,
   "metadata": {},
   "outputs": [
    {
     "name": "stdout",
     "output_type": "stream",
     "text": [
      "[[0, 0, 0, 0], [0, 0, 0, 0], [0, 0, 0, 0], [0, 0, 0, 0], [0, 0, 0, 0]]\n",
      "[[0, 0, 0, 1], [0, 0, 0, 1], [0, 0, 0, 1], [0, 0, 0, 1], [0, 0, 0, 1]]\n"
     ]
    }
   ],
   "source": [
    "dp = [[0]*(3+1)]*(4+1)\n",
    "print(dp)\n",
    "dp[4][3] = 1\n",
    "print(dp)"
   ]
  },
  {
   "cell_type": "code",
   "execution_count": 12,
   "metadata": {},
   "outputs": [
    {
     "name": "stdout",
     "output_type": "stream",
     "text": [
      "1\n"
     ]
    }
   ],
   "source": [
    "import bisect\n",
    " \n",
    "a = [1]\n",
    "position = bisect.bisect(a,1)\n",
    "print(position)\n",
    " \n",
    "# 用可变序列内置的insert方法插入\n",
    "# a.insert(position,13)\n",
    "# print(a)"
   ]
  },
  {
   "cell_type": "code",
   "execution_count": 7,
   "metadata": {},
   "outputs": [
    {
     "name": "stdout",
     "output_type": "stream",
     "text": [
      "[1, 3, 56]\n"
     ]
    }
   ],
   "source": [
    "a  =[]\n",
    "b = [1,3,56]\n",
    "b.extend(a)\n",
    "print(b)\n"
   ]
  },
  {
   "cell_type": "code",
   "execution_count": 38,
   "metadata": {},
   "outputs": [
    {
     "data": {
      "text/plain": [
       "8"
      ]
     },
     "execution_count": 38,
     "metadata": {},
     "output_type": "execute_result"
    }
   ],
   "source": [
    "a,b =3,5\n",
    "def jia():\n",
    "    c = a+b\n",
    "    return c\n",
    "jia()"
   ]
  },
  {
   "cell_type": "code",
   "execution_count": 30,
   "metadata": {},
   "outputs": [
    {
     "name": "stdout",
     "output_type": "stream",
     "text": [
      " 1 3 5\n"
     ]
    },
    {
     "ename": "TypeError",
     "evalue": "'map' object is not subscriptable",
     "output_type": "error",
     "traceback": [
      "\u001b[1;31m---------------------------------------------------------------------------\u001b[0m",
      "\u001b[1;31mTypeError\u001b[0m                                 Traceback (most recent call last)",
      "\u001b[1;32m<ipython-input-30-13519256a13b>\u001b[0m in \u001b[0;36m<module>\u001b[1;34m\u001b[0m\n\u001b[0;32m      1\u001b[0m \u001b[0mtemp\u001b[0m \u001b[1;33m=\u001b[0m \u001b[0mmap\u001b[0m\u001b[1;33m(\u001b[0m\u001b[0mint\u001b[0m\u001b[1;33m,\u001b[0m\u001b[0minput\u001b[0m\u001b[1;33m(\u001b[0m\u001b[1;33m)\u001b[0m\u001b[1;33m.\u001b[0m\u001b[0msplit\u001b[0m\u001b[1;33m(\u001b[0m\u001b[1;33m)\u001b[0m\u001b[1;33m)\u001b[0m\u001b[1;33m\u001b[0m\u001b[1;33m\u001b[0m\u001b[0m\n\u001b[1;32m----> 2\u001b[1;33m \u001b[0mprint\u001b[0m\u001b[1;33m(\u001b[0m\u001b[0mtemp\u001b[0m\u001b[1;33m,\u001b[0m\u001b[0mtemp\u001b[0m\u001b[1;33m[\u001b[0m\u001b[1;36m1\u001b[0m\u001b[1;33m]\u001b[0m\u001b[1;33m)\u001b[0m\u001b[1;33m\u001b[0m\u001b[1;33m\u001b[0m\u001b[0m\n\u001b[0m",
      "\u001b[1;31mTypeError\u001b[0m: 'map' object is not subscriptable"
     ]
    }
   ],
   "source": [
    "temp = map(int,input().split())\n",
    "print(temp,temp[1])\n"
   ]
  },
  {
   "cell_type": "code",
   "execution_count": 57,
   "metadata": {},
   "outputs": [],
   "source": [
    "a = 0\n",
    "if a: \n",
    "    print(5)"
   ]
  },
  {
   "cell_type": "code",
   "execution_count": 48,
   "metadata": {
    "tags": []
   },
   "outputs": [],
   "source": [
    "def a():\n",
    "    return 5\n",
    "b = a()"
   ]
  },
  {
   "cell_type": "code",
   "execution_count": 56,
   "metadata": {},
   "outputs": [
    {
     "name": "stdout",
     "output_type": "stream",
     "text": [
      "true\n"
     ]
    }
   ],
   "source": [
    "print(\"false\"  and \"true\")"
   ]
  },
  {
   "cell_type": "code",
   "execution_count": 59,
   "metadata": {},
   "outputs": [
    {
     "name": "stdout",
     "output_type": "stream",
     "text": [
      "5 6\n"
     ]
    }
   ],
   "source": [
    "a = 6\n",
    "b = a \n",
    "a = 5\n",
    "print(a,b)"
   ]
  },
  {
   "cell_type": "code",
   "execution_count": 62,
   "metadata": {},
   "outputs": [
    {
     "name": "stdout",
     "output_type": "stream",
     "text": [
      "2534711661128 140713455952432\n"
     ]
    }
   ],
   "source": [
    "a = [1,2,4]\n",
    "b = a\n",
    "b = 6\n",
    "print(id(a),id(b))\n"
   ]
  },
  {
   "cell_type": "code",
   "execution_count": 67,
   "metadata": {},
   "outputs": [
    {
     "name": "stdout",
     "output_type": "stream",
     "text": [
      "2534711732872 2534711732872 [1, [1, 1, 1, 1], [0, 1, 1, 1]] [1, [1, 1, 1, 1], [0, 1, 1, 1]]\n"
     ]
    }
   ],
   "source": [
    "matrix =[\n",
    "  [0,1,1,1],\n",
    "  [1,1,1,1],\n",
    "  [0,1,1,1]\n",
    "]\n",
    "dp = matrix\n",
    "matrix[0]= 1\n",
    "print(id(matrix),id(dp),matrix,dp)"
   ]
  },
  {
   "cell_type": "code",
   "execution_count": 69,
   "metadata": {},
   "outputs": [
    {
     "name": "stdout",
     "output_type": "stream",
     "text": [
      " 1 2 3 4 5\n"
     ]
    },
    {
     "name": "stdout",
     "output_type": "stream",
     "text": [
      "14\n"
     ]
    },
    {
     "name": "stdout",
     "output_type": "stream",
     "text": [
      " fds a\n"
     ]
    }
   ],
   "source": [
    "try:\n",
    "    while True:\n",
    "        num  = list(map(int,input().split()))\n",
    "        print(sum(num[1:]))\n",
    "except:\n",
    "    pass\n"
   ]
  },
  {
   "cell_type": "code",
   "execution_count": 74,
   "metadata": {},
   "outputs": [
    {
     "name": "stdout",
     "output_type": "stream",
     "text": [
      "[] []\n"
     ]
    }
   ],
   "source": [
    "a= [1]\n",
    "print(a[:-1],a[1:])"
   ]
  },
  {
   "cell_type": "code",
   "execution_count": 30,
   "metadata": {},
   "outputs": [
    {
     "name": "stdout",
     "output_type": "stream",
     "text": [
      "[1, 100, 3, 5, 6] [1, 100, 3, 5, 6]\n"
     ]
    }
   ],
   "source": [
    "a = [1,3,3,5,6]\n",
    "def test():\n",
    "    a[1] =100\n",
    "    return a\n",
    "print(a,test())"
   ]
  },
  {
   "cell_type": "code",
   "execution_count": 79,
   "metadata": {},
   "outputs": [
    {
     "name": "stdout",
     "output_type": "stream",
     "text": [
      "4\n"
     ]
    }
   ],
   "source": [
    "nums = [1,4,3,9,1,2,11]\n",
    "nums.sort()\n",
    "if not nums:\n",
    "    return 0\n",
    "maxLen = 1\n",
    "for i in range(len(nums)-1):\n",
    "    for j in range(i+1,len(nums)):\n",
    "        if j - i + 1 > maxLen and j - i == nums[j] -nums[i]:\n",
    "            maxLen = j-i +1\n",
    "return maxLen"
   ]
  },
  {
   "cell_type": "code",
   "execution_count": null,
   "metadata": {},
   "outputs": [],
   "source": [
    "n, k = map(int,input().split())\n",
    "nums = list(map(int,input().split()))\n",
    "def count():\n",
    "    maxCount = max(nums)\n",
    "    global k\n",
    "    for i in range(len(nums)):\n",
    "        if maxCount > nums[i]:\n",
    "            temp = maxCount - nums[i]\n",
    "            nums[i] = maxCount           \n",
    "            k -= temp        \n",
    "    if k <= 0:\n",
    "        return maxCount\n",
    "    else:\n",
    "        if k % n ==0:\n",
    "            return maxCount + k//n \n",
    "        else:\n",
    "            return maxCount  + k//n +1\n",
    "    \n",
    "print(count())"
   ]
  },
  {
   "cell_type": "code",
   "execution_count": 91,
   "metadata": {},
   "outputs": [
    {
     "name": "stdout",
     "output_type": "stream",
     "text": [
      " 5 2\n"
     ]
    },
    {
     "name": "stdout",
     "output_type": "stream",
     "text": [
      "活 d% 0\n",
      "活 d% 1\n"
     ]
    }
   ],
   "source": [
    "m,n = map(int,input().split())\n",
    "res = 0\n",
    "for i in range(1,n+1):\n",
    "    res = (res + m)%i\n",
    "    print(\"活 d%\" ,res)\n",
    "    "
   ]
  },
  {
   "cell_type": "code",
   "execution_count": 15,
   "metadata": {},
   "outputs": [
    {
     "name": "stdout",
     "output_type": "stream",
     "text": [
      "[[1, 2, 3], [1, 3, 2], [2, 1, 3], [2, 3, 1], [3, 1, 2], [3, 2, 1]]\n"
     ]
    }
   ],
   "source": [
    "def permute(nums):\n",
    "    \"\"\"\n",
    "    :type nums: List[int]\n",
    "    :rtype: List[List[int]]\n",
    "    \"\"\"\n",
    "    ### size是数组的大小，depth是当前遍历的深度，它的大小和path大小一样\n",
    "    ##path是存储已遍历点的数组，used是用来判断原数组哪些点已经用了，还是否可用，res是返回最后的结果\n",
    "    def dfs(nums, size, depth, path, used, res):\n",
    "            if depth == size:\n",
    "                ##这里着实不懂为什么不是path,而是path[:]呢\n",
    "                res.append(path[:])\n",
    "                return\n",
    "\n",
    "            for i in range(size):\n",
    "                if not used[i]:\n",
    "                    used[i] = True\n",
    "                    path  += [nums[i]]\n",
    "                    # path.append(nums[i])\n",
    "\n",
    "                    dfs(nums, size, depth+1, path, used, res)\n",
    "\n",
    "                    used[i] = False\n",
    "                    path.pop()\n",
    "\n",
    "    size = len(nums)\n",
    "    if len(nums) == 0:\n",
    "        return []\n",
    "\n",
    "    used = [False for _ in range(size)]\n",
    "    res = []\n",
    "    dfs(nums, size, 0, [], used, res)\n",
    "    return res\n",
    "print(permute([1,2,3]))\n",
    "\n",
    "\n"
   ]
  },
  {
   "cell_type": "markdown",
   "metadata": {},
   "source": [
    "### 39 组合总和"
   ]
  },
  {
   "cell_type": "code",
   "execution_count": 13,
   "metadata": {},
   "outputs": [
    {
     "name": "stdout",
     "output_type": "stream",
     "text": [
      "2 [7]\n"
     ]
    }
   ],
   "source": [
    "nums = [2,3,6,7]\n",
    "target = 7\n",
    "def combinationSum(target):\n",
    "    def dfs(nums,count,begin,path,target):\n",
    "        if target < 0:\n",
    "            return \n",
    "        elif target == 0:\n",
    "            count +=1 #这个count没用，局部变量\n",
    "#             res.append(path)\n",
    "            res.append(path[:])\n",
    "            return \n",
    "        for i in range(begin,len(nums)):\n",
    "#             path.append(nums[i])\n",
    "            dfs(nums,count,i,path+[nums[i]],target - nums[i])\n",
    "#             dfs(nums,count,i,path,target - nums[i])\n",
    "#             path.pop()\n",
    "        return count\n",
    "    res = []\n",
    "    path = []\n",
    "    if min(nums) > target:\n",
    "        return res\n",
    "\n",
    "    count = dfs(nums,0,0,path,target)\n",
    "    return res\n",
    "res = combinationSum(target)\n",
    "resMax = min(res,key = len)\n",
    "print(len(res),resMax)"
   ]
  },
  {
   "cell_type": "code",
   "execution_count": 120,
   "metadata": {},
   "outputs": [
    {
     "name": "stdout",
     "output_type": "stream",
     "text": [
      "4\n",
      "0 [1, 3, 4, 100] [1, 3, 4, 100]\n"
     ]
    }
   ],
   "source": [
    "path1 = [1,3,4]\n",
    "a = 0\n",
    "def b(a):\n",
    "#     global a\n",
    "    a += 1\n",
    "    print(4)\n",
    "    path1.append(100)\n",
    "    return path1\n",
    "print(a,b(a),path1)"
   ]
  },
  {
   "cell_type": "code",
   "execution_count": 138,
   "metadata": {},
   "outputs": [
    {
     "name": "stdout",
     "output_type": "stream",
     "text": [
      "0\n"
     ]
    }
   ],
   "source": [
    "def x(a):\n",
    "    def y(a):\n",
    "        a += 1\n",
    "        return a\n",
    "    while a <100:\n",
    "        a =  y(a)//这就可以输出100了\n",
    "#         y(a)//这永远只能输出为0 \n",
    "    return a\n",
    "print(x(0))"
   ]
  },
  {
   "cell_type": "code",
   "execution_count": 21,
   "metadata": {},
   "outputs": [
    {
     "name": "stdout",
     "output_type": "stream",
     "text": [
      "[1, 3, 4, 5, 1] None\n"
     ]
    }
   ],
   "source": [
    "path2 = [1,3,4]\n",
    "path2 += [5]\n",
    "def yz(x):\n",
    "    path2.append(1)\n",
    "    \n",
    "print(path2,yz(path2))"
   ]
  },
  {
   "cell_type": "code",
   "execution_count": 25,
   "metadata": {},
   "outputs": [
    {
     "name": "stdout",
     "output_type": "stream",
     "text": [
      "(100, [1, 2, 1, 2, 3, 4, 5, 6, 7, 8, 9, 10, 11, 12, 13, 14, 15, 16, 17, 18, 19, 20, 21, 22, 23, 24, 25, 26, 27, 28, 29, 30, 31, 32, 33, 34, 35, 36, 37, 38, 39, 40, 41, 42, 43, 44, 45, 46, 47, 48, 49, 50, 51, 52, 53, 54, 55, 56, 57, 58, 59, 60, 61, 62, 63, 64, 65, 66, 67, 68, 69, 70, 71, 72, 73, 74, 75, 76, 77, 78, 79, 80, 81, 82, 83, 84, 85, 86, 87, 88, 89, 90, 91, 92, 93, 94, 95, 96, 97, 98, 99, 100])\n"
     ]
    }
   ],
   "source": [
    "\n",
    "def x(a):\n",
    "    y1  = [1,2]\n",
    "    def y(a):\n",
    "        a += 1\n",
    "        y1.append(a)\n",
    "        return a\n",
    "    while a <100:\n",
    "        a =  y(a)#这就可以输出100了\n",
    "#         y(a)//这永远只能输出为0 \n",
    "    return a,y1\n",
    "print(x(0))"
   ]
  },
  {
   "cell_type": "code",
   "execution_count": 34,
   "metadata": {},
   "outputs": [
    {
     "name": "stdout",
     "output_type": "stream",
     "text": [
      "['a', 'b', 'c'] a-b-c ['a', 'b', 'c'] a b c\n"
     ]
    }
   ],
   "source": [
    "a = [\"a\",\"b\",\"c\"]\n",
    "b = \"-\".join(map(str,a))\n",
    "c = []\n",
    "c+= a[:]\n",
    "print(a,b,c,*a)"
   ]
  },
  {
   "cell_type": "code",
   "execution_count": 36,
   "metadata": {},
   "outputs": [
    {
     "name": "stdout",
     "output_type": "stream",
     "text": [
      "c\n"
     ]
    }
   ],
   "source": [
    "a = \"abcd\"\n",
    "print(a[2])"
   ]
  },
  {
   "cell_type": "code",
   "execution_count": 16,
   "metadata": {},
   "outputs": [
    {
     "name": "stdout",
     "output_type": "stream",
     "text": [
      " 5 5\n"
     ]
    },
    {
     "name": "stdout",
     "output_type": "stream",
     "text": [
      "1 4\n",
      "2 3\n",
      "5\n"
     ]
    }
   ],
   "source": [
    "##思迈特组数之和\n",
    "n, target = map(int,input().split())\n",
    "nums = [x for x in range(1,n+1)]\n",
    "def dfs(nums,begin,path,res,target):\n",
    "    if target == 0:\n",
    "        res.append(path)\n",
    "        return \n",
    "    for i in range(begin,n):\n",
    "        if target < 0:\n",
    "            break\n",
    "        dfs(nums,i +1,path + [nums[i]],res,target - nums[i])\n",
    "\n",
    "path,res = [],[]\n",
    "dfs(nums,0,path,res,target)\n",
    "\n",
    "for i in res:\n",
    "    print(*i)"
   ]
  },
  {
   "cell_type": "code",
   "execution_count": 18,
   "metadata": {},
   "outputs": [
    {
     "ename": "IndexError",
     "evalue": "list assignment index out of range",
     "output_type": "error",
     "traceback": [
      "\u001b[1;31m---------------------------------------------------------------------------\u001b[0m",
      "\u001b[1;31mIndexError\u001b[0m                                Traceback (most recent call last)",
      "\u001b[1;32m<ipython-input-18-bbfe667519ef>\u001b[0m in \u001b[0;36m<module>\u001b[1;34m\u001b[0m\n\u001b[0;32m      1\u001b[0m \u001b[0mnums\u001b[0m \u001b[1;33m=\u001b[0m \u001b[1;33m[\u001b[0m\u001b[1;33m]\u001b[0m\u001b[1;33m*\u001b[0m\u001b[1;36m5\u001b[0m\u001b[1;33m\u001b[0m\u001b[1;33m\u001b[0m\u001b[0m\n\u001b[1;32m----> 2\u001b[1;33m \u001b[0mnums\u001b[0m\u001b[1;33m[\u001b[0m\u001b[1;36m0\u001b[0m\u001b[1;33m]\u001b[0m \u001b[1;33m=\u001b[0m \u001b[1;36m1\u001b[0m\u001b[1;33m\u001b[0m\u001b[1;33m\u001b[0m\u001b[0m\n\u001b[0m\u001b[0;32m      3\u001b[0m \u001b[0mprint\u001b[0m\u001b[1;33m(\u001b[0m\u001b[0mnums\u001b[0m\u001b[1;33m)\u001b[0m\u001b[1;33m\u001b[0m\u001b[1;33m\u001b[0m\u001b[0m\n",
      "\u001b[1;31mIndexError\u001b[0m: list assignment index out of range"
     ]
    }
   ],
   "source": [
    "nums = []*5\n",
    "nums[0] = 1\n",
    "print(nums)"
   ]
  },
  {
   "cell_type": "code",
   "execution_count": null,
   "metadata": {},
   "outputs": [],
   "source": [
    "##注意 remove()删除尽量少用\n",
    "a = [1,2,3,1,2,4,5]\n",
    "hashmap = {}\n",
    "for i in a:\n",
    "    hashmap[i] = hashmap.get(i,0) + 1\n",
    "\n",
    "for i in a:\n",
    "    if hashmap[i] > 1:\n",
    "        a.remove(i)\n",
    "\n",
    "print(a,hashmap)##[2, 3, 2, 4, 5] {1: 2, 2: 2, 3: 1, 4: 1, 5: 1}"
   ]
  }
 ],
 "metadata": {
  "kernelspec": {
   "display_name": "Python 3.9.7 64-bit",
   "language": "python",
   "name": "python3"
  },
  "language_info": {
   "codemirror_mode": {
    "name": "ipython",
    "version": 3
   },
   "file_extension": ".py",
   "mimetype": "text/x-python",
   "name": "python",
   "nbconvert_exporter": "python",
   "pygments_lexer": "ipython3",
   "version": "3.9.7"
  },
  "vscode": {
   "interpreter": {
    "hash": "f9f85f796d01129d0dd105a088854619f454435301f6ffec2fea96ecbd9be4ac"
   }
  }
 },
 "nbformat": 4,
 "nbformat_minor": 4
}
